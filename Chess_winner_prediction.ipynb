{
 "cells": [
  {
   "cell_type": "markdown",
   "metadata": {},
   "source": [
    "# Prediction of White player winning probability"
   ]
  },
  {
   "cell_type": "code",
   "execution_count": null,
   "metadata": {},
   "outputs": [],
   "source": []
  },
  {
   "cell_type": "markdown",
   "metadata": {},
   "source": [
    "Prediction of White player winning probability using 10 classification model and comparing the performance of all these models and select the best one according the F1 score and AUC score "
   ]
  },
  {
   "cell_type": "code",
   "execution_count": 4,
   "metadata": {},
   "outputs": [],
   "source": [
    "#import libraries\n",
    "import pandas as pd\n",
    "import numpy as np\n",
    "import matplotlib.pyplot as plt\n",
    "plt.rcParams.update({'figure.figsize':(12,8), 'figure.dpi':100})\n",
    "import seaborn as sns \n",
    "\n",
    "\n",
    "from sklearn.linear_model import LogisticRegression\n",
    "from sklearn.neighbors import KNeighborsClassifier\n",
    "from sklearn.naive_bayes import GaussianNB\n",
    "from sklearn.svm import SVC\n",
    "from sklearn.tree import DecisionTreeClassifier\n",
    "from sklearn.ensemble import RandomForestClassifier\n",
    "from sklearn.ensemble import AdaBoostClassifier\n",
    "from catboost import CatBoostClassifier\n",
    "from xgboost import XGBClassifier\n",
    "from lightgbm import LGBMClassifier\n",
    "\n",
    "\n",
    "from sklearn.model_selection import GridSearchCV\n",
    "from sklearn.metrics import classification_report\n",
    "from sklearn.metrics import accuracy_score, precision_score, recall_score, f1_score, confusion_matrix"
   ]
  },
  {
   "cell_type": "code",
   "execution_count": 5,
   "metadata": {},
   "outputs": [],
   "source": [
    "#Load dataset\n",
    "df = pd.read_csv('games.csv')"
   ]
  },
  {
   "cell_type": "code",
   "execution_count": 6,
   "metadata": {
    "scrolled": true
   },
   "outputs": [
    {
     "data": {
      "text/html": [
       "<div>\n",
       "<style scoped>\n",
       "    .dataframe tbody tr th:only-of-type {\n",
       "        vertical-align: middle;\n",
       "    }\n",
       "\n",
       "    .dataframe tbody tr th {\n",
       "        vertical-align: top;\n",
       "    }\n",
       "\n",
       "    .dataframe thead th {\n",
       "        text-align: right;\n",
       "    }\n",
       "</style>\n",
       "<table border=\"1\" class=\"dataframe\">\n",
       "  <thead>\n",
       "    <tr style=\"text-align: right;\">\n",
       "      <th></th>\n",
       "      <th>id</th>\n",
       "      <th>rated</th>\n",
       "      <th>created_at</th>\n",
       "      <th>last_move_at</th>\n",
       "      <th>turns</th>\n",
       "      <th>victory_status</th>\n",
       "      <th>winner</th>\n",
       "      <th>increment_code</th>\n",
       "      <th>white_id</th>\n",
       "      <th>white_rating</th>\n",
       "      <th>black_id</th>\n",
       "      <th>black_rating</th>\n",
       "      <th>moves</th>\n",
       "      <th>opening_eco</th>\n",
       "      <th>opening_name</th>\n",
       "      <th>opening_ply</th>\n",
       "    </tr>\n",
       "  </thead>\n",
       "  <tbody>\n",
       "    <tr>\n",
       "      <th>0</th>\n",
       "      <td>TZJHLljE</td>\n",
       "      <td>False</td>\n",
       "      <td>1.504210e+12</td>\n",
       "      <td>1.504210e+12</td>\n",
       "      <td>13</td>\n",
       "      <td>outoftime</td>\n",
       "      <td>white</td>\n",
       "      <td>15+2</td>\n",
       "      <td>bourgris</td>\n",
       "      <td>1500</td>\n",
       "      <td>a-00</td>\n",
       "      <td>1191</td>\n",
       "      <td>d4 d5 c4 c6 cxd5 e6 dxe6 fxe6 Nf3 Bb4+ Nc3 Ba5...</td>\n",
       "      <td>D10</td>\n",
       "      <td>Slav Defense: Exchange Variation</td>\n",
       "      <td>5</td>\n",
       "    </tr>\n",
       "    <tr>\n",
       "      <th>1</th>\n",
       "      <td>l1NXvwaE</td>\n",
       "      <td>True</td>\n",
       "      <td>1.504130e+12</td>\n",
       "      <td>1.504130e+12</td>\n",
       "      <td>16</td>\n",
       "      <td>resign</td>\n",
       "      <td>black</td>\n",
       "      <td>5+10</td>\n",
       "      <td>a-00</td>\n",
       "      <td>1322</td>\n",
       "      <td>skinnerua</td>\n",
       "      <td>1261</td>\n",
       "      <td>d4 Nc6 e4 e5 f4 f6 dxe5 fxe5 fxe5 Nxe5 Qd4 Nc6...</td>\n",
       "      <td>B00</td>\n",
       "      <td>Nimzowitsch Defense: Kennedy Variation</td>\n",
       "      <td>4</td>\n",
       "    </tr>\n",
       "    <tr>\n",
       "      <th>2</th>\n",
       "      <td>mIICvQHh</td>\n",
       "      <td>True</td>\n",
       "      <td>1.504130e+12</td>\n",
       "      <td>1.504130e+12</td>\n",
       "      <td>61</td>\n",
       "      <td>mate</td>\n",
       "      <td>white</td>\n",
       "      <td>5+10</td>\n",
       "      <td>ischia</td>\n",
       "      <td>1496</td>\n",
       "      <td>a-00</td>\n",
       "      <td>1500</td>\n",
       "      <td>e4 e5 d3 d6 Be3 c6 Be2 b5 Nd2 a5 a4 c5 axb5 Nc...</td>\n",
       "      <td>C20</td>\n",
       "      <td>King's Pawn Game: Leonardis Variation</td>\n",
       "      <td>3</td>\n",
       "    </tr>\n",
       "    <tr>\n",
       "      <th>3</th>\n",
       "      <td>kWKvrqYL</td>\n",
       "      <td>True</td>\n",
       "      <td>1.504110e+12</td>\n",
       "      <td>1.504110e+12</td>\n",
       "      <td>61</td>\n",
       "      <td>mate</td>\n",
       "      <td>white</td>\n",
       "      <td>20+0</td>\n",
       "      <td>daniamurashov</td>\n",
       "      <td>1439</td>\n",
       "      <td>adivanov2009</td>\n",
       "      <td>1454</td>\n",
       "      <td>d4 d5 Nf3 Bf5 Nc3 Nf6 Bf4 Ng4 e3 Nc6 Be2 Qd7 O...</td>\n",
       "      <td>D02</td>\n",
       "      <td>Queen's Pawn Game: Zukertort Variation</td>\n",
       "      <td>3</td>\n",
       "    </tr>\n",
       "    <tr>\n",
       "      <th>4</th>\n",
       "      <td>9tXo1AUZ</td>\n",
       "      <td>True</td>\n",
       "      <td>1.504030e+12</td>\n",
       "      <td>1.504030e+12</td>\n",
       "      <td>95</td>\n",
       "      <td>mate</td>\n",
       "      <td>white</td>\n",
       "      <td>30+3</td>\n",
       "      <td>nik221107</td>\n",
       "      <td>1523</td>\n",
       "      <td>adivanov2009</td>\n",
       "      <td>1469</td>\n",
       "      <td>e4 e5 Nf3 d6 d4 Nc6 d5 Nb4 a3 Na6 Nc3 Be7 b4 N...</td>\n",
       "      <td>C41</td>\n",
       "      <td>Philidor Defense</td>\n",
       "      <td>5</td>\n",
       "    </tr>\n",
       "  </tbody>\n",
       "</table>\n",
       "</div>"
      ],
      "text/plain": [
       "         id  rated    created_at  last_move_at  turns victory_status winner  \\\n",
       "0  TZJHLljE  False  1.504210e+12  1.504210e+12     13      outoftime  white   \n",
       "1  l1NXvwaE   True  1.504130e+12  1.504130e+12     16         resign  black   \n",
       "2  mIICvQHh   True  1.504130e+12  1.504130e+12     61           mate  white   \n",
       "3  kWKvrqYL   True  1.504110e+12  1.504110e+12     61           mate  white   \n",
       "4  9tXo1AUZ   True  1.504030e+12  1.504030e+12     95           mate  white   \n",
       "\n",
       "  increment_code       white_id  white_rating      black_id  black_rating  \\\n",
       "0           15+2       bourgris          1500          a-00          1191   \n",
       "1           5+10           a-00          1322     skinnerua          1261   \n",
       "2           5+10         ischia          1496          a-00          1500   \n",
       "3           20+0  daniamurashov          1439  adivanov2009          1454   \n",
       "4           30+3      nik221107          1523  adivanov2009          1469   \n",
       "\n",
       "                                               moves opening_eco  \\\n",
       "0  d4 d5 c4 c6 cxd5 e6 dxe6 fxe6 Nf3 Bb4+ Nc3 Ba5...         D10   \n",
       "1  d4 Nc6 e4 e5 f4 f6 dxe5 fxe5 fxe5 Nxe5 Qd4 Nc6...         B00   \n",
       "2  e4 e5 d3 d6 Be3 c6 Be2 b5 Nd2 a5 a4 c5 axb5 Nc...         C20   \n",
       "3  d4 d5 Nf3 Bf5 Nc3 Nf6 Bf4 Ng4 e3 Nc6 Be2 Qd7 O...         D02   \n",
       "4  e4 e5 Nf3 d6 d4 Nc6 d5 Nb4 a3 Na6 Nc3 Be7 b4 N...         C41   \n",
       "\n",
       "                             opening_name  opening_ply  \n",
       "0        Slav Defense: Exchange Variation            5  \n",
       "1  Nimzowitsch Defense: Kennedy Variation            4  \n",
       "2   King's Pawn Game: Leonardis Variation            3  \n",
       "3  Queen's Pawn Game: Zukertort Variation            3  \n",
       "4                        Philidor Defense            5  "
      ]
     },
     "execution_count": 6,
     "metadata": {},
     "output_type": "execute_result"
    }
   ],
   "source": [
    "#print head in order to have a quick view\n",
    "df.head()"
   ]
  },
  {
   "cell_type": "code",
   "execution_count": 7,
   "metadata": {},
   "outputs": [
    {
     "data": {
      "text/plain": [
       "(20058, 16)"
      ]
     },
     "execution_count": 7,
     "metadata": {},
     "output_type": "execute_result"
    }
   ],
   "source": [
    "#print the shape of data\n",
    "df.shape"
   ]
  },
  {
   "cell_type": "code",
   "execution_count": 8,
   "metadata": {},
   "outputs": [
    {
     "data": {
      "text/plain": [
       "Index(['id', 'rated', 'created_at', 'last_move_at', 'turns', 'victory_status',\n",
       "       'winner', 'increment_code', 'white_id', 'white_rating', 'black_id',\n",
       "       'black_rating', 'moves', 'opening_eco', 'opening_name', 'opening_ply'],\n",
       "      dtype='object')"
      ]
     },
     "execution_count": 8,
     "metadata": {},
     "output_type": "execute_result"
    }
   ],
   "source": [
    "#Print the columns of dataset\n",
    "df.columns"
   ]
  },
  {
   "cell_type": "code",
   "execution_count": 9,
   "metadata": {},
   "outputs": [
    {
     "data": {
      "text/plain": [
       "id                 object\n",
       "rated                bool\n",
       "created_at        float64\n",
       "last_move_at      float64\n",
       "turns               int64\n",
       "victory_status     object\n",
       "winner             object\n",
       "increment_code     object\n",
       "white_id           object\n",
       "white_rating        int64\n",
       "black_id           object\n",
       "black_rating        int64\n",
       "moves              object\n",
       "opening_eco        object\n",
       "opening_name       object\n",
       "opening_ply         int64\n",
       "dtype: object"
      ]
     },
     "execution_count": 9,
     "metadata": {},
     "output_type": "execute_result"
    }
   ],
   "source": [
    "#lets see the datatypes of features\n",
    "df.dtypes"
   ]
  },
  {
   "cell_type": "markdown",
   "metadata": {},
   "source": [
    "As we can see there is many object types of data "
   ]
  },
  {
   "cell_type": "code",
   "execution_count": 10,
   "metadata": {},
   "outputs": [
    {
     "name": "stdout",
     "output_type": "stream",
     "text": [
      "<class 'pandas.core.frame.DataFrame'>\n",
      "RangeIndex: 20058 entries, 0 to 20057\n",
      "Data columns (total 16 columns):\n",
      " #   Column          Non-Null Count  Dtype  \n",
      "---  ------          --------------  -----  \n",
      " 0   id              20058 non-null  object \n",
      " 1   rated           20058 non-null  bool   \n",
      " 2   created_at      20058 non-null  float64\n",
      " 3   last_move_at    20058 non-null  float64\n",
      " 4   turns           20058 non-null  int64  \n",
      " 5   victory_status  20058 non-null  object \n",
      " 6   winner          20058 non-null  object \n",
      " 7   increment_code  20058 non-null  object \n",
      " 8   white_id        20058 non-null  object \n",
      " 9   white_rating    20058 non-null  int64  \n",
      " 10  black_id        20058 non-null  object \n",
      " 11  black_rating    20058 non-null  int64  \n",
      " 12  moves           20058 non-null  object \n",
      " 13  opening_eco     20058 non-null  object \n",
      " 14  opening_name    20058 non-null  object \n",
      " 15  opening_ply     20058 non-null  int64  \n",
      "dtypes: bool(1), float64(2), int64(4), object(9)\n",
      "memory usage: 2.3+ MB\n"
     ]
    }
   ],
   "source": [
    "df.info()"
   ]
  },
  {
   "cell_type": "code",
   "execution_count": 11,
   "metadata": {},
   "outputs": [
    {
     "data": {
      "text/plain": [
       "id                0\n",
       "rated             0\n",
       "created_at        0\n",
       "last_move_at      0\n",
       "turns             0\n",
       "victory_status    0\n",
       "winner            0\n",
       "increment_code    0\n",
       "white_id          0\n",
       "white_rating      0\n",
       "black_id          0\n",
       "black_rating      0\n",
       "moves             0\n",
       "opening_eco       0\n",
       "opening_name      0\n",
       "opening_ply       0\n",
       "dtype: int64"
      ]
     },
     "execution_count": 11,
     "metadata": {},
     "output_type": "execute_result"
    }
   ],
   "source": [
    "#check the missing values\n",
    "df.isnull().sum()"
   ]
  },
  {
   "cell_type": "markdown",
   "metadata": {},
   "source": [
    "So, there is no missing values "
   ]
  },
  {
   "cell_type": "code",
   "execution_count": 12,
   "metadata": {},
   "outputs": [
    {
     "data": {
      "text/html": [
       "<div>\n",
       "<style scoped>\n",
       "    .dataframe tbody tr th:only-of-type {\n",
       "        vertical-align: middle;\n",
       "    }\n",
       "\n",
       "    .dataframe tbody tr th {\n",
       "        vertical-align: top;\n",
       "    }\n",
       "\n",
       "    .dataframe thead th {\n",
       "        text-align: right;\n",
       "    }\n",
       "</style>\n",
       "<table border=\"1\" class=\"dataframe\">\n",
       "  <thead>\n",
       "    <tr style=\"text-align: right;\">\n",
       "      <th></th>\n",
       "      <th>count</th>\n",
       "      <th>unique</th>\n",
       "      <th>top</th>\n",
       "      <th>freq</th>\n",
       "      <th>mean</th>\n",
       "      <th>std</th>\n",
       "      <th>min</th>\n",
       "      <th>25%</th>\n",
       "      <th>50%</th>\n",
       "      <th>75%</th>\n",
       "      <th>max</th>\n",
       "    </tr>\n",
       "  </thead>\n",
       "  <tbody>\n",
       "    <tr>\n",
       "      <th>id</th>\n",
       "      <td>20058</td>\n",
       "      <td>19113</td>\n",
       "      <td>XRuQPSzH</td>\n",
       "      <td>5</td>\n",
       "      <td>NaN</td>\n",
       "      <td>NaN</td>\n",
       "      <td>NaN</td>\n",
       "      <td>NaN</td>\n",
       "      <td>NaN</td>\n",
       "      <td>NaN</td>\n",
       "      <td>NaN</td>\n",
       "    </tr>\n",
       "    <tr>\n",
       "      <th>rated</th>\n",
       "      <td>20058</td>\n",
       "      <td>2</td>\n",
       "      <td>True</td>\n",
       "      <td>16155</td>\n",
       "      <td>NaN</td>\n",
       "      <td>NaN</td>\n",
       "      <td>NaN</td>\n",
       "      <td>NaN</td>\n",
       "      <td>NaN</td>\n",
       "      <td>NaN</td>\n",
       "      <td>NaN</td>\n",
       "    </tr>\n",
       "    <tr>\n",
       "      <th>created_at</th>\n",
       "      <td>20058.0</td>\n",
       "      <td>NaN</td>\n",
       "      <td>NaN</td>\n",
       "      <td>NaN</td>\n",
       "      <td>1483616852629.092529</td>\n",
       "      <td>28501509421.004791</td>\n",
       "      <td>1376771633173.0</td>\n",
       "      <td>1477547500000.0</td>\n",
       "      <td>1496010000000.0</td>\n",
       "      <td>1503170000000.0</td>\n",
       "      <td>1504493143790.0</td>\n",
       "    </tr>\n",
       "    <tr>\n",
       "      <th>last_move_at</th>\n",
       "      <td>20058.0</td>\n",
       "      <td>NaN</td>\n",
       "      <td>NaN</td>\n",
       "      <td>NaN</td>\n",
       "      <td>1483617722336.14209</td>\n",
       "      <td>28501400588.890018</td>\n",
       "      <td>1376771863841.0</td>\n",
       "      <td>1477547500000.0</td>\n",
       "      <td>1496010000000.0</td>\n",
       "      <td>1503170000000.0</td>\n",
       "      <td>1504493827262.0</td>\n",
       "    </tr>\n",
       "    <tr>\n",
       "      <th>turns</th>\n",
       "      <td>20058.0</td>\n",
       "      <td>NaN</td>\n",
       "      <td>NaN</td>\n",
       "      <td>NaN</td>\n",
       "      <td>60.465999</td>\n",
       "      <td>33.570585</td>\n",
       "      <td>1.0</td>\n",
       "      <td>37.0</td>\n",
       "      <td>55.0</td>\n",
       "      <td>79.0</td>\n",
       "      <td>349.0</td>\n",
       "    </tr>\n",
       "    <tr>\n",
       "      <th>victory_status</th>\n",
       "      <td>20058</td>\n",
       "      <td>4</td>\n",
       "      <td>resign</td>\n",
       "      <td>11147</td>\n",
       "      <td>NaN</td>\n",
       "      <td>NaN</td>\n",
       "      <td>NaN</td>\n",
       "      <td>NaN</td>\n",
       "      <td>NaN</td>\n",
       "      <td>NaN</td>\n",
       "      <td>NaN</td>\n",
       "    </tr>\n",
       "    <tr>\n",
       "      <th>winner</th>\n",
       "      <td>20058</td>\n",
       "      <td>3</td>\n",
       "      <td>white</td>\n",
       "      <td>10001</td>\n",
       "      <td>NaN</td>\n",
       "      <td>NaN</td>\n",
       "      <td>NaN</td>\n",
       "      <td>NaN</td>\n",
       "      <td>NaN</td>\n",
       "      <td>NaN</td>\n",
       "      <td>NaN</td>\n",
       "    </tr>\n",
       "    <tr>\n",
       "      <th>increment_code</th>\n",
       "      <td>20058</td>\n",
       "      <td>400</td>\n",
       "      <td>10+0</td>\n",
       "      <td>7721</td>\n",
       "      <td>NaN</td>\n",
       "      <td>NaN</td>\n",
       "      <td>NaN</td>\n",
       "      <td>NaN</td>\n",
       "      <td>NaN</td>\n",
       "      <td>NaN</td>\n",
       "      <td>NaN</td>\n",
       "    </tr>\n",
       "    <tr>\n",
       "      <th>white_id</th>\n",
       "      <td>20058</td>\n",
       "      <td>9438</td>\n",
       "      <td>taranga</td>\n",
       "      <td>72</td>\n",
       "      <td>NaN</td>\n",
       "      <td>NaN</td>\n",
       "      <td>NaN</td>\n",
       "      <td>NaN</td>\n",
       "      <td>NaN</td>\n",
       "      <td>NaN</td>\n",
       "      <td>NaN</td>\n",
       "    </tr>\n",
       "    <tr>\n",
       "      <th>white_rating</th>\n",
       "      <td>20058.0</td>\n",
       "      <td>NaN</td>\n",
       "      <td>NaN</td>\n",
       "      <td>NaN</td>\n",
       "      <td>1596.631868</td>\n",
       "      <td>291.253376</td>\n",
       "      <td>784.0</td>\n",
       "      <td>1398.0</td>\n",
       "      <td>1567.0</td>\n",
       "      <td>1793.0</td>\n",
       "      <td>2700.0</td>\n",
       "    </tr>\n",
       "    <tr>\n",
       "      <th>black_id</th>\n",
       "      <td>20058</td>\n",
       "      <td>9331</td>\n",
       "      <td>taranga</td>\n",
       "      <td>82</td>\n",
       "      <td>NaN</td>\n",
       "      <td>NaN</td>\n",
       "      <td>NaN</td>\n",
       "      <td>NaN</td>\n",
       "      <td>NaN</td>\n",
       "      <td>NaN</td>\n",
       "      <td>NaN</td>\n",
       "    </tr>\n",
       "    <tr>\n",
       "      <th>black_rating</th>\n",
       "      <td>20058.0</td>\n",
       "      <td>NaN</td>\n",
       "      <td>NaN</td>\n",
       "      <td>NaN</td>\n",
       "      <td>1588.831987</td>\n",
       "      <td>291.036126</td>\n",
       "      <td>789.0</td>\n",
       "      <td>1391.0</td>\n",
       "      <td>1562.0</td>\n",
       "      <td>1784.0</td>\n",
       "      <td>2723.0</td>\n",
       "    </tr>\n",
       "    <tr>\n",
       "      <th>moves</th>\n",
       "      <td>20058</td>\n",
       "      <td>18920</td>\n",
       "      <td>e4 e5</td>\n",
       "      <td>27</td>\n",
       "      <td>NaN</td>\n",
       "      <td>NaN</td>\n",
       "      <td>NaN</td>\n",
       "      <td>NaN</td>\n",
       "      <td>NaN</td>\n",
       "      <td>NaN</td>\n",
       "      <td>NaN</td>\n",
       "    </tr>\n",
       "    <tr>\n",
       "      <th>opening_eco</th>\n",
       "      <td>20058</td>\n",
       "      <td>365</td>\n",
       "      <td>A00</td>\n",
       "      <td>1007</td>\n",
       "      <td>NaN</td>\n",
       "      <td>NaN</td>\n",
       "      <td>NaN</td>\n",
       "      <td>NaN</td>\n",
       "      <td>NaN</td>\n",
       "      <td>NaN</td>\n",
       "      <td>NaN</td>\n",
       "    </tr>\n",
       "    <tr>\n",
       "      <th>opening_name</th>\n",
       "      <td>20058</td>\n",
       "      <td>1477</td>\n",
       "      <td>Van't Kruijs Opening</td>\n",
       "      <td>368</td>\n",
       "      <td>NaN</td>\n",
       "      <td>NaN</td>\n",
       "      <td>NaN</td>\n",
       "      <td>NaN</td>\n",
       "      <td>NaN</td>\n",
       "      <td>NaN</td>\n",
       "      <td>NaN</td>\n",
       "    </tr>\n",
       "    <tr>\n",
       "      <th>opening_ply</th>\n",
       "      <td>20058.0</td>\n",
       "      <td>NaN</td>\n",
       "      <td>NaN</td>\n",
       "      <td>NaN</td>\n",
       "      <td>4.816981</td>\n",
       "      <td>2.797152</td>\n",
       "      <td>1.0</td>\n",
       "      <td>3.0</td>\n",
       "      <td>4.0</td>\n",
       "      <td>6.0</td>\n",
       "      <td>28.0</td>\n",
       "    </tr>\n",
       "  </tbody>\n",
       "</table>\n",
       "</div>"
      ],
      "text/plain": [
       "                  count unique                   top   freq  \\\n",
       "id                20058  19113              XRuQPSzH      5   \n",
       "rated             20058      2                  True  16155   \n",
       "created_at      20058.0    NaN                   NaN    NaN   \n",
       "last_move_at    20058.0    NaN                   NaN    NaN   \n",
       "turns           20058.0    NaN                   NaN    NaN   \n",
       "victory_status    20058      4                resign  11147   \n",
       "winner            20058      3                 white  10001   \n",
       "increment_code    20058    400                  10+0   7721   \n",
       "white_id          20058   9438               taranga     72   \n",
       "white_rating    20058.0    NaN                   NaN    NaN   \n",
       "black_id          20058   9331               taranga     82   \n",
       "black_rating    20058.0    NaN                   NaN    NaN   \n",
       "moves             20058  18920                 e4 e5     27   \n",
       "opening_eco       20058    365                   A00   1007   \n",
       "opening_name      20058   1477  Van't Kruijs Opening    368   \n",
       "opening_ply     20058.0    NaN                   NaN    NaN   \n",
       "\n",
       "                                mean                 std              min  \\\n",
       "id                               NaN                 NaN              NaN   \n",
       "rated                            NaN                 NaN              NaN   \n",
       "created_at      1483616852629.092529  28501509421.004791  1376771633173.0   \n",
       "last_move_at     1483617722336.14209  28501400588.890018  1376771863841.0   \n",
       "turns                      60.465999           33.570585              1.0   \n",
       "victory_status                   NaN                 NaN              NaN   \n",
       "winner                           NaN                 NaN              NaN   \n",
       "increment_code                   NaN                 NaN              NaN   \n",
       "white_id                         NaN                 NaN              NaN   \n",
       "white_rating             1596.631868          291.253376            784.0   \n",
       "black_id                         NaN                 NaN              NaN   \n",
       "black_rating             1588.831987          291.036126            789.0   \n",
       "moves                            NaN                 NaN              NaN   \n",
       "opening_eco                      NaN                 NaN              NaN   \n",
       "opening_name                     NaN                 NaN              NaN   \n",
       "opening_ply                 4.816981            2.797152              1.0   \n",
       "\n",
       "                            25%              50%              75%  \\\n",
       "id                          NaN              NaN              NaN   \n",
       "rated                       NaN              NaN              NaN   \n",
       "created_at      1477547500000.0  1496010000000.0  1503170000000.0   \n",
       "last_move_at    1477547500000.0  1496010000000.0  1503170000000.0   \n",
       "turns                      37.0             55.0             79.0   \n",
       "victory_status              NaN              NaN              NaN   \n",
       "winner                      NaN              NaN              NaN   \n",
       "increment_code              NaN              NaN              NaN   \n",
       "white_id                    NaN              NaN              NaN   \n",
       "white_rating             1398.0           1567.0           1793.0   \n",
       "black_id                    NaN              NaN              NaN   \n",
       "black_rating             1391.0           1562.0           1784.0   \n",
       "moves                       NaN              NaN              NaN   \n",
       "opening_eco                 NaN              NaN              NaN   \n",
       "opening_name                NaN              NaN              NaN   \n",
       "opening_ply                 3.0              4.0              6.0   \n",
       "\n",
       "                            max  \n",
       "id                          NaN  \n",
       "rated                       NaN  \n",
       "created_at      1504493143790.0  \n",
       "last_move_at    1504493827262.0  \n",
       "turns                     349.0  \n",
       "victory_status              NaN  \n",
       "winner                      NaN  \n",
       "increment_code              NaN  \n",
       "white_id                    NaN  \n",
       "white_rating             2700.0  \n",
       "black_id                    NaN  \n",
       "black_rating             2723.0  \n",
       "moves                       NaN  \n",
       "opening_eco                 NaN  \n",
       "opening_name                NaN  \n",
       "opening_ply                28.0  "
      ]
     },
     "execution_count": 12,
     "metadata": {},
     "output_type": "execute_result"
    }
   ],
   "source": [
    "df.describe(include = 'all').T"
   ]
  },
  {
   "cell_type": "markdown",
   "metadata": {},
   "source": [
    "# I will clean all the columns one by one"
   ]
  },
  {
   "cell_type": "markdown",
   "metadata": {},
   "source": [
    "### first I will drop useless columns "
   ]
  },
  {
   "cell_type": "code",
   "execution_count": 13,
   "metadata": {},
   "outputs": [
    {
     "data": {
      "text/plain": [
       "0             0.0\n",
       "1             0.0\n",
       "2             0.0\n",
       "3             0.0\n",
       "4             0.0\n",
       "           ...   \n",
       "20053   -321734.0\n",
       "20054   -744219.0\n",
       "20055   -172834.0\n",
       "20056   -946699.0\n",
       "20057   -736699.0\n",
       "Name: difference, Length: 20058, dtype: float64"
      ]
     },
     "execution_count": 13,
     "metadata": {},
     "output_type": "execute_result"
    }
   ],
   "source": [
    "df['difference'] = df['created_at']-df['last_move_at']\n",
    "df['difference']"
   ]
  },
  {
   "cell_type": "markdown",
   "metadata": {},
   "source": [
    "I think these two columns does not make sense because if the player started and 13 tuens(I see in turn column for this perticular id) then they should take some time to play but the start and last move time difference is zero, hence for this is not useful for our prediction I will drop it "
   ]
  },
  {
   "cell_type": "code",
   "execution_count": 14,
   "metadata": {},
   "outputs": [],
   "source": [
    "df = df.drop(['created_at', 'last_move_at'],  axis = 1)"
   ]
  },
  {
   "cell_type": "markdown",
   "metadata": {},
   "source": [
    "I think black_id, white_id and increment_code is also not usefull so, I will drop it too"
   ]
  },
  {
   "cell_type": "code",
   "execution_count": 15,
   "metadata": {},
   "outputs": [],
   "source": [
    "df = df.drop(['increment_code', 'white_id', 'black_id', 'difference'], axis =1)"
   ]
  },
  {
   "cell_type": "code",
   "execution_count": 16,
   "metadata": {
    "scrolled": true
   },
   "outputs": [
    {
     "data": {
      "text/html": [
       "<div>\n",
       "<style scoped>\n",
       "    .dataframe tbody tr th:only-of-type {\n",
       "        vertical-align: middle;\n",
       "    }\n",
       "\n",
       "    .dataframe tbody tr th {\n",
       "        vertical-align: top;\n",
       "    }\n",
       "\n",
       "    .dataframe thead th {\n",
       "        text-align: right;\n",
       "    }\n",
       "</style>\n",
       "<table border=\"1\" class=\"dataframe\">\n",
       "  <thead>\n",
       "    <tr style=\"text-align: right;\">\n",
       "      <th></th>\n",
       "      <th>id</th>\n",
       "      <th>rated</th>\n",
       "      <th>turns</th>\n",
       "      <th>victory_status</th>\n",
       "      <th>winner</th>\n",
       "      <th>white_rating</th>\n",
       "      <th>black_rating</th>\n",
       "      <th>moves</th>\n",
       "      <th>opening_eco</th>\n",
       "      <th>opening_name</th>\n",
       "      <th>opening_ply</th>\n",
       "    </tr>\n",
       "  </thead>\n",
       "  <tbody>\n",
       "    <tr>\n",
       "      <th>0</th>\n",
       "      <td>TZJHLljE</td>\n",
       "      <td>False</td>\n",
       "      <td>13</td>\n",
       "      <td>outoftime</td>\n",
       "      <td>white</td>\n",
       "      <td>1500</td>\n",
       "      <td>1191</td>\n",
       "      <td>d4 d5 c4 c6 cxd5 e6 dxe6 fxe6 Nf3 Bb4+ Nc3 Ba5...</td>\n",
       "      <td>D10</td>\n",
       "      <td>Slav Defense: Exchange Variation</td>\n",
       "      <td>5</td>\n",
       "    </tr>\n",
       "    <tr>\n",
       "      <th>1</th>\n",
       "      <td>l1NXvwaE</td>\n",
       "      <td>True</td>\n",
       "      <td>16</td>\n",
       "      <td>resign</td>\n",
       "      <td>black</td>\n",
       "      <td>1322</td>\n",
       "      <td>1261</td>\n",
       "      <td>d4 Nc6 e4 e5 f4 f6 dxe5 fxe5 fxe5 Nxe5 Qd4 Nc6...</td>\n",
       "      <td>B00</td>\n",
       "      <td>Nimzowitsch Defense: Kennedy Variation</td>\n",
       "      <td>4</td>\n",
       "    </tr>\n",
       "    <tr>\n",
       "      <th>2</th>\n",
       "      <td>mIICvQHh</td>\n",
       "      <td>True</td>\n",
       "      <td>61</td>\n",
       "      <td>mate</td>\n",
       "      <td>white</td>\n",
       "      <td>1496</td>\n",
       "      <td>1500</td>\n",
       "      <td>e4 e5 d3 d6 Be3 c6 Be2 b5 Nd2 a5 a4 c5 axb5 Nc...</td>\n",
       "      <td>C20</td>\n",
       "      <td>King's Pawn Game: Leonardis Variation</td>\n",
       "      <td>3</td>\n",
       "    </tr>\n",
       "    <tr>\n",
       "      <th>3</th>\n",
       "      <td>kWKvrqYL</td>\n",
       "      <td>True</td>\n",
       "      <td>61</td>\n",
       "      <td>mate</td>\n",
       "      <td>white</td>\n",
       "      <td>1439</td>\n",
       "      <td>1454</td>\n",
       "      <td>d4 d5 Nf3 Bf5 Nc3 Nf6 Bf4 Ng4 e3 Nc6 Be2 Qd7 O...</td>\n",
       "      <td>D02</td>\n",
       "      <td>Queen's Pawn Game: Zukertort Variation</td>\n",
       "      <td>3</td>\n",
       "    </tr>\n",
       "    <tr>\n",
       "      <th>4</th>\n",
       "      <td>9tXo1AUZ</td>\n",
       "      <td>True</td>\n",
       "      <td>95</td>\n",
       "      <td>mate</td>\n",
       "      <td>white</td>\n",
       "      <td>1523</td>\n",
       "      <td>1469</td>\n",
       "      <td>e4 e5 Nf3 d6 d4 Nc6 d5 Nb4 a3 Na6 Nc3 Be7 b4 N...</td>\n",
       "      <td>C41</td>\n",
       "      <td>Philidor Defense</td>\n",
       "      <td>5</td>\n",
       "    </tr>\n",
       "  </tbody>\n",
       "</table>\n",
       "</div>"
      ],
      "text/plain": [
       "         id  rated  turns victory_status winner  white_rating  black_rating  \\\n",
       "0  TZJHLljE  False     13      outoftime  white          1500          1191   \n",
       "1  l1NXvwaE   True     16         resign  black          1322          1261   \n",
       "2  mIICvQHh   True     61           mate  white          1496          1500   \n",
       "3  kWKvrqYL   True     61           mate  white          1439          1454   \n",
       "4  9tXo1AUZ   True     95           mate  white          1523          1469   \n",
       "\n",
       "                                               moves opening_eco  \\\n",
       "0  d4 d5 c4 c6 cxd5 e6 dxe6 fxe6 Nf3 Bb4+ Nc3 Ba5...         D10   \n",
       "1  d4 Nc6 e4 e5 f4 f6 dxe5 fxe5 fxe5 Nxe5 Qd4 Nc6...         B00   \n",
       "2  e4 e5 d3 d6 Be3 c6 Be2 b5 Nd2 a5 a4 c5 axb5 Nc...         C20   \n",
       "3  d4 d5 Nf3 Bf5 Nc3 Nf6 Bf4 Ng4 e3 Nc6 Be2 Qd7 O...         D02   \n",
       "4  e4 e5 Nf3 d6 d4 Nc6 d5 Nb4 a3 Na6 Nc3 Be7 b4 N...         C41   \n",
       "\n",
       "                             opening_name  opening_ply  \n",
       "0        Slav Defense: Exchange Variation            5  \n",
       "1  Nimzowitsch Defense: Kennedy Variation            4  \n",
       "2   King's Pawn Game: Leonardis Variation            3  \n",
       "3  Queen's Pawn Game: Zukertort Variation            3  \n",
       "4                        Philidor Defense            5  "
      ]
     },
     "execution_count": 16,
     "metadata": {},
     "output_type": "execute_result"
    }
   ],
   "source": [
    "df.head()"
   ]
  },
  {
   "cell_type": "markdown",
   "metadata": {},
   "source": [
    "## Moves"
   ]
  },
  {
   "cell_type": "markdown",
   "metadata": {},
   "source": [
    "I am going to predict the probability of winning on the basis of first move of the both black and white player. "
   ]
  },
  {
   "cell_type": "code",
   "execution_count": 17,
   "metadata": {},
   "outputs": [
    {
     "data": {
      "text/html": [
       "<div>\n",
       "<style scoped>\n",
       "    .dataframe tbody tr th:only-of-type {\n",
       "        vertical-align: middle;\n",
       "    }\n",
       "\n",
       "    .dataframe tbody tr th {\n",
       "        vertical-align: top;\n",
       "    }\n",
       "\n",
       "    .dataframe thead th {\n",
       "        text-align: right;\n",
       "    }\n",
       "</style>\n",
       "<table border=\"1\" class=\"dataframe\">\n",
       "  <thead>\n",
       "    <tr style=\"text-align: right;\">\n",
       "      <th></th>\n",
       "      <th>0</th>\n",
       "      <th>1</th>\n",
       "      <th>2</th>\n",
       "    </tr>\n",
       "  </thead>\n",
       "  <tbody>\n",
       "    <tr>\n",
       "      <th>0</th>\n",
       "      <td>d4</td>\n",
       "      <td>d5</td>\n",
       "      <td>c4 c6 cxd5 e6 dxe6 fxe6 Nf3 Bb4+ Nc3 Ba5 Bf4</td>\n",
       "    </tr>\n",
       "    <tr>\n",
       "      <th>1</th>\n",
       "      <td>d4</td>\n",
       "      <td>Nc6</td>\n",
       "      <td>e4 e5 f4 f6 dxe5 fxe5 fxe5 Nxe5 Qd4 Nc6 Qe5+ N...</td>\n",
       "    </tr>\n",
       "    <tr>\n",
       "      <th>2</th>\n",
       "      <td>e4</td>\n",
       "      <td>e5</td>\n",
       "      <td>d3 d6 Be3 c6 Be2 b5 Nd2 a5 a4 c5 axb5 Nc6 bxc6...</td>\n",
       "    </tr>\n",
       "    <tr>\n",
       "      <th>3</th>\n",
       "      <td>d4</td>\n",
       "      <td>d5</td>\n",
       "      <td>Nf3 Bf5 Nc3 Nf6 Bf4 Ng4 e3 Nc6 Be2 Qd7 O-O O-O...</td>\n",
       "    </tr>\n",
       "    <tr>\n",
       "      <th>4</th>\n",
       "      <td>e4</td>\n",
       "      <td>e5</td>\n",
       "      <td>Nf3 d6 d4 Nc6 d5 Nb4 a3 Na6 Nc3 Be7 b4 Nf6 Bg5...</td>\n",
       "    </tr>\n",
       "    <tr>\n",
       "      <th>...</th>\n",
       "      <td>...</td>\n",
       "      <td>...</td>\n",
       "      <td>...</td>\n",
       "    </tr>\n",
       "    <tr>\n",
       "      <th>20053</th>\n",
       "      <td>d4</td>\n",
       "      <td>f5</td>\n",
       "      <td>e3 e6 Nf3 Nf6 Nc3 b6 Be2 Bb7 O-O Be7 Ne5 d6 Bh...</td>\n",
       "    </tr>\n",
       "    <tr>\n",
       "      <th>20054</th>\n",
       "      <td>d4</td>\n",
       "      <td>d6</td>\n",
       "      <td>Bf4 e5 Bg3 Nf6 e3 exd4 exd4 d5 c3 Bd6 Bd3 O-O ...</td>\n",
       "    </tr>\n",
       "    <tr>\n",
       "      <th>20055</th>\n",
       "      <td>d4</td>\n",
       "      <td>d5</td>\n",
       "      <td>Bf4 Nc6 e3 Nf6 c3 e6 Nf3 Be7 Bd3 O-O Nbd2 b6 N...</td>\n",
       "    </tr>\n",
       "    <tr>\n",
       "      <th>20056</th>\n",
       "      <td>e4</td>\n",
       "      <td>d6</td>\n",
       "      <td>d4 Nf6 e5 dxe5 dxe5 Qxd1+ Kxd1 Nd5 c4 Nb6 c5 N...</td>\n",
       "    </tr>\n",
       "    <tr>\n",
       "      <th>20057</th>\n",
       "      <td>d4</td>\n",
       "      <td>d5</td>\n",
       "      <td>Bf4 Na6 e3 e6 c3 Nf6 Nf3 Bd7 Nbd2 b5 Bd3 Qc8 e...</td>\n",
       "    </tr>\n",
       "  </tbody>\n",
       "</table>\n",
       "<p>20058 rows × 3 columns</p>\n",
       "</div>"
      ],
      "text/plain": [
       "        0    1                                                  2\n",
       "0      d4   d5       c4 c6 cxd5 e6 dxe6 fxe6 Nf3 Bb4+ Nc3 Ba5 Bf4\n",
       "1      d4  Nc6  e4 e5 f4 f6 dxe5 fxe5 fxe5 Nxe5 Qd4 Nc6 Qe5+ N...\n",
       "2      e4   e5  d3 d6 Be3 c6 Be2 b5 Nd2 a5 a4 c5 axb5 Nc6 bxc6...\n",
       "3      d4   d5  Nf3 Bf5 Nc3 Nf6 Bf4 Ng4 e3 Nc6 Be2 Qd7 O-O O-O...\n",
       "4      e4   e5  Nf3 d6 d4 Nc6 d5 Nb4 a3 Na6 Nc3 Be7 b4 Nf6 Bg5...\n",
       "...    ..  ...                                                ...\n",
       "20053  d4   f5  e3 e6 Nf3 Nf6 Nc3 b6 Be2 Bb7 O-O Be7 Ne5 d6 Bh...\n",
       "20054  d4   d6  Bf4 e5 Bg3 Nf6 e3 exd4 exd4 d5 c3 Bd6 Bd3 O-O ...\n",
       "20055  d4   d5  Bf4 Nc6 e3 Nf6 c3 e6 Nf3 Be7 Bd3 O-O Nbd2 b6 N...\n",
       "20056  e4   d6  d4 Nf6 e5 dxe5 dxe5 Qxd1+ Kxd1 Nd5 c4 Nb6 c5 N...\n",
       "20057  d4   d5  Bf4 Na6 e3 e6 c3 Nf6 Nf3 Bd7 Nbd2 b5 Bd3 Qc8 e...\n",
       "\n",
       "[20058 rows x 3 columns]"
      ]
     },
     "execution_count": 17,
     "metadata": {},
     "output_type": "execute_result"
    }
   ],
   "source": [
    "moves = df.moves.str.split(n=2, expand=True)\n",
    "moves"
   ]
  },
  {
   "cell_type": "markdown",
   "metadata": {},
   "source": [
    "Splited the moves into three column, first column contains the first move of white player and second column contains the first move of black player and third column contains the rest of the moves which I am not going to consider into my model because it will take more time to do data manipulation I will do it later "
   ]
  },
  {
   "cell_type": "code",
   "execution_count": 18,
   "metadata": {},
   "outputs": [],
   "source": [
    "df['white_1move'] = moves[0]\n",
    "df['black_1move']= moves[1]"
   ]
  },
  {
   "cell_type": "code",
   "execution_count": 19,
   "metadata": {},
   "outputs": [
    {
     "data": {
      "text/html": [
       "<div>\n",
       "<style scoped>\n",
       "    .dataframe tbody tr th:only-of-type {\n",
       "        vertical-align: middle;\n",
       "    }\n",
       "\n",
       "    .dataframe tbody tr th {\n",
       "        vertical-align: top;\n",
       "    }\n",
       "\n",
       "    .dataframe thead th {\n",
       "        text-align: right;\n",
       "    }\n",
       "</style>\n",
       "<table border=\"1\" class=\"dataframe\">\n",
       "  <thead>\n",
       "    <tr style=\"text-align: right;\">\n",
       "      <th>winner</th>\n",
       "      <th>black</th>\n",
       "      <th>draw</th>\n",
       "      <th>white</th>\n",
       "    </tr>\n",
       "    <tr>\n",
       "      <th>white_1move</th>\n",
       "      <th></th>\n",
       "      <th></th>\n",
       "      <th></th>\n",
       "    </tr>\n",
       "  </thead>\n",
       "  <tbody>\n",
       "    <tr>\n",
       "      <th>Na3</th>\n",
       "      <td>0.750000</td>\n",
       "      <td>0.000000</td>\n",
       "      <td>0.250000</td>\n",
       "    </tr>\n",
       "    <tr>\n",
       "      <th>Nc3</th>\n",
       "      <td>0.555556</td>\n",
       "      <td>0.020202</td>\n",
       "      <td>0.424242</td>\n",
       "    </tr>\n",
       "    <tr>\n",
       "      <th>Nf3</th>\n",
       "      <td>0.402759</td>\n",
       "      <td>0.082759</td>\n",
       "      <td>0.514483</td>\n",
       "    </tr>\n",
       "    <tr>\n",
       "      <th>Nh3</th>\n",
       "      <td>0.400000</td>\n",
       "      <td>0.000000</td>\n",
       "      <td>0.600000</td>\n",
       "    </tr>\n",
       "    <tr>\n",
       "      <th>a3</th>\n",
       "      <td>0.333333</td>\n",
       "      <td>0.037037</td>\n",
       "      <td>0.629630</td>\n",
       "    </tr>\n",
       "  </tbody>\n",
       "</table>\n",
       "</div>"
      ],
      "text/plain": [
       "winner          black      draw     white\n",
       "white_1move                              \n",
       "Na3          0.750000  0.000000  0.250000\n",
       "Nc3          0.555556  0.020202  0.424242\n",
       "Nf3          0.402759  0.082759  0.514483\n",
       "Nh3          0.400000  0.000000  0.600000\n",
       "a3           0.333333  0.037037  0.629630"
      ]
     },
     "execution_count": 19,
     "metadata": {},
     "output_type": "execute_result"
    }
   ],
   "source": [
    "df_wm = pd.crosstab(df.white_1move, columns = df.winner, normalize = 'index')\n",
    "df_wm.head()"
   ]
  },
  {
   "cell_type": "code",
   "execution_count": 20,
   "metadata": {},
   "outputs": [],
   "source": [
    "dict(df_wm['white'])\n",
    "df['white_1move'] = df['white_1move'].map(dict(df_wm['white']))"
   ]
  },
  {
   "cell_type": "markdown",
   "metadata": {},
   "source": [
    "probability of winning of white player by using their first move"
   ]
  },
  {
   "cell_type": "code",
   "execution_count": 21,
   "metadata": {},
   "outputs": [
    {
     "data": {
      "text/html": [
       "<div>\n",
       "<style scoped>\n",
       "    .dataframe tbody tr th:only-of-type {\n",
       "        vertical-align: middle;\n",
       "    }\n",
       "\n",
       "    .dataframe tbody tr th {\n",
       "        vertical-align: top;\n",
       "    }\n",
       "\n",
       "    .dataframe thead th {\n",
       "        text-align: right;\n",
       "    }\n",
       "</style>\n",
       "<table border=\"1\" class=\"dataframe\">\n",
       "  <thead>\n",
       "    <tr style=\"text-align: right;\">\n",
       "      <th>winner</th>\n",
       "      <th>black</th>\n",
       "      <th>draw</th>\n",
       "      <th>white</th>\n",
       "    </tr>\n",
       "    <tr>\n",
       "      <th>black_1move</th>\n",
       "      <th></th>\n",
       "      <th></th>\n",
       "      <th></th>\n",
       "    </tr>\n",
       "  </thead>\n",
       "  <tbody>\n",
       "    <tr>\n",
       "      <th>Na6</th>\n",
       "      <td>0.000000</td>\n",
       "      <td>0.000000</td>\n",
       "      <td>1.000000</td>\n",
       "    </tr>\n",
       "    <tr>\n",
       "      <th>Nc6</th>\n",
       "      <td>0.382653</td>\n",
       "      <td>0.053571</td>\n",
       "      <td>0.563776</td>\n",
       "    </tr>\n",
       "    <tr>\n",
       "      <th>Nf6</th>\n",
       "      <td>0.486119</td>\n",
       "      <td>0.062611</td>\n",
       "      <td>0.451270</td>\n",
       "    </tr>\n",
       "    <tr>\n",
       "      <th>Nh6</th>\n",
       "      <td>0.166667</td>\n",
       "      <td>0.000000</td>\n",
       "      <td>0.833333</td>\n",
       "    </tr>\n",
       "    <tr>\n",
       "      <th>a5</th>\n",
       "      <td>0.260870</td>\n",
       "      <td>0.130435</td>\n",
       "      <td>0.608696</td>\n",
       "    </tr>\n",
       "  </tbody>\n",
       "</table>\n",
       "</div>"
      ],
      "text/plain": [
       "winner          black      draw     white\n",
       "black_1move                              \n",
       "Na6          0.000000  0.000000  1.000000\n",
       "Nc6          0.382653  0.053571  0.563776\n",
       "Nf6          0.486119  0.062611  0.451270\n",
       "Nh6          0.166667  0.000000  0.833333\n",
       "a5           0.260870  0.130435  0.608696"
      ]
     },
     "execution_count": 21,
     "metadata": {},
     "output_type": "execute_result"
    }
   ],
   "source": [
    "df_bm = pd.crosstab(df.black_1move, columns = df.winner, normalize = 'index')\n",
    "df_bm.head()"
   ]
  },
  {
   "cell_type": "code",
   "execution_count": 22,
   "metadata": {},
   "outputs": [],
   "source": [
    "dict(df_bm['white'])\n",
    "df['black_1move'] = df['black_1move'].map(dict(df_bm['white']))"
   ]
  },
  {
   "cell_type": "markdown",
   "metadata": {},
   "source": [
    "probability of winning of white player on the basis of first move of black player"
   ]
  },
  {
   "cell_type": "code",
   "execution_count": 23,
   "metadata": {},
   "outputs": [
    {
     "data": {
      "text/html": [
       "<div>\n",
       "<style scoped>\n",
       "    .dataframe tbody tr th:only-of-type {\n",
       "        vertical-align: middle;\n",
       "    }\n",
       "\n",
       "    .dataframe tbody tr th {\n",
       "        vertical-align: top;\n",
       "    }\n",
       "\n",
       "    .dataframe thead th {\n",
       "        text-align: right;\n",
       "    }\n",
       "</style>\n",
       "<table border=\"1\" class=\"dataframe\">\n",
       "  <thead>\n",
       "    <tr style=\"text-align: right;\">\n",
       "      <th>winner</th>\n",
       "      <th>black</th>\n",
       "      <th>draw</th>\n",
       "      <th>white</th>\n",
       "    </tr>\n",
       "    <tr>\n",
       "      <th>opening_eco</th>\n",
       "      <th></th>\n",
       "      <th></th>\n",
       "      <th></th>\n",
       "    </tr>\n",
       "  </thead>\n",
       "  <tbody>\n",
       "    <tr>\n",
       "      <th>A00</th>\n",
       "      <td>0.566038</td>\n",
       "      <td>0.038729</td>\n",
       "      <td>0.395233</td>\n",
       "    </tr>\n",
       "    <tr>\n",
       "      <th>A01</th>\n",
       "      <td>0.487805</td>\n",
       "      <td>0.048780</td>\n",
       "      <td>0.463415</td>\n",
       "    </tr>\n",
       "    <tr>\n",
       "      <th>A02</th>\n",
       "      <td>0.548780</td>\n",
       "      <td>0.060976</td>\n",
       "      <td>0.390244</td>\n",
       "    </tr>\n",
       "    <tr>\n",
       "      <th>A03</th>\n",
       "      <td>0.487179</td>\n",
       "      <td>0.128205</td>\n",
       "      <td>0.384615</td>\n",
       "    </tr>\n",
       "    <tr>\n",
       "      <th>A04</th>\n",
       "      <td>0.354386</td>\n",
       "      <td>0.098246</td>\n",
       "      <td>0.547368</td>\n",
       "    </tr>\n",
       "    <tr>\n",
       "      <th>...</th>\n",
       "      <td>...</td>\n",
       "      <td>...</td>\n",
       "      <td>...</td>\n",
       "    </tr>\n",
       "    <tr>\n",
       "      <th>E92</th>\n",
       "      <td>0.200000</td>\n",
       "      <td>0.600000</td>\n",
       "      <td>0.200000</td>\n",
       "    </tr>\n",
       "    <tr>\n",
       "      <th>E94</th>\n",
       "      <td>0.500000</td>\n",
       "      <td>0.000000</td>\n",
       "      <td>0.500000</td>\n",
       "    </tr>\n",
       "    <tr>\n",
       "      <th>E95</th>\n",
       "      <td>0.000000</td>\n",
       "      <td>0.000000</td>\n",
       "      <td>1.000000</td>\n",
       "    </tr>\n",
       "    <tr>\n",
       "      <th>E97</th>\n",
       "      <td>0.333333</td>\n",
       "      <td>0.333333</td>\n",
       "      <td>0.333333</td>\n",
       "    </tr>\n",
       "    <tr>\n",
       "      <th>E98</th>\n",
       "      <td>0.000000</td>\n",
       "      <td>0.000000</td>\n",
       "      <td>1.000000</td>\n",
       "    </tr>\n",
       "  </tbody>\n",
       "</table>\n",
       "<p>365 rows × 3 columns</p>\n",
       "</div>"
      ],
      "text/plain": [
       "winner          black      draw     white\n",
       "opening_eco                              \n",
       "A00          0.566038  0.038729  0.395233\n",
       "A01          0.487805  0.048780  0.463415\n",
       "A02          0.548780  0.060976  0.390244\n",
       "A03          0.487179  0.128205  0.384615\n",
       "A04          0.354386  0.098246  0.547368\n",
       "...               ...       ...       ...\n",
       "E92          0.200000  0.600000  0.200000\n",
       "E94          0.500000  0.000000  0.500000\n",
       "E95          0.000000  0.000000  1.000000\n",
       "E97          0.333333  0.333333  0.333333\n",
       "E98          0.000000  0.000000  1.000000\n",
       "\n",
       "[365 rows x 3 columns]"
      ]
     },
     "execution_count": 23,
     "metadata": {},
     "output_type": "execute_result"
    }
   ],
   "source": [
    "df_ = pd.crosstab(df.opening_eco, columns = df.winner, normalize = 'index')\n",
    "df_"
   ]
  },
  {
   "cell_type": "code",
   "execution_count": 24,
   "metadata": {},
   "outputs": [
    {
     "data": {
      "text/plain": [
       "{'A00': 0.3952333664349553,\n",
       " 'A01': 0.4634146341463415,\n",
       " 'A02': 0.3902439024390244,\n",
       " 'A03': 0.38461538461538464,\n",
       " 'A04': 0.5473684210526316,\n",
       " 'A05': 0.5625,\n",
       " 'A06': 0.472,\n",
       " 'A07': 0.5151515151515151,\n",
       " 'A08': 0.46153846153846156,\n",
       " 'A09': 0.5294117647058824,\n",
       " 'A10': 0.5354330708661418,\n",
       " 'A11': 0.5,\n",
       " 'A12': 0.0,\n",
       " 'A13': 0.7346938775510204,\n",
       " 'A14': 0.0,\n",
       " 'A15': 0.5333333333333333,\n",
       " 'A16': 0.48,\n",
       " 'A17': 0.5,\n",
       " 'A18': 0.6666666666666666,\n",
       " 'A20': 0.54,\n",
       " 'A21': 0.5396825396825397,\n",
       " 'A22': 0.4642857142857143,\n",
       " 'A23': 1.0,\n",
       " 'A24': 0.0,\n",
       " 'A25': 0.7272727272727273,\n",
       " 'A27': 0.5454545454545454,\n",
       " 'A28': 0.5,\n",
       " 'A29': 0.75,\n",
       " 'A30': 0.5833333333333334,\n",
       " 'A31': 0.0,\n",
       " 'A33': 0.0,\n",
       " 'A34': 0.5909090909090909,\n",
       " 'A35': 0.6923076923076923,\n",
       " 'A36': 0.75,\n",
       " 'A38': 0.5714285714285714,\n",
       " 'A39': 0.6666666666666666,\n",
       " 'A40': 0.5469255663430421,\n",
       " 'A41': 0.6,\n",
       " 'A42': 0.47619047619047616,\n",
       " 'A43': 0.47435897435897434,\n",
       " 'A44': 0.7142857142857143,\n",
       " 'A45': 0.40476190476190477,\n",
       " 'A46': 0.34177215189873417,\n",
       " 'A47': 0.25,\n",
       " 'A48': 0.375,\n",
       " 'A49': 0.5,\n",
       " 'A50': 0.5,\n",
       " 'A51': 0.3,\n",
       " 'A52': 0.20833333333333334,\n",
       " 'A53': 0.6111111111111112,\n",
       " 'A54': 0.6,\n",
       " 'A56': 0.25,\n",
       " 'A57': 0.4666666666666667,\n",
       " 'A58': 0.5,\n",
       " 'A59': 0.0,\n",
       " 'A60': 0.75,\n",
       " 'A65': 0.0,\n",
       " 'A67': 1.0,\n",
       " 'A70': 0.5714285714285714,\n",
       " 'A71': 0.0,\n",
       " 'A73': 0.0,\n",
       " 'A80': 0.5272727272727272,\n",
       " 'A81': 0.25,\n",
       " 'A82': 0.3333333333333333,\n",
       " 'A83': 0.5,\n",
       " 'A84': 0.4642857142857143,\n",
       " 'A85': 0.4827586206896552,\n",
       " 'A89': 0.0,\n",
       " 'A91': 0.5,\n",
       " 'A97': 1.0,\n",
       " 'A99': 1.0,\n",
       " 'B00': 0.5973813420621932,\n",
       " 'B01': 0.5,\n",
       " 'B02': 0.525,\n",
       " 'B03': 0.6086956521739131,\n",
       " 'B04': 0.5,\n",
       " 'B05': 0.6,\n",
       " 'B06': 0.4602272727272727,\n",
       " 'B07': 0.555921052631579,\n",
       " 'B08': 0.38636363636363635,\n",
       " 'B09': 0.5263157894736842,\n",
       " 'B10': 0.48186528497409326,\n",
       " 'B11': 0.5161290322580645,\n",
       " 'B12': 0.47904191616766467,\n",
       " 'B13': 0.4588235294117647,\n",
       " 'B14': 0.4,\n",
       " 'B15': 0.7419354838709677,\n",
       " 'B17': 1.0,\n",
       " 'B18': 0.40625,\n",
       " 'B19': 0.4444444444444444,\n",
       " 'B20': 0.3932980599647266,\n",
       " 'B21': 0.5063291139240507,\n",
       " 'B22': 0.44680851063829785,\n",
       " 'B23': 0.4336283185840708,\n",
       " 'B24': 0.9,\n",
       " 'B25': 0.4528301886792453,\n",
       " 'B27': 0.5230769230769231,\n",
       " 'B28': 0.3333333333333333,\n",
       " 'B29': 0.7368421052631579,\n",
       " 'B30': 0.42731277533039647,\n",
       " 'B31': 0.7857142857142857,\n",
       " 'B32': 0.5564516129032258,\n",
       " 'B33': 0.4791666666666667,\n",
       " 'B34': 0.5151515151515151,\n",
       " 'B35': 0.16666666666666666,\n",
       " 'B36': 0.3333333333333333,\n",
       " 'B38': 0.42857142857142855,\n",
       " 'B39': 0.0,\n",
       " 'B40': 0.3953488372093023,\n",
       " 'B41': 0.3076923076923077,\n",
       " 'B42': 0.625,\n",
       " 'B43': 0.3448275862068966,\n",
       " 'B44': 0.3888888888888889,\n",
       " 'B45': 0.631578947368421,\n",
       " 'B46': 0.21428571428571427,\n",
       " 'B47': 0.6666666666666666,\n",
       " 'B48': 0.2,\n",
       " 'B50': 0.43805309734513276,\n",
       " 'B51': 0.5714285714285714,\n",
       " 'B52': 0.45454545454545453,\n",
       " 'B53': 0.6666666666666666,\n",
       " 'B54': 0.5316455696202531,\n",
       " 'B56': 0.4375,\n",
       " 'B57': 0.35135135135135137,\n",
       " 'B58': 1.0,\n",
       " 'B60': 1.0,\n",
       " 'B62': 0.0,\n",
       " 'B70': 0.5,\n",
       " 'B71': 0.5,\n",
       " 'B72': 0.6,\n",
       " 'B73': 0.5,\n",
       " 'B74': 1.0,\n",
       " 'B75': 1.0,\n",
       " 'B76': 0.5,\n",
       " 'B77': 0.6666666666666666,\n",
       " 'B78': 0.42857142857142855,\n",
       " 'B80': 0.4666666666666667,\n",
       " 'B81': 1.0,\n",
       " 'B82': 0.5,\n",
       " 'B83': 1.0,\n",
       " 'B84': 0.5,\n",
       " 'B86': 0.2857142857142857,\n",
       " 'B87': 1.0,\n",
       " 'B88': 0.0,\n",
       " 'B90': 0.5346534653465347,\n",
       " 'B91': 0.5,\n",
       " 'B92': 0.5833333333333334,\n",
       " 'B93': 0.5,\n",
       " 'B94': 0.5789473684210527,\n",
       " 'B95': 0.4,\n",
       " 'B96': 0.4,\n",
       " 'B98': 0.5,\n",
       " 'C00': 0.4940758293838863,\n",
       " 'C01': 0.5253164556962026,\n",
       " 'C02': 0.47653429602888087,\n",
       " 'C03': 0.5,\n",
       " 'C04': 0.0,\n",
       " 'C05': 0.3076923076923077,\n",
       " 'C06': 0.8333333333333334,\n",
       " 'C07': 0.375,\n",
       " 'C08': 0.6666666666666666,\n",
       " 'C09': 1.0,\n",
       " 'C10': 0.543859649122807,\n",
       " 'C11': 0.4473684210526316,\n",
       " 'C12': 0.0,\n",
       " 'C13': 0.4,\n",
       " 'C14': 0.5,\n",
       " 'C15': 0.5882352941176471,\n",
       " 'C16': 0.4,\n",
       " 'C17': 0.5,\n",
       " 'C18': 0.6666666666666666,\n",
       " 'C20': 0.44296296296296295,\n",
       " 'C21': 0.5755813953488372,\n",
       " 'C22': 0.38372093023255816,\n",
       " 'C23': 0.5419354838709678,\n",
       " 'C24': 0.6160714285714286,\n",
       " 'C25': 0.4482758620689655,\n",
       " 'C26': 0.5294117647058824,\n",
       " 'C27': 0.5555555555555556,\n",
       " 'C28': 0.5263157894736842,\n",
       " 'C29': 0.5,\n",
       " 'C30': 0.532608695652174,\n",
       " 'C31': 0.4166666666666667,\n",
       " 'C32': 0.0,\n",
       " 'C33': 0.6153846153846154,\n",
       " 'C34': 0.6533333333333333,\n",
       " 'C35': 0.5,\n",
       " 'C36': 0.6,\n",
       " 'C37': 0.6363636363636364,\n",
       " 'C38': 0.6666666666666666,\n",
       " 'C39': 0.6666666666666666,\n",
       " 'C40': 0.5964125560538116,\n",
       " 'C41': 0.573082489146165,\n",
       " 'C42': 0.5474006116207951,\n",
       " 'C43': 0.2631578947368421,\n",
       " 'C44': 0.52,\n",
       " 'C45': 0.5035211267605634,\n",
       " 'C46': 0.5580524344569289,\n",
       " 'C47': 0.46296296296296297,\n",
       " 'C48': 0.5679012345679012,\n",
       " 'C49': 0.375,\n",
       " 'C50': 0.44609665427509293,\n",
       " 'C51': 0.5,\n",
       " 'C52': 0.5714285714285714,\n",
       " 'C53': 0.4880952380952381,\n",
       " 'C54': 0.2926829268292683,\n",
       " 'C55': 0.5288461538461539,\n",
       " 'C56': 0.3333333333333333,\n",
       " 'C57': 0.5537190082644629,\n",
       " 'C58': 0.4444444444444444,\n",
       " 'C59': 0.6666666666666666,\n",
       " 'C60': 0.5625,\n",
       " 'C61': 0.4444444444444444,\n",
       " 'C62': 0.49635036496350365,\n",
       " 'C63': 0.6,\n",
       " 'C64': 0.5614035087719298,\n",
       " 'C65': 0.5142857142857142,\n",
       " 'C66': 0.6666666666666666,\n",
       " 'C67': 0.5172413793103449,\n",
       " 'C68': 0.5588235294117647,\n",
       " 'C69': 0.5652173913043478,\n",
       " 'C70': 0.6666666666666666,\n",
       " 'C71': 0.5,\n",
       " 'C72': 0.5,\n",
       " 'C74': 0.0,\n",
       " 'C75': 0.0,\n",
       " 'C77': 0.3829787234042553,\n",
       " 'C78': 0.5757575757575758,\n",
       " 'C79': 1.0,\n",
       " 'C80': 0.7142857142857143,\n",
       " 'C81': 0.0,\n",
       " 'C83': 1.0,\n",
       " 'C84': 0.6,\n",
       " 'C88': 0.23529411764705882,\n",
       " 'C89': 0.14285714285714285,\n",
       " 'C90': 0.0,\n",
       " 'C91': 0.16666666666666666,\n",
       " 'C92': 0.0,\n",
       " 'C94': 0.0,\n",
       " 'D00': 0.4614343707713126,\n",
       " 'D01': 0.3146067415730337,\n",
       " 'D02': 0.511520737327189,\n",
       " 'D03': 0.4,\n",
       " 'D04': 0.3333333333333333,\n",
       " 'D05': 0.42857142857142855,\n",
       " 'D06': 0.6369047619047619,\n",
       " 'D07': 0.5306122448979592,\n",
       " 'D08': 0.6206896551724138,\n",
       " 'D10': 0.4,\n",
       " 'D11': 0.5121951219512195,\n",
       " 'D12': 0.4444444444444444,\n",
       " 'D13': 1.0,\n",
       " 'D14': 0.25,\n",
       " 'D15': 0.5531914893617021,\n",
       " 'D16': 1.0,\n",
       " 'D17': 0.5,\n",
       " 'D18': 0.5,\n",
       " 'D19': 1.0,\n",
       " 'D20': 0.5260663507109005,\n",
       " 'D21': 0.75,\n",
       " 'D22': 0.0,\n",
       " 'D24': 0.5,\n",
       " 'D25': 0.5,\n",
       " 'D26': 0.8,\n",
       " 'D30': 0.5862068965517241,\n",
       " 'D31': 0.5641025641025641,\n",
       " 'D32': 0.5833333333333334,\n",
       " 'D34': 0.25,\n",
       " 'D35': 0.4444444444444444,\n",
       " 'D36': 0.0,\n",
       " 'D37': 0.5,\n",
       " 'D38': 1.0,\n",
       " 'D40': 0.4,\n",
       " 'D41': 0.42857142857142855,\n",
       " 'D43': 0.36363636363636365,\n",
       " 'D44': 0.6666666666666666,\n",
       " 'D45': 0.48148148148148145,\n",
       " 'D46': 0.6,\n",
       " 'D47': 1.0,\n",
       " 'D48': 0.0,\n",
       " 'D50': 0.4,\n",
       " 'D51': 0.14285714285714285,\n",
       " 'D52': 0.5714285714285714,\n",
       " 'D53': 0.6875,\n",
       " 'D55': 0.5555555555555556,\n",
       " 'D56': 0.0,\n",
       " 'D57': 0.6666666666666666,\n",
       " 'D58': 0.0,\n",
       " 'D59': 0.0,\n",
       " 'D60': 0.5,\n",
       " 'D70': 0.5,\n",
       " 'D74': 1.0,\n",
       " 'D76': 1.0,\n",
       " 'D77': 0.0,\n",
       " 'D78': 0.6666666666666666,\n",
       " 'D80': 0.5555555555555556,\n",
       " 'D81': 1.0,\n",
       " 'D82': 1.0,\n",
       " 'D85': 0.6666666666666666,\n",
       " 'D86': 1.0,\n",
       " 'D87': 1.0,\n",
       " 'D90': 0.75,\n",
       " 'D91': 0.25,\n",
       " 'D92': 0.0,\n",
       " 'D93': 0.3333333333333333,\n",
       " 'D94': 0.375,\n",
       " 'D95': 1.0,\n",
       " 'E00': 0.48936170212765956,\n",
       " 'E01': 1.0,\n",
       " 'E03': 0.0,\n",
       " 'E06': 1.0,\n",
       " 'E10': 0.55,\n",
       " 'E11': 0.4,\n",
       " 'E12': 0.7333333333333333,\n",
       " 'E14': 0.2857142857142857,\n",
       " 'E15': 0.5714285714285714,\n",
       " 'E16': 0.3333333333333333,\n",
       " 'E17': 0.16666666666666666,\n",
       " 'E18': 1.0,\n",
       " 'E20': 0.45454545454545453,\n",
       " 'E21': 0.8571428571428571,\n",
       " 'E24': 0.4444444444444444,\n",
       " 'E27': 0.0,\n",
       " 'E30': 0.5,\n",
       " 'E32': 0.2,\n",
       " 'E33': 1.0,\n",
       " 'E34': 0.5,\n",
       " 'E35': 0.0,\n",
       " 'E38': 0.4,\n",
       " 'E40': 1.0,\n",
       " 'E42': 1.0,\n",
       " 'E44': 1.0,\n",
       " 'E46': 0.0,\n",
       " 'E47': 0.0,\n",
       " 'E48': 0.0,\n",
       " 'E50': 0.75,\n",
       " 'E51': 0.8,\n",
       " 'E52': 1.0,\n",
       " 'E53': 0.5,\n",
       " 'E54': 0.6666666666666666,\n",
       " 'E56': 0.0,\n",
       " 'E59': 0.3333333333333333,\n",
       " 'E60': 0.36363636363636365,\n",
       " 'E61': 0.423728813559322,\n",
       " 'E63': 1.0,\n",
       " 'E64': 0.5,\n",
       " 'E67': 0.4,\n",
       " 'E68': 0.5,\n",
       " 'E70': 0.6363636363636364,\n",
       " 'E71': 0.7142857142857143,\n",
       " 'E72': 0.0,\n",
       " 'E73': 0.4,\n",
       " 'E76': 0.3888888888888889,\n",
       " 'E77': 0.4,\n",
       " 'E80': 0.3333333333333333,\n",
       " 'E81': 0.5714285714285714,\n",
       " 'E87': 0.3333333333333333,\n",
       " 'E88': 1.0,\n",
       " 'E90': 0.4827586206896552,\n",
       " 'E91': 0.7142857142857143,\n",
       " 'E92': 0.2,\n",
       " 'E94': 0.5,\n",
       " 'E95': 1.0,\n",
       " 'E97': 0.3333333333333333,\n",
       " 'E98': 1.0}"
      ]
     },
     "execution_count": 24,
     "metadata": {},
     "output_type": "execute_result"
    }
   ],
   "source": [
    "dict(df_['white'])"
   ]
  },
  {
   "cell_type": "code",
   "execution_count": 25,
   "metadata": {},
   "outputs": [],
   "source": [
    "df['opening_eco']= df['opening_eco'].map(dict(df_['white']))"
   ]
  },
  {
   "cell_type": "code",
   "execution_count": 26,
   "metadata": {},
   "outputs": [
    {
     "data": {
      "text/html": [
       "<div>\n",
       "<style scoped>\n",
       "    .dataframe tbody tr th:only-of-type {\n",
       "        vertical-align: middle;\n",
       "    }\n",
       "\n",
       "    .dataframe tbody tr th {\n",
       "        vertical-align: top;\n",
       "    }\n",
       "\n",
       "    .dataframe thead th {\n",
       "        text-align: right;\n",
       "    }\n",
       "</style>\n",
       "<table border=\"1\" class=\"dataframe\">\n",
       "  <thead>\n",
       "    <tr style=\"text-align: right;\">\n",
       "      <th></th>\n",
       "      <th>id</th>\n",
       "      <th>rated</th>\n",
       "      <th>turns</th>\n",
       "      <th>victory_status</th>\n",
       "      <th>winner</th>\n",
       "      <th>white_rating</th>\n",
       "      <th>black_rating</th>\n",
       "      <th>moves</th>\n",
       "      <th>opening_eco</th>\n",
       "      <th>opening_name</th>\n",
       "      <th>opening_ply</th>\n",
       "      <th>white_1move</th>\n",
       "      <th>black_1move</th>\n",
       "    </tr>\n",
       "  </thead>\n",
       "  <tbody>\n",
       "    <tr>\n",
       "      <th>0</th>\n",
       "      <td>TZJHLljE</td>\n",
       "      <td>False</td>\n",
       "      <td>13</td>\n",
       "      <td>outoftime</td>\n",
       "      <td>white</td>\n",
       "      <td>1500</td>\n",
       "      <td>1191</td>\n",
       "      <td>d4 d5 c4 c6 cxd5 e6 dxe6 fxe6 Nf3 Bb4+ Nc3 Ba5...</td>\n",
       "      <td>0.400000</td>\n",
       "      <td>Slav Defense: Exchange Variation</td>\n",
       "      <td>5</td>\n",
       "      <td>0.499337</td>\n",
       "      <td>0.493591</td>\n",
       "    </tr>\n",
       "    <tr>\n",
       "      <th>1</th>\n",
       "      <td>l1NXvwaE</td>\n",
       "      <td>True</td>\n",
       "      <td>16</td>\n",
       "      <td>resign</td>\n",
       "      <td>black</td>\n",
       "      <td>1322</td>\n",
       "      <td>1261</td>\n",
       "      <td>d4 Nc6 e4 e5 f4 f6 dxe5 fxe5 fxe5 Nxe5 Qd4 Nc6...</td>\n",
       "      <td>0.597381</td>\n",
       "      <td>Nimzowitsch Defense: Kennedy Variation</td>\n",
       "      <td>4</td>\n",
       "      <td>0.499337</td>\n",
       "      <td>0.563776</td>\n",
       "    </tr>\n",
       "    <tr>\n",
       "      <th>2</th>\n",
       "      <td>mIICvQHh</td>\n",
       "      <td>True</td>\n",
       "      <td>61</td>\n",
       "      <td>mate</td>\n",
       "      <td>white</td>\n",
       "      <td>1496</td>\n",
       "      <td>1500</td>\n",
       "      <td>e4 e5 d3 d6 Be3 c6 Be2 b5 Nd2 a5 a4 c5 axb5 Nc...</td>\n",
       "      <td>0.442963</td>\n",
       "      <td>King's Pawn Game: Leonardis Variation</td>\n",
       "      <td>3</td>\n",
       "      <td>0.505715</td>\n",
       "      <td>0.515312</td>\n",
       "    </tr>\n",
       "    <tr>\n",
       "      <th>3</th>\n",
       "      <td>kWKvrqYL</td>\n",
       "      <td>True</td>\n",
       "      <td>61</td>\n",
       "      <td>mate</td>\n",
       "      <td>white</td>\n",
       "      <td>1439</td>\n",
       "      <td>1454</td>\n",
       "      <td>d4 d5 Nf3 Bf5 Nc3 Nf6 Bf4 Ng4 e3 Nc6 Be2 Qd7 O...</td>\n",
       "      <td>0.511521</td>\n",
       "      <td>Queen's Pawn Game: Zukertort Variation</td>\n",
       "      <td>3</td>\n",
       "      <td>0.499337</td>\n",
       "      <td>0.493591</td>\n",
       "    </tr>\n",
       "    <tr>\n",
       "      <th>4</th>\n",
       "      <td>9tXo1AUZ</td>\n",
       "      <td>True</td>\n",
       "      <td>95</td>\n",
       "      <td>mate</td>\n",
       "      <td>white</td>\n",
       "      <td>1523</td>\n",
       "      <td>1469</td>\n",
       "      <td>e4 e5 Nf3 d6 d4 Nc6 d5 Nb4 a3 Na6 Nc3 Be7 b4 N...</td>\n",
       "      <td>0.573082</td>\n",
       "      <td>Philidor Defense</td>\n",
       "      <td>5</td>\n",
       "      <td>0.505715</td>\n",
       "      <td>0.515312</td>\n",
       "    </tr>\n",
       "  </tbody>\n",
       "</table>\n",
       "</div>"
      ],
      "text/plain": [
       "         id  rated  turns victory_status winner  white_rating  black_rating  \\\n",
       "0  TZJHLljE  False     13      outoftime  white          1500          1191   \n",
       "1  l1NXvwaE   True     16         resign  black          1322          1261   \n",
       "2  mIICvQHh   True     61           mate  white          1496          1500   \n",
       "3  kWKvrqYL   True     61           mate  white          1439          1454   \n",
       "4  9tXo1AUZ   True     95           mate  white          1523          1469   \n",
       "\n",
       "                                               moves  opening_eco  \\\n",
       "0  d4 d5 c4 c6 cxd5 e6 dxe6 fxe6 Nf3 Bb4+ Nc3 Ba5...     0.400000   \n",
       "1  d4 Nc6 e4 e5 f4 f6 dxe5 fxe5 fxe5 Nxe5 Qd4 Nc6...     0.597381   \n",
       "2  e4 e5 d3 d6 Be3 c6 Be2 b5 Nd2 a5 a4 c5 axb5 Nc...     0.442963   \n",
       "3  d4 d5 Nf3 Bf5 Nc3 Nf6 Bf4 Ng4 e3 Nc6 Be2 Qd7 O...     0.511521   \n",
       "4  e4 e5 Nf3 d6 d4 Nc6 d5 Nb4 a3 Na6 Nc3 Be7 b4 N...     0.573082   \n",
       "\n",
       "                             opening_name  opening_ply  white_1move  \\\n",
       "0        Slav Defense: Exchange Variation            5     0.499337   \n",
       "1  Nimzowitsch Defense: Kennedy Variation            4     0.499337   \n",
       "2   King's Pawn Game: Leonardis Variation            3     0.505715   \n",
       "3  Queen's Pawn Game: Zukertort Variation            3     0.499337   \n",
       "4                        Philidor Defense            5     0.505715   \n",
       "\n",
       "   black_1move  \n",
       "0     0.493591  \n",
       "1     0.563776  \n",
       "2     0.515312  \n",
       "3     0.493591  \n",
       "4     0.515312  "
      ]
     },
     "execution_count": 26,
     "metadata": {},
     "output_type": "execute_result"
    }
   ],
   "source": [
    "df.head()"
   ]
  },
  {
   "cell_type": "code",
   "execution_count": 27,
   "metadata": {},
   "outputs": [
    {
     "data": {
      "text/plain": [
       "20"
      ]
     },
     "execution_count": 27,
     "metadata": {},
     "output_type": "execute_result"
    }
   ],
   "source": [
    "df.white_1move.nunique()"
   ]
  },
  {
   "cell_type": "code",
   "execution_count": 28,
   "metadata": {},
   "outputs": [
    {
     "data": {
      "text/plain": [
       "20"
      ]
     },
     "execution_count": 28,
     "metadata": {},
     "output_type": "execute_result"
    }
   ],
   "source": [
    "df.black_1move.nunique()"
   ]
  },
  {
   "cell_type": "code",
   "execution_count": 29,
   "metadata": {},
   "outputs": [
    {
     "data": {
      "text/plain": [
       "id                 0\n",
       "rated              0\n",
       "turns              0\n",
       "victory_status     0\n",
       "winner             0\n",
       "white_rating       0\n",
       "black_rating       0\n",
       "moves              0\n",
       "opening_eco        0\n",
       "opening_name       0\n",
       "opening_ply        0\n",
       "white_1move        0\n",
       "black_1move       18\n",
       "dtype: int64"
      ]
     },
     "execution_count": 29,
     "metadata": {},
     "output_type": "execute_result"
    }
   ],
   "source": [
    "df.isnull().sum()"
   ]
  },
  {
   "cell_type": "markdown",
   "metadata": {},
   "source": [
    "There is 18 missing value acceptable because it is possible that they started the game white payer is the first who start the game maybe after start of the game black player gaveup to play"
   ]
  },
  {
   "cell_type": "code",
   "execution_count": 30,
   "metadata": {},
   "outputs": [
    {
     "data": {
      "text/html": [
       "<div>\n",
       "<style scoped>\n",
       "    .dataframe tbody tr th:only-of-type {\n",
       "        vertical-align: middle;\n",
       "    }\n",
       "\n",
       "    .dataframe tbody tr th {\n",
       "        vertical-align: top;\n",
       "    }\n",
       "\n",
       "    .dataframe thead th {\n",
       "        text-align: right;\n",
       "    }\n",
       "</style>\n",
       "<table border=\"1\" class=\"dataframe\">\n",
       "  <thead>\n",
       "    <tr style=\"text-align: right;\">\n",
       "      <th></th>\n",
       "      <th>id</th>\n",
       "      <th>rated</th>\n",
       "      <th>turns</th>\n",
       "      <th>victory_status</th>\n",
       "      <th>winner</th>\n",
       "      <th>white_rating</th>\n",
       "      <th>black_rating</th>\n",
       "      <th>moves</th>\n",
       "      <th>opening_eco</th>\n",
       "      <th>opening_name</th>\n",
       "      <th>opening_ply</th>\n",
       "      <th>white_1move</th>\n",
       "      <th>black_1move</th>\n",
       "    </tr>\n",
       "  </thead>\n",
       "  <tbody>\n",
       "    <tr>\n",
       "      <th>0</th>\n",
       "      <td>TZJHLljE</td>\n",
       "      <td>False</td>\n",
       "      <td>13</td>\n",
       "      <td>outoftime</td>\n",
       "      <td>white</td>\n",
       "      <td>1500</td>\n",
       "      <td>1191</td>\n",
       "      <td>d4 d5 c4 c6 cxd5 e6 dxe6 fxe6 Nf3 Bb4+ Nc3 Ba5...</td>\n",
       "      <td>0.400000</td>\n",
       "      <td>Slav Defense: Exchange Variation</td>\n",
       "      <td>5</td>\n",
       "      <td>0.499337</td>\n",
       "      <td>0.493591</td>\n",
       "    </tr>\n",
       "    <tr>\n",
       "      <th>1</th>\n",
       "      <td>l1NXvwaE</td>\n",
       "      <td>True</td>\n",
       "      <td>16</td>\n",
       "      <td>resign</td>\n",
       "      <td>black</td>\n",
       "      <td>1322</td>\n",
       "      <td>1261</td>\n",
       "      <td>d4 Nc6 e4 e5 f4 f6 dxe5 fxe5 fxe5 Nxe5 Qd4 Nc6...</td>\n",
       "      <td>0.597381</td>\n",
       "      <td>Nimzowitsch Defense: Kennedy Variation</td>\n",
       "      <td>4</td>\n",
       "      <td>0.499337</td>\n",
       "      <td>0.563776</td>\n",
       "    </tr>\n",
       "    <tr>\n",
       "      <th>2</th>\n",
       "      <td>mIICvQHh</td>\n",
       "      <td>True</td>\n",
       "      <td>61</td>\n",
       "      <td>mate</td>\n",
       "      <td>white</td>\n",
       "      <td>1496</td>\n",
       "      <td>1500</td>\n",
       "      <td>e4 e5 d3 d6 Be3 c6 Be2 b5 Nd2 a5 a4 c5 axb5 Nc...</td>\n",
       "      <td>0.442963</td>\n",
       "      <td>King's Pawn Game: Leonardis Variation</td>\n",
       "      <td>3</td>\n",
       "      <td>0.505715</td>\n",
       "      <td>0.515312</td>\n",
       "    </tr>\n",
       "    <tr>\n",
       "      <th>3</th>\n",
       "      <td>kWKvrqYL</td>\n",
       "      <td>True</td>\n",
       "      <td>61</td>\n",
       "      <td>mate</td>\n",
       "      <td>white</td>\n",
       "      <td>1439</td>\n",
       "      <td>1454</td>\n",
       "      <td>d4 d5 Nf3 Bf5 Nc3 Nf6 Bf4 Ng4 e3 Nc6 Be2 Qd7 O...</td>\n",
       "      <td>0.511521</td>\n",
       "      <td>Queen's Pawn Game: Zukertort Variation</td>\n",
       "      <td>3</td>\n",
       "      <td>0.499337</td>\n",
       "      <td>0.493591</td>\n",
       "    </tr>\n",
       "    <tr>\n",
       "      <th>4</th>\n",
       "      <td>9tXo1AUZ</td>\n",
       "      <td>True</td>\n",
       "      <td>95</td>\n",
       "      <td>mate</td>\n",
       "      <td>white</td>\n",
       "      <td>1523</td>\n",
       "      <td>1469</td>\n",
       "      <td>e4 e5 Nf3 d6 d4 Nc6 d5 Nb4 a3 Na6 Nc3 Be7 b4 N...</td>\n",
       "      <td>0.573082</td>\n",
       "      <td>Philidor Defense</td>\n",
       "      <td>5</td>\n",
       "      <td>0.505715</td>\n",
       "      <td>0.515312</td>\n",
       "    </tr>\n",
       "  </tbody>\n",
       "</table>\n",
       "</div>"
      ],
      "text/plain": [
       "         id  rated  turns victory_status winner  white_rating  black_rating  \\\n",
       "0  TZJHLljE  False     13      outoftime  white          1500          1191   \n",
       "1  l1NXvwaE   True     16         resign  black          1322          1261   \n",
       "2  mIICvQHh   True     61           mate  white          1496          1500   \n",
       "3  kWKvrqYL   True     61           mate  white          1439          1454   \n",
       "4  9tXo1AUZ   True     95           mate  white          1523          1469   \n",
       "\n",
       "                                               moves  opening_eco  \\\n",
       "0  d4 d5 c4 c6 cxd5 e6 dxe6 fxe6 Nf3 Bb4+ Nc3 Ba5...     0.400000   \n",
       "1  d4 Nc6 e4 e5 f4 f6 dxe5 fxe5 fxe5 Nxe5 Qd4 Nc6...     0.597381   \n",
       "2  e4 e5 d3 d6 Be3 c6 Be2 b5 Nd2 a5 a4 c5 axb5 Nc...     0.442963   \n",
       "3  d4 d5 Nf3 Bf5 Nc3 Nf6 Bf4 Ng4 e3 Nc6 Be2 Qd7 O...     0.511521   \n",
       "4  e4 e5 Nf3 d6 d4 Nc6 d5 Nb4 a3 Na6 Nc3 Be7 b4 N...     0.573082   \n",
       "\n",
       "                             opening_name  opening_ply  white_1move  \\\n",
       "0        Slav Defense: Exchange Variation            5     0.499337   \n",
       "1  Nimzowitsch Defense: Kennedy Variation            4     0.499337   \n",
       "2   King's Pawn Game: Leonardis Variation            3     0.505715   \n",
       "3  Queen's Pawn Game: Zukertort Variation            3     0.499337   \n",
       "4                        Philidor Defense            5     0.505715   \n",
       "\n",
       "   black_1move  \n",
       "0     0.493591  \n",
       "1     0.563776  \n",
       "2     0.515312  \n",
       "3     0.493591  \n",
       "4     0.515312  "
      ]
     },
     "execution_count": 30,
     "metadata": {},
     "output_type": "execute_result"
    }
   ],
   "source": [
    "df.dropna().head()"
   ]
  },
  {
   "cell_type": "code",
   "execution_count": 31,
   "metadata": {},
   "outputs": [],
   "source": [
    "#df.moves.unique()"
   ]
  },
  {
   "cell_type": "code",
   "execution_count": 32,
   "metadata": {},
   "outputs": [
    {
     "data": {
      "text/plain": [
       "23"
      ]
     },
     "execution_count": 32,
     "metadata": {},
     "output_type": "execute_result"
    }
   ],
   "source": [
    "df.opening_ply.nunique()"
   ]
  },
  {
   "cell_type": "code",
   "execution_count": 33,
   "metadata": {},
   "outputs": [
    {
     "data": {
      "text/plain": [
       "1477"
      ]
     },
     "execution_count": 33,
     "metadata": {},
     "output_type": "execute_result"
    }
   ],
   "source": [
    "df.opening_name.nunique()"
   ]
  },
  {
   "cell_type": "markdown",
   "metadata": {},
   "source": [
    "# Now I will treat the categorical varibles"
   ]
  },
  {
   "cell_type": "markdown",
   "metadata": {},
   "source": [
    "### first lets check what is rated columns "
   ]
  },
  {
   "cell_type": "code",
   "execution_count": 34,
   "metadata": {},
   "outputs": [
    {
     "data": {
      "text/plain": [
       "array([False,  True])"
      ]
     },
     "execution_count": 34,
     "metadata": {},
     "output_type": "execute_result"
    }
   ],
   "source": [
    "df['rated'].unique()"
   ]
  },
  {
   "cell_type": "markdown",
   "metadata": {},
   "source": [
    "so, it include two category true and false which seems if rated is true and if not rated is false which make sense, lets convert it into o and 1 form"
   ]
  },
  {
   "cell_type": "code",
   "execution_count": 35,
   "metadata": {},
   "outputs": [
    {
     "data": {
      "text/plain": [
       "array(['outoftime', 'resign', 'mate', 'draw'], dtype=object)"
      ]
     },
     "execution_count": 35,
     "metadata": {},
     "output_type": "execute_result"
    }
   ],
   "source": [
    "df.victory_status.unique()"
   ]
  },
  {
   "cell_type": "code",
   "execution_count": 36,
   "metadata": {},
   "outputs": [],
   "source": [
    "df.drop(columns = ['opening_name', 'id','victory_status', 'turns','moves'], axis =1, inplace =True)"
   ]
  },
  {
   "cell_type": "code",
   "execution_count": 37,
   "metadata": {},
   "outputs": [
    {
     "data": {
      "text/html": [
       "<div>\n",
       "<style scoped>\n",
       "    .dataframe tbody tr th:only-of-type {\n",
       "        vertical-align: middle;\n",
       "    }\n",
       "\n",
       "    .dataframe tbody tr th {\n",
       "        vertical-align: top;\n",
       "    }\n",
       "\n",
       "    .dataframe thead th {\n",
       "        text-align: right;\n",
       "    }\n",
       "</style>\n",
       "<table border=\"1\" class=\"dataframe\">\n",
       "  <thead>\n",
       "    <tr style=\"text-align: right;\">\n",
       "      <th></th>\n",
       "      <th>rated</th>\n",
       "      <th>winner</th>\n",
       "      <th>white_rating</th>\n",
       "      <th>black_rating</th>\n",
       "      <th>opening_eco</th>\n",
       "      <th>opening_ply</th>\n",
       "      <th>white_1move</th>\n",
       "      <th>black_1move</th>\n",
       "    </tr>\n",
       "  </thead>\n",
       "  <tbody>\n",
       "    <tr>\n",
       "      <th>0</th>\n",
       "      <td>False</td>\n",
       "      <td>white</td>\n",
       "      <td>1500</td>\n",
       "      <td>1191</td>\n",
       "      <td>0.400000</td>\n",
       "      <td>5</td>\n",
       "      <td>0.499337</td>\n",
       "      <td>0.493591</td>\n",
       "    </tr>\n",
       "    <tr>\n",
       "      <th>1</th>\n",
       "      <td>True</td>\n",
       "      <td>black</td>\n",
       "      <td>1322</td>\n",
       "      <td>1261</td>\n",
       "      <td>0.597381</td>\n",
       "      <td>4</td>\n",
       "      <td>0.499337</td>\n",
       "      <td>0.563776</td>\n",
       "    </tr>\n",
       "    <tr>\n",
       "      <th>2</th>\n",
       "      <td>True</td>\n",
       "      <td>white</td>\n",
       "      <td>1496</td>\n",
       "      <td>1500</td>\n",
       "      <td>0.442963</td>\n",
       "      <td>3</td>\n",
       "      <td>0.505715</td>\n",
       "      <td>0.515312</td>\n",
       "    </tr>\n",
       "    <tr>\n",
       "      <th>3</th>\n",
       "      <td>True</td>\n",
       "      <td>white</td>\n",
       "      <td>1439</td>\n",
       "      <td>1454</td>\n",
       "      <td>0.511521</td>\n",
       "      <td>3</td>\n",
       "      <td>0.499337</td>\n",
       "      <td>0.493591</td>\n",
       "    </tr>\n",
       "    <tr>\n",
       "      <th>4</th>\n",
       "      <td>True</td>\n",
       "      <td>white</td>\n",
       "      <td>1523</td>\n",
       "      <td>1469</td>\n",
       "      <td>0.573082</td>\n",
       "      <td>5</td>\n",
       "      <td>0.505715</td>\n",
       "      <td>0.515312</td>\n",
       "    </tr>\n",
       "  </tbody>\n",
       "</table>\n",
       "</div>"
      ],
      "text/plain": [
       "   rated winner  white_rating  black_rating  opening_eco  opening_ply  \\\n",
       "0  False  white          1500          1191     0.400000            5   \n",
       "1   True  black          1322          1261     0.597381            4   \n",
       "2   True  white          1496          1500     0.442963            3   \n",
       "3   True  white          1439          1454     0.511521            3   \n",
       "4   True  white          1523          1469     0.573082            5   \n",
       "\n",
       "   white_1move  black_1move  \n",
       "0     0.499337     0.493591  \n",
       "1     0.499337     0.563776  \n",
       "2     0.505715     0.515312  \n",
       "3     0.499337     0.493591  \n",
       "4     0.505715     0.515312  "
      ]
     },
     "execution_count": 37,
     "metadata": {},
     "output_type": "execute_result"
    }
   ],
   "source": [
    "df.head()"
   ]
  },
  {
   "cell_type": "code",
   "execution_count": 38,
   "metadata": {},
   "outputs": [],
   "source": [
    "df.replace({False: 0, True: 1}, inplace=True)"
   ]
  },
  {
   "cell_type": "code",
   "execution_count": 39,
   "metadata": {},
   "outputs": [
    {
     "data": {
      "text/html": [
       "<div>\n",
       "<style scoped>\n",
       "    .dataframe tbody tr th:only-of-type {\n",
       "        vertical-align: middle;\n",
       "    }\n",
       "\n",
       "    .dataframe tbody tr th {\n",
       "        vertical-align: top;\n",
       "    }\n",
       "\n",
       "    .dataframe thead th {\n",
       "        text-align: right;\n",
       "    }\n",
       "</style>\n",
       "<table border=\"1\" class=\"dataframe\">\n",
       "  <thead>\n",
       "    <tr style=\"text-align: right;\">\n",
       "      <th></th>\n",
       "      <th>rated</th>\n",
       "      <th>winner</th>\n",
       "      <th>white_rating</th>\n",
       "      <th>black_rating</th>\n",
       "      <th>opening_eco</th>\n",
       "      <th>opening_ply</th>\n",
       "      <th>white_1move</th>\n",
       "      <th>black_1move</th>\n",
       "    </tr>\n",
       "  </thead>\n",
       "  <tbody>\n",
       "    <tr>\n",
       "      <th>0</th>\n",
       "      <td>0</td>\n",
       "      <td>white</td>\n",
       "      <td>1500</td>\n",
       "      <td>1191</td>\n",
       "      <td>0.400000</td>\n",
       "      <td>5</td>\n",
       "      <td>0.499337</td>\n",
       "      <td>0.493591</td>\n",
       "    </tr>\n",
       "    <tr>\n",
       "      <th>1</th>\n",
       "      <td>1</td>\n",
       "      <td>black</td>\n",
       "      <td>1322</td>\n",
       "      <td>1261</td>\n",
       "      <td>0.597381</td>\n",
       "      <td>4</td>\n",
       "      <td>0.499337</td>\n",
       "      <td>0.563776</td>\n",
       "    </tr>\n",
       "    <tr>\n",
       "      <th>2</th>\n",
       "      <td>1</td>\n",
       "      <td>white</td>\n",
       "      <td>1496</td>\n",
       "      <td>1500</td>\n",
       "      <td>0.442963</td>\n",
       "      <td>3</td>\n",
       "      <td>0.505715</td>\n",
       "      <td>0.515312</td>\n",
       "    </tr>\n",
       "    <tr>\n",
       "      <th>3</th>\n",
       "      <td>1</td>\n",
       "      <td>white</td>\n",
       "      <td>1439</td>\n",
       "      <td>1454</td>\n",
       "      <td>0.511521</td>\n",
       "      <td>3</td>\n",
       "      <td>0.499337</td>\n",
       "      <td>0.493591</td>\n",
       "    </tr>\n",
       "    <tr>\n",
       "      <th>4</th>\n",
       "      <td>1</td>\n",
       "      <td>white</td>\n",
       "      <td>1523</td>\n",
       "      <td>1469</td>\n",
       "      <td>0.573082</td>\n",
       "      <td>5</td>\n",
       "      <td>0.505715</td>\n",
       "      <td>0.515312</td>\n",
       "    </tr>\n",
       "  </tbody>\n",
       "</table>\n",
       "</div>"
      ],
      "text/plain": [
       "   rated winner  white_rating  black_rating  opening_eco  opening_ply  \\\n",
       "0      0  white          1500          1191     0.400000            5   \n",
       "1      1  black          1322          1261     0.597381            4   \n",
       "2      1  white          1496          1500     0.442963            3   \n",
       "3      1  white          1439          1454     0.511521            3   \n",
       "4      1  white          1523          1469     0.573082            5   \n",
       "\n",
       "   white_1move  black_1move  \n",
       "0     0.499337     0.493591  \n",
       "1     0.499337     0.563776  \n",
       "2     0.505715     0.515312  \n",
       "3     0.499337     0.493591  \n",
       "4     0.505715     0.515312  "
      ]
     },
     "execution_count": 39,
     "metadata": {},
     "output_type": "execute_result"
    }
   ],
   "source": [
    "df.head()"
   ]
  },
  {
   "cell_type": "code",
   "execution_count": 40,
   "metadata": {},
   "outputs": [],
   "source": [
    "df.replace({'white' : 1, 'black': 0, 'draw': 0}, inplace = True)"
   ]
  },
  {
   "cell_type": "code",
   "execution_count": 41,
   "metadata": {},
   "outputs": [
    {
     "data": {
      "text/html": [
       "<div>\n",
       "<style scoped>\n",
       "    .dataframe tbody tr th:only-of-type {\n",
       "        vertical-align: middle;\n",
       "    }\n",
       "\n",
       "    .dataframe tbody tr th {\n",
       "        vertical-align: top;\n",
       "    }\n",
       "\n",
       "    .dataframe thead th {\n",
       "        text-align: right;\n",
       "    }\n",
       "</style>\n",
       "<table border=\"1\" class=\"dataframe\">\n",
       "  <thead>\n",
       "    <tr style=\"text-align: right;\">\n",
       "      <th></th>\n",
       "      <th>rated</th>\n",
       "      <th>winner</th>\n",
       "      <th>white_rating</th>\n",
       "      <th>black_rating</th>\n",
       "      <th>opening_eco</th>\n",
       "      <th>opening_ply</th>\n",
       "      <th>white_1move</th>\n",
       "      <th>black_1move</th>\n",
       "    </tr>\n",
       "  </thead>\n",
       "  <tbody>\n",
       "    <tr>\n",
       "      <th>0</th>\n",
       "      <td>0</td>\n",
       "      <td>1</td>\n",
       "      <td>1500</td>\n",
       "      <td>1191</td>\n",
       "      <td>0.400000</td>\n",
       "      <td>5</td>\n",
       "      <td>0.499337</td>\n",
       "      <td>0.493591</td>\n",
       "    </tr>\n",
       "    <tr>\n",
       "      <th>1</th>\n",
       "      <td>1</td>\n",
       "      <td>0</td>\n",
       "      <td>1322</td>\n",
       "      <td>1261</td>\n",
       "      <td>0.597381</td>\n",
       "      <td>4</td>\n",
       "      <td>0.499337</td>\n",
       "      <td>0.563776</td>\n",
       "    </tr>\n",
       "    <tr>\n",
       "      <th>2</th>\n",
       "      <td>1</td>\n",
       "      <td>1</td>\n",
       "      <td>1496</td>\n",
       "      <td>1500</td>\n",
       "      <td>0.442963</td>\n",
       "      <td>3</td>\n",
       "      <td>0.505715</td>\n",
       "      <td>0.515312</td>\n",
       "    </tr>\n",
       "    <tr>\n",
       "      <th>3</th>\n",
       "      <td>1</td>\n",
       "      <td>1</td>\n",
       "      <td>1439</td>\n",
       "      <td>1454</td>\n",
       "      <td>0.511521</td>\n",
       "      <td>3</td>\n",
       "      <td>0.499337</td>\n",
       "      <td>0.493591</td>\n",
       "    </tr>\n",
       "    <tr>\n",
       "      <th>4</th>\n",
       "      <td>1</td>\n",
       "      <td>1</td>\n",
       "      <td>1523</td>\n",
       "      <td>1469</td>\n",
       "      <td>0.573082</td>\n",
       "      <td>5</td>\n",
       "      <td>0.505715</td>\n",
       "      <td>0.515312</td>\n",
       "    </tr>\n",
       "  </tbody>\n",
       "</table>\n",
       "</div>"
      ],
      "text/plain": [
       "   rated  winner  white_rating  black_rating  opening_eco  opening_ply  \\\n",
       "0      0       1          1500          1191     0.400000            5   \n",
       "1      1       0          1322          1261     0.597381            4   \n",
       "2      1       1          1496          1500     0.442963            3   \n",
       "3      1       1          1439          1454     0.511521            3   \n",
       "4      1       1          1523          1469     0.573082            5   \n",
       "\n",
       "   white_1move  black_1move  \n",
       "0     0.499337     0.493591  \n",
       "1     0.499337     0.563776  \n",
       "2     0.505715     0.515312  \n",
       "3     0.499337     0.493591  \n",
       "4     0.505715     0.515312  "
      ]
     },
     "execution_count": 41,
     "metadata": {},
     "output_type": "execute_result"
    }
   ],
   "source": [
    "df.head()"
   ]
  },
  {
   "cell_type": "code",
   "execution_count": 47,
   "metadata": {},
   "outputs": [
    {
     "data": {
      "text/plain": [
       "<matplotlib.axes._subplots.AxesSubplot at 0x7fc9adb3a2d0>"
      ]
     },
     "execution_count": 47,
     "metadata": {},
     "output_type": "execute_result"
    },
    {
     "data": {
      "image/png": "[encoded data removed]",
      "text/plain": [
       "<Figure size 1200x800 with 1 Axes>"
      ]
     },
     "metadata": {
      "needs_background": "light"
     },
     "output_type": "display_data"
    }
   ],
   "source": [
    "df.winner.value_counts().plot(kind = 'bar')"
   ]
  },
  {
   "cell_type": "code",
   "execution_count": 48,
   "metadata": {},
   "outputs": [
    {
     "data": {
      "text/plain": [
       "<matplotlib.axes._subplots.AxesSubplot at 0x7fc9adc64690>"
      ]
     },
     "execution_count": 48,
     "metadata": {},
     "output_type": "execute_result"
    },
    {
     "data": {
      "image/png": "[encoded data removed]",
      "text/plain": [
       "<Figure size 1200x800 with 1 Axes>"
      ]
     },
     "metadata": {
      "needs_background": "light"
     },
     "output_type": "display_data"
    }
   ],
   "source": [
    "df.groupby('winner').rated.value_counts().plot(kind = 'bar')"
   ]
  },
  {
   "cell_type": "code",
   "execution_count": 49,
   "metadata": {},
   "outputs": [],
   "source": [
    "df = df.dropna().copy()"
   ]
  },
  {
   "cell_type": "code",
   "execution_count": 50,
   "metadata": {},
   "outputs": [],
   "source": [
    "df.to_csv('cleaned_data')"
   ]
  },
  {
   "cell_type": "code",
   "execution_count": 51,
   "metadata": {},
   "outputs": [
    {
     "data": {
      "text/html": [
       "<div>\n",
       "<style scoped>\n",
       "    .dataframe tbody tr th:only-of-type {\n",
       "        vertical-align: middle;\n",
       "    }\n",
       "\n",
       "    .dataframe tbody tr th {\n",
       "        vertical-align: top;\n",
       "    }\n",
       "\n",
       "    .dataframe thead th {\n",
       "        text-align: right;\n",
       "    }\n",
       "</style>\n",
       "<table border=\"1\" class=\"dataframe\">\n",
       "  <thead>\n",
       "    <tr style=\"text-align: right;\">\n",
       "      <th></th>\n",
       "      <th>rated</th>\n",
       "      <th>white_rating</th>\n",
       "      <th>black_rating</th>\n",
       "      <th>opening_eco</th>\n",
       "      <th>opening_ply</th>\n",
       "      <th>white_1move</th>\n",
       "      <th>black_1move</th>\n",
       "    </tr>\n",
       "  </thead>\n",
       "  <tbody>\n",
       "    <tr>\n",
       "      <th>0</th>\n",
       "      <td>0</td>\n",
       "      <td>1500</td>\n",
       "      <td>1191</td>\n",
       "      <td>0.400000</td>\n",
       "      <td>5</td>\n",
       "      <td>0.499337</td>\n",
       "      <td>0.493591</td>\n",
       "    </tr>\n",
       "    <tr>\n",
       "      <th>1</th>\n",
       "      <td>1</td>\n",
       "      <td>1322</td>\n",
       "      <td>1261</td>\n",
       "      <td>0.597381</td>\n",
       "      <td>4</td>\n",
       "      <td>0.499337</td>\n",
       "      <td>0.563776</td>\n",
       "    </tr>\n",
       "    <tr>\n",
       "      <th>2</th>\n",
       "      <td>1</td>\n",
       "      <td>1496</td>\n",
       "      <td>1500</td>\n",
       "      <td>0.442963</td>\n",
       "      <td>3</td>\n",
       "      <td>0.505715</td>\n",
       "      <td>0.515312</td>\n",
       "    </tr>\n",
       "    <tr>\n",
       "      <th>3</th>\n",
       "      <td>1</td>\n",
       "      <td>1439</td>\n",
       "      <td>1454</td>\n",
       "      <td>0.511521</td>\n",
       "      <td>3</td>\n",
       "      <td>0.499337</td>\n",
       "      <td>0.493591</td>\n",
       "    </tr>\n",
       "    <tr>\n",
       "      <th>4</th>\n",
       "      <td>1</td>\n",
       "      <td>1523</td>\n",
       "      <td>1469</td>\n",
       "      <td>0.573082</td>\n",
       "      <td>5</td>\n",
       "      <td>0.505715</td>\n",
       "      <td>0.515312</td>\n",
       "    </tr>\n",
       "    <tr>\n",
       "      <th>...</th>\n",
       "      <td>...</td>\n",
       "      <td>...</td>\n",
       "      <td>...</td>\n",
       "      <td>...</td>\n",
       "      <td>...</td>\n",
       "      <td>...</td>\n",
       "      <td>...</td>\n",
       "    </tr>\n",
       "    <tr>\n",
       "      <th>20053</th>\n",
       "      <td>1</td>\n",
       "      <td>1691</td>\n",
       "      <td>1220</td>\n",
       "      <td>0.527273</td>\n",
       "      <td>2</td>\n",
       "      <td>0.499337</td>\n",
       "      <td>0.506024</td>\n",
       "    </tr>\n",
       "    <tr>\n",
       "      <th>20054</th>\n",
       "      <td>1</td>\n",
       "      <td>1233</td>\n",
       "      <td>1196</td>\n",
       "      <td>0.600000</td>\n",
       "      <td>2</td>\n",
       "      <td>0.499337</td>\n",
       "      <td>0.561694</td>\n",
       "    </tr>\n",
       "    <tr>\n",
       "      <th>20055</th>\n",
       "      <td>1</td>\n",
       "      <td>1219</td>\n",
       "      <td>1286</td>\n",
       "      <td>0.461434</td>\n",
       "      <td>3</td>\n",
       "      <td>0.499337</td>\n",
       "      <td>0.493591</td>\n",
       "    </tr>\n",
       "    <tr>\n",
       "      <th>20056</th>\n",
       "      <td>1</td>\n",
       "      <td>1360</td>\n",
       "      <td>1227</td>\n",
       "      <td>0.555921</td>\n",
       "      <td>4</td>\n",
       "      <td>0.505715</td>\n",
       "      <td>0.561694</td>\n",
       "    </tr>\n",
       "    <tr>\n",
       "      <th>20057</th>\n",
       "      <td>1</td>\n",
       "      <td>1235</td>\n",
       "      <td>1339</td>\n",
       "      <td>0.461434</td>\n",
       "      <td>3</td>\n",
       "      <td>0.499337</td>\n",
       "      <td>0.493591</td>\n",
       "    </tr>\n",
       "  </tbody>\n",
       "</table>\n",
       "<p>20040 rows × 7 columns</p>\n",
       "</div>"
      ],
      "text/plain": [
       "       rated  white_rating  black_rating  opening_eco  opening_ply  \\\n",
       "0          0          1500          1191     0.400000            5   \n",
       "1          1          1322          1261     0.597381            4   \n",
       "2          1          1496          1500     0.442963            3   \n",
       "3          1          1439          1454     0.511521            3   \n",
       "4          1          1523          1469     0.573082            5   \n",
       "...      ...           ...           ...          ...          ...   \n",
       "20053      1          1691          1220     0.527273            2   \n",
       "20054      1          1233          1196     0.600000            2   \n",
       "20055      1          1219          1286     0.461434            3   \n",
       "20056      1          1360          1227     0.555921            4   \n",
       "20057      1          1235          1339     0.461434            3   \n",
       "\n",
       "       white_1move  black_1move  \n",
       "0         0.499337     0.493591  \n",
       "1         0.499337     0.563776  \n",
       "2         0.505715     0.515312  \n",
       "3         0.499337     0.493591  \n",
       "4         0.505715     0.515312  \n",
       "...            ...          ...  \n",
       "20053     0.499337     0.506024  \n",
       "20054     0.499337     0.561694  \n",
       "20055     0.499337     0.493591  \n",
       "20056     0.505715     0.561694  \n",
       "20057     0.499337     0.493591  \n",
       "\n",
       "[20040 rows x 7 columns]"
      ]
     },
     "execution_count": 51,
     "metadata": {},
     "output_type": "execute_result"
    }
   ],
   "source": [
    "#features\n",
    "x = df.drop('winner', axis = 1)\n",
    "x"
   ]
  },
  {
   "cell_type": "code",
   "execution_count": 52,
   "metadata": {},
   "outputs": [],
   "source": [
    "#target\n",
    "y = df.winner"
   ]
  },
  {
   "cell_type": "code",
   "execution_count": 53,
   "metadata": {},
   "outputs": [
    {
     "data": {
      "text/plain": [
       "0        1\n",
       "1        0\n",
       "2        1\n",
       "3        1\n",
       "4        1\n",
       "        ..\n",
       "20053    1\n",
       "20054    0\n",
       "20055    1\n",
       "20056    1\n",
       "20057    0\n",
       "Name: winner, Length: 20040, dtype: int64"
      ]
     },
     "execution_count": 53,
     "metadata": {},
     "output_type": "execute_result"
    }
   ],
   "source": [
    "y"
   ]
  },
  {
   "cell_type": "markdown",
   "metadata": {},
   "source": [
    "# Train Test split"
   ]
  },
  {
   "cell_type": "code",
   "execution_count": 54,
   "metadata": {},
   "outputs": [],
   "source": [
    "from sklearn.model_selection import train_test_split"
   ]
  },
  {
   "cell_type": "code",
   "execution_count": 55,
   "metadata": {},
   "outputs": [],
   "source": [
    "x_train, x_test, y_train, y_test = train_test_split(x, y, test_size = 0.3, random_state = 0, stratify = y)"
   ]
  },
  {
   "cell_type": "markdown",
   "metadata": {},
   "source": [
    "# Feature Scaling"
   ]
  },
  {
   "cell_type": "code",
   "execution_count": 56,
   "metadata": {},
   "outputs": [],
   "source": [
    "from sklearn.preprocessing import StandardScaler"
   ]
  },
  {
   "cell_type": "code",
   "execution_count": 57,
   "metadata": {},
   "outputs": [
    {
     "data": {
      "text/plain": [
       "StandardScaler()"
      ]
     },
     "execution_count": 57,
     "metadata": {},
     "output_type": "execute_result"
    }
   ],
   "source": [
    "scaler=StandardScaler()\n",
    "scaler.fit(x_train)"
   ]
  },
  {
   "cell_type": "code",
   "execution_count": 58,
   "metadata": {},
   "outputs": [],
   "source": [
    "x_train_scaled=scaler.transform(x_train)\n",
    "x_test_scaled = scaler.transform(x_test)"
   ]
  },
  {
   "cell_type": "code",
   "execution_count": 59,
   "metadata": {},
   "outputs": [],
   "source": [
    "#pip install xgboost"
   ]
  },
  {
   "cell_type": "code",
   "execution_count": 60,
   "metadata": {},
   "outputs": [],
   "source": [
    "#pip install catboost"
   ]
  },
  {
   "cell_type": "markdown",
   "metadata": {},
   "source": [
    "# Models"
   ]
  },
  {
   "cell_type": "markdown",
   "metadata": {},
   "source": [
    "### Model 1 Logistic Regression"
   ]
  },
  {
   "cell_type": "code",
   "execution_count": 61,
   "metadata": {},
   "outputs": [
    {
     "data": {
      "text/plain": [
       "LogisticRegression(class_weight='balanced', max_iter=100000.0)"
      ]
     },
     "execution_count": 61,
     "metadata": {},
     "output_type": "execute_result"
    }
   ],
   "source": [
    "model1 = LogisticRegression(class_weight = 'balanced',max_iter = 1e5)\n",
    "model1.fit(x_train_scaled,y_train)"
   ]
  },
  {
   "cell_type": "code",
   "execution_count": 62,
   "metadata": {},
   "outputs": [],
   "source": [
    "y_pred1 = model1.predict(x_test_scaled)"
   ]
  },
  {
   "cell_type": "code",
   "execution_count": 63,
   "metadata": {},
   "outputs": [
    {
     "name": "stdout",
     "output_type": "stream",
     "text": [
      "0.6606786427145709\n",
      "0.6549821486530347\n",
      "0.6737896494156929\n"
     ]
    }
   ],
   "source": [
    "print(accuracy_score(y_test, y_pred1))\n",
    "print(precision_score(y_test, y_pred1))\n",
    "print(recall_score(y_test, y_pred1))\n",
    "prob_1 = model1.predict_proba(x_test_scaled)"
   ]
  },
  {
   "cell_type": "code",
   "execution_count": 64,
   "metadata": {},
   "outputs": [
    {
     "name": "stdout",
     "output_type": "stream",
     "text": [
      "              precision    recall  f1-score   support\n",
      "\n",
      "           0       0.67      0.65      0.66      3017\n",
      "           1       0.65      0.67      0.66      2995\n",
      "\n",
      "    accuracy                           0.66      6012\n",
      "   macro avg       0.66      0.66      0.66      6012\n",
      "weighted avg       0.66      0.66      0.66      6012\n",
      "\n"
     ]
    }
   ],
   "source": [
    "print(classification_report(y_test, y_pred1))"
   ]
  },
  {
   "cell_type": "markdown",
   "metadata": {},
   "source": [
    "# Feature Importance"
   ]
  },
  {
   "cell_type": "code",
   "execution_count": 65,
   "metadata": {},
   "outputs": [],
   "source": [
    "#pd.Series(model1.feature_importances_, index=x_train.columns).sort_values().plot.barh()"
   ]
  },
  {
   "cell_type": "markdown",
   "metadata": {},
   "source": [
    "### Model 2 KNN"
   ]
  },
  {
   "cell_type": "code",
   "execution_count": 66,
   "metadata": {},
   "outputs": [],
   "source": [
    "model2= KNeighborsClassifier(2)\n",
    "model2.fit(x_train_scaled, y_train)\n",
    "y_pred2= model2.predict(x_test_scaled)"
   ]
  },
  {
   "cell_type": "code",
   "execution_count": 67,
   "metadata": {},
   "outputs": [
    {
     "name": "stdout",
     "output_type": "stream",
     "text": [
      "0.5883233532934131\n",
      "0.648741418764302\n",
      "0.37863105175292155\n"
     ]
    }
   ],
   "source": [
    "print(accuracy_score(y_test, y_pred2))\n",
    "print(precision_score(y_test, y_pred2))\n",
    "print(recall_score(y_test, y_pred2))\n",
    "prob_2 = model1.predict_proba(x_test_scaled)"
   ]
  },
  {
   "cell_type": "code",
   "execution_count": 68,
   "metadata": {},
   "outputs": [
    {
     "name": "stdout",
     "output_type": "stream",
     "text": [
      "              precision    recall  f1-score   support\n",
      "\n",
      "           0       0.56      0.80      0.66      3017\n",
      "           1       0.65      0.38      0.48      2995\n",
      "\n",
      "    accuracy                           0.59      6012\n",
      "   macro avg       0.61      0.59      0.57      6012\n",
      "weighted avg       0.61      0.59      0.57      6012\n",
      "\n"
     ]
    }
   ],
   "source": [
    "print(classification_report(y_test, y_pred2))"
   ]
  },
  {
   "cell_type": "markdown",
   "metadata": {},
   "source": [
    "# Feature importance"
   ]
  },
  {
   "cell_type": "code",
   "execution_count": 69,
   "metadata": {},
   "outputs": [],
   "source": [
    "#importances = CV_RFR_regr.best_estimator_.feature_importances_"
   ]
  },
  {
   "cell_type": "markdown",
   "metadata": {},
   "source": [
    "### Model 3 Gaussian"
   ]
  },
  {
   "cell_type": "code",
   "execution_count": 70,
   "metadata": {},
   "outputs": [],
   "source": [
    "model3= GaussianNB()\n",
    "model3.fit(x_train_scaled, y_train)\n",
    "y_pred3= model3.predict(x_test_scaled)"
   ]
  },
  {
   "cell_type": "code",
   "execution_count": 71,
   "metadata": {},
   "outputs": [
    {
     "name": "stdout",
     "output_type": "stream",
     "text": [
      "[[1370 1647]\n",
      " [ 661 2334]]\n",
      "0.6161011310711909\n",
      "0.586284853051997\n",
      "0.7792988313856427\n"
     ]
    }
   ],
   "source": [
    "print(confusion_matrix(y_test, y_pred3))\n",
    "print(accuracy_score(y_test, y_pred3))\n",
    "print(precision_score(y_test, y_pred3))\n",
    "print(recall_score(y_test, y_pred3))\n",
    "prob_3 = model3.predict_proba(x_test_scaled)"
   ]
  },
  {
   "cell_type": "code",
   "execution_count": 72,
   "metadata": {},
   "outputs": [
    {
     "name": "stdout",
     "output_type": "stream",
     "text": [
      "              precision    recall  f1-score   support\n",
      "\n",
      "           0       0.67      0.45      0.54      3017\n",
      "           1       0.59      0.78      0.67      2995\n",
      "\n",
      "    accuracy                           0.62      6012\n",
      "   macro avg       0.63      0.62      0.61      6012\n",
      "weighted avg       0.63      0.62      0.61      6012\n",
      "\n"
     ]
    }
   ],
   "source": [
    "print(classification_report(y_test, y_pred3))"
   ]
  },
  {
   "cell_type": "markdown",
   "metadata": {},
   "source": [
    "# Feature importance"
   ]
  },
  {
   "cell_type": "code",
   "execution_count": null,
   "metadata": {},
   "outputs": [],
   "source": []
  },
  {
   "cell_type": "markdown",
   "metadata": {},
   "source": [
    "### Model 4 support vector machine"
   ]
  },
  {
   "cell_type": "code",
   "execution_count": 73,
   "metadata": {},
   "outputs": [],
   "source": [
    "model4= SVC(probability =True)\n",
    "model4.fit(x_train_scaled, y_train)\n",
    "y_pred4= model4.predict(x_test_scaled)"
   ]
  },
  {
   "cell_type": "code",
   "execution_count": 74,
   "metadata": {},
   "outputs": [
    {
     "name": "stdout",
     "output_type": "stream",
     "text": [
      "0.6586826347305389\n",
      "0.6556619346318917\n",
      "0.6631051752921536\n"
     ]
    }
   ],
   "source": [
    "print(accuracy_score(y_test, y_pred4))\n",
    "print(precision_score(y_test, y_pred4))\n",
    "print(recall_score(y_test, y_pred4))\n",
    "prob_4 = model4.predict_proba(x_test_scaled)"
   ]
  },
  {
   "cell_type": "code",
   "execution_count": 75,
   "metadata": {},
   "outputs": [
    {
     "name": "stdout",
     "output_type": "stream",
     "text": [
      "              precision    recall  f1-score   support\n",
      "\n",
      "           0       0.66      0.65      0.66      3017\n",
      "           1       0.66      0.66      0.66      2995\n",
      "\n",
      "    accuracy                           0.66      6012\n",
      "   macro avg       0.66      0.66      0.66      6012\n",
      "weighted avg       0.66      0.66      0.66      6012\n",
      "\n"
     ]
    }
   ],
   "source": [
    "print(classification_report(y_test, y_pred4))"
   ]
  },
  {
   "cell_type": "markdown",
   "metadata": {},
   "source": [
    "### Model 5 Decision Tree"
   ]
  },
  {
   "cell_type": "code",
   "execution_count": 76,
   "metadata": {},
   "outputs": [],
   "source": [
    "model5= DecisionTreeClassifier()\n",
    "model5.fit(x_train_scaled, y_train)\n",
    "y_pred5= model5.predict(x_test_scaled)"
   ]
  },
  {
   "cell_type": "code",
   "execution_count": 77,
   "metadata": {},
   "outputs": [
    {
     "name": "stdout",
     "output_type": "stream",
     "text": [
      "0.6142714570858283\n",
      "0.6117724867724867\n",
      "0.6176961602671118\n"
     ]
    }
   ],
   "source": [
    "print(accuracy_score(y_test, y_pred5))\n",
    "print(precision_score(y_test, y_pred5))\n",
    "print(recall_score(y_test, y_pred5))\n",
    "prob_5 = model5.predict_proba(x_test_scaled)"
   ]
  },
  {
   "cell_type": "code",
   "execution_count": 78,
   "metadata": {},
   "outputs": [
    {
     "name": "stdout",
     "output_type": "stream",
     "text": [
      "              precision    recall  f1-score   support\n",
      "\n",
      "           0       0.62      0.61      0.61      3017\n",
      "           1       0.61      0.62      0.61      2995\n",
      "\n",
      "    accuracy                           0.61      6012\n",
      "   macro avg       0.61      0.61      0.61      6012\n",
      "weighted avg       0.61      0.61      0.61      6012\n",
      "\n"
     ]
    }
   ],
   "source": [
    "print(classification_report(y_test, y_pred5))"
   ]
  },
  {
   "cell_type": "markdown",
   "metadata": {},
   "source": [
    "# Feature Importance"
   ]
  },
  {
   "cell_type": "code",
   "execution_count": 79,
   "metadata": {},
   "outputs": [
    {
     "data": {
      "text/plain": [
       "<matplotlib.axes._subplots.AxesSubplot at 0x7fc9af83d490>"
      ]
     },
     "execution_count": 79,
     "metadata": {},
     "output_type": "execute_result"
    },
    {
     "data": {
      "image/png": "[encoded data removed]",
      "text/plain": [
       "<Figure size 1200x800 with 1 Axes>"
      ]
     },
     "metadata": {
      "needs_background": "light"
     },
     "output_type": "display_data"
    }
   ],
   "source": [
    "pd.Series(model5.feature_importances_, index=x_train.columns).sort_values().plot.barh()"
   ]
  },
  {
   "cell_type": "markdown",
   "metadata": {},
   "source": [
    "### Model 6 Random forest classifier"
   ]
  },
  {
   "cell_type": "code",
   "execution_count": 80,
   "metadata": {},
   "outputs": [],
   "source": [
    "model6=RandomForestClassifier(class_weight='balanced')\n",
    "model6.fit(x_train_scaled, y_train)\n",
    "y_pred6 = model6.predict(x_test_scaled)"
   ]
  },
  {
   "cell_type": "code",
   "execution_count": 81,
   "metadata": {},
   "outputs": [
    {
     "name": "stdout",
     "output_type": "stream",
     "text": [
      "0.6636726546906188\n",
      "0.6627634660421545\n",
      "0.6614357262103506\n"
     ]
    }
   ],
   "source": [
    "print(accuracy_score(y_test, y_pred6))\n",
    "print(precision_score(y_test, y_pred6))\n",
    "print(recall_score(y_test, y_pred6))\n",
    "prob_6 = model6.predict_proba(x_test_scaled)"
   ]
  },
  {
   "cell_type": "code",
   "execution_count": 82,
   "metadata": {},
   "outputs": [
    {
     "name": "stdout",
     "output_type": "stream",
     "text": [
      "              precision    recall  f1-score   support\n",
      "\n",
      "           0       0.66      0.67      0.67      3017\n",
      "           1       0.66      0.66      0.66      2995\n",
      "\n",
      "    accuracy                           0.66      6012\n",
      "   macro avg       0.66      0.66      0.66      6012\n",
      "weighted avg       0.66      0.66      0.66      6012\n",
      "\n"
     ]
    }
   ],
   "source": [
    "print(classification_report(y_test, y_pred6))"
   ]
  },
  {
   "cell_type": "markdown",
   "metadata": {},
   "source": [
    "# Feature Importance"
   ]
  },
  {
   "cell_type": "code",
   "execution_count": 83,
   "metadata": {},
   "outputs": [
    {
     "data": {
      "text/plain": [
       "<matplotlib.axes._subplots.AxesSubplot at 0x7fc9af72c4d0>"
      ]
     },
     "execution_count": 83,
     "metadata": {},
     "output_type": "execute_result"
    },
    {
     "data": {
      "image/png": "[encoded data removed]",
      "text/plain": [
       "<Figure size 1200x800 with 1 Axes>"
      ]
     },
     "metadata": {
      "needs_background": "light"
     },
     "output_type": "display_data"
    }
   ],
   "source": [
    "pd.Series(model6.feature_importances_, index=x_train.columns).sort_values().plot.barh()"
   ]
  },
  {
   "cell_type": "markdown",
   "metadata": {},
   "source": [
    "### Model 7 AdaBoost"
   ]
  },
  {
   "cell_type": "code",
   "execution_count": 84,
   "metadata": {},
   "outputs": [],
   "source": [
    "model7=AdaBoostClassifier()\n",
    "model7.fit(x_train_scaled, y_train)\n",
    "y_pred7 = model7.predict(x_test_scaled)"
   ]
  },
  {
   "cell_type": "code",
   "execution_count": 85,
   "metadata": {},
   "outputs": [
    {
     "name": "stdout",
     "output_type": "stream",
     "text": [
      "0.6551896207584831\n",
      "0.65244708994709\n",
      "0.6587646076794658\n"
     ]
    }
   ],
   "source": [
    "print(accuracy_score(y_test, y_pred7))\n",
    "print(precision_score(y_test, y_pred7))\n",
    "print(recall_score(y_test, y_pred7))\n",
    "prob_7 = model7.predict_proba(x_test_scaled)"
   ]
  },
  {
   "cell_type": "code",
   "execution_count": 86,
   "metadata": {},
   "outputs": [
    {
     "name": "stdout",
     "output_type": "stream",
     "text": [
      "              precision    recall  f1-score   support\n",
      "\n",
      "           0       0.66      0.65      0.65      3017\n",
      "           1       0.65      0.66      0.66      2995\n",
      "\n",
      "    accuracy                           0.66      6012\n",
      "   macro avg       0.66      0.66      0.66      6012\n",
      "weighted avg       0.66      0.66      0.66      6012\n",
      "\n"
     ]
    }
   ],
   "source": [
    "print(classification_report(y_test, y_pred7))"
   ]
  },
  {
   "cell_type": "markdown",
   "metadata": {},
   "source": [
    "# Feature Importance"
   ]
  },
  {
   "cell_type": "code",
   "execution_count": 87,
   "metadata": {},
   "outputs": [
    {
     "data": {
      "text/plain": [
       "<matplotlib.axes._subplots.AxesSubplot at 0x7fc9925b2990>"
      ]
     },
     "execution_count": 87,
     "metadata": {},
     "output_type": "execute_result"
    },
    {
     "data": {
      "image/png": "[encoded data removed]",
      "text/plain": [
       "<Figure size 1200x800 with 1 Axes>"
      ]
     },
     "metadata": {
      "needs_background": "light"
     },
     "output_type": "display_data"
    }
   ],
   "source": [
    "pd.Series(model7.feature_importances_, index=x_train.columns).sort_values().plot.barh()"
   ]
  },
  {
   "cell_type": "markdown",
   "metadata": {},
   "source": [
    "### Modle 8 CatBoost "
   ]
  },
  {
   "cell_type": "code",
   "execution_count": 88,
   "metadata": {},
   "outputs": [
    {
     "name": "stdout",
     "output_type": "stream",
     "text": [
      "Learning rate set to 0.03182\n",
      "0:\tlearn: 0.6899688\ttotal: 68.7ms\tremaining: 1m 8s\n",
      "1:\tlearn: 0.6875355\ttotal: 79ms\tremaining: 39.4s\n",
      "2:\tlearn: 0.6846276\ttotal: 88.8ms\tremaining: 29.5s\n",
      "3:\tlearn: 0.6813912\ttotal: 98.3ms\tremaining: 24.5s\n",
      "4:\tlearn: 0.6785019\ttotal: 107ms\tremaining: 21.3s\n",
      "5:\tlearn: 0.6759879\ttotal: 116ms\tremaining: 19.2s\n",
      "6:\tlearn: 0.6738920\ttotal: 125ms\tremaining: 17.8s\n",
      "7:\tlearn: 0.6716217\ttotal: 135ms\tremaining: 16.8s\n",
      "8:\tlearn: 0.6692691\ttotal: 146ms\tremaining: 16.1s\n",
      "9:\tlearn: 0.6668321\ttotal: 156ms\tremaining: 15.5s\n",
      "10:\tlearn: 0.6648713\ttotal: 167ms\tremaining: 15s\n",
      "11:\tlearn: 0.6630054\ttotal: 177ms\tremaining: 14.5s\n",
      "12:\tlearn: 0.6612359\ttotal: 187ms\tremaining: 14.2s\n",
      "13:\tlearn: 0.6593695\ttotal: 199ms\tremaining: 14s\n",
      "14:\tlearn: 0.6578061\ttotal: 210ms\tremaining: 13.8s\n",
      "15:\tlearn: 0.6561269\ttotal: 220ms\tremaining: 13.5s\n",
      "16:\tlearn: 0.6547581\ttotal: 230ms\tremaining: 13.3s\n",
      "17:\tlearn: 0.6531587\ttotal: 239ms\tremaining: 13s\n",
      "18:\tlearn: 0.6516515\ttotal: 249ms\tremaining: 12.8s\n",
      "19:\tlearn: 0.6503054\ttotal: 259ms\tremaining: 12.7s\n",
      "20:\tlearn: 0.6490130\ttotal: 269ms\tremaining: 12.5s\n",
      "21:\tlearn: 0.6475794\ttotal: 277ms\tremaining: 12.3s\n",
      "22:\tlearn: 0.6461484\ttotal: 287ms\tremaining: 12.2s\n",
      "23:\tlearn: 0.6449299\ttotal: 297ms\tremaining: 12.1s\n",
      "24:\tlearn: 0.6437289\ttotal: 304ms\tremaining: 11.9s\n",
      "25:\tlearn: 0.6425646\ttotal: 312ms\tremaining: 11.7s\n",
      "26:\tlearn: 0.6414925\ttotal: 321ms\tremaining: 11.6s\n",
      "27:\tlearn: 0.6404909\ttotal: 328ms\tremaining: 11.4s\n",
      "28:\tlearn: 0.6396454\ttotal: 336ms\tremaining: 11.3s\n",
      "29:\tlearn: 0.6387517\ttotal: 344ms\tremaining: 11.1s\n",
      "30:\tlearn: 0.6378427\ttotal: 352ms\tremaining: 11s\n",
      "31:\tlearn: 0.6370408\ttotal: 360ms\tremaining: 10.9s\n",
      "32:\tlearn: 0.6363033\ttotal: 367ms\tremaining: 10.8s\n",
      "33:\tlearn: 0.6356212\ttotal: 375ms\tremaining: 10.6s\n",
      "34:\tlearn: 0.6348682\ttotal: 382ms\tremaining: 10.5s\n",
      "35:\tlearn: 0.6340960\ttotal: 390ms\tremaining: 10.4s\n",
      "36:\tlearn: 0.6333039\ttotal: 399ms\tremaining: 10.4s\n",
      "37:\tlearn: 0.6326173\ttotal: 409ms\tremaining: 10.3s\n",
      "38:\tlearn: 0.6320483\ttotal: 417ms\tremaining: 10.3s\n",
      "39:\tlearn: 0.6314441\ttotal: 425ms\tremaining: 10.2s\n",
      "40:\tlearn: 0.6307149\ttotal: 433ms\tremaining: 10.1s\n",
      "41:\tlearn: 0.6300827\ttotal: 442ms\tremaining: 10.1s\n",
      "42:\tlearn: 0.6295599\ttotal: 451ms\tremaining: 10s\n",
      "43:\tlearn: 0.6290090\ttotal: 459ms\tremaining: 9.98s\n",
      "44:\tlearn: 0.6283167\ttotal: 470ms\tremaining: 9.97s\n",
      "45:\tlearn: 0.6276887\ttotal: 480ms\tremaining: 9.95s\n",
      "46:\tlearn: 0.6272637\ttotal: 489ms\tremaining: 9.91s\n",
      "47:\tlearn: 0.6266588\ttotal: 499ms\tremaining: 9.89s\n",
      "48:\tlearn: 0.6261989\ttotal: 508ms\tremaining: 9.86s\n",
      "49:\tlearn: 0.6256577\ttotal: 516ms\tremaining: 9.8s\n",
      "50:\tlearn: 0.6252547\ttotal: 525ms\tremaining: 9.76s\n",
      "51:\tlearn: 0.6246818\ttotal: 535ms\tremaining: 9.74s\n",
      "52:\tlearn: 0.6242074\ttotal: 544ms\tremaining: 9.71s\n",
      "53:\tlearn: 0.6236038\ttotal: 553ms\tremaining: 9.68s\n",
      "54:\tlearn: 0.6229941\ttotal: 561ms\tremaining: 9.64s\n",
      "55:\tlearn: 0.6225268\ttotal: 570ms\tremaining: 9.6s\n",
      "56:\tlearn: 0.6221487\ttotal: 578ms\tremaining: 9.56s\n",
      "57:\tlearn: 0.6218364\ttotal: 586ms\tremaining: 9.51s\n",
      "58:\tlearn: 0.6213448\ttotal: 594ms\tremaining: 9.47s\n",
      "59:\tlearn: 0.6210075\ttotal: 604ms\tremaining: 9.47s\n",
      "60:\tlearn: 0.6205916\ttotal: 612ms\tremaining: 9.42s\n",
      "61:\tlearn: 0.6202555\ttotal: 620ms\tremaining: 9.38s\n",
      "62:\tlearn: 0.6199896\ttotal: 628ms\tremaining: 9.34s\n",
      "63:\tlearn: 0.6196554\ttotal: 636ms\tremaining: 9.3s\n",
      "64:\tlearn: 0.6192962\ttotal: 645ms\tremaining: 9.27s\n",
      "65:\tlearn: 0.6189612\ttotal: 652ms\tremaining: 9.23s\n",
      "66:\tlearn: 0.6186582\ttotal: 660ms\tremaining: 9.19s\n",
      "67:\tlearn: 0.6183584\ttotal: 667ms\tremaining: 9.15s\n",
      "68:\tlearn: 0.6180384\ttotal: 675ms\tremaining: 9.11s\n",
      "69:\tlearn: 0.6177009\ttotal: 682ms\tremaining: 9.07s\n",
      "70:\tlearn: 0.6174208\ttotal: 690ms\tremaining: 9.03s\n",
      "71:\tlearn: 0.6171937\ttotal: 698ms\tremaining: 8.99s\n",
      "72:\tlearn: 0.6168310\ttotal: 706ms\tremaining: 8.96s\n",
      "73:\tlearn: 0.6165892\ttotal: 714ms\tremaining: 8.93s\n",
      "74:\tlearn: 0.6163149\ttotal: 722ms\tremaining: 8.9s\n",
      "75:\tlearn: 0.6161569\ttotal: 729ms\tremaining: 8.87s\n",
      "76:\tlearn: 0.6158623\ttotal: 737ms\tremaining: 8.84s\n",
      "77:\tlearn: 0.6155236\ttotal: 745ms\tremaining: 8.81s\n",
      "78:\tlearn: 0.6153946\ttotal: 753ms\tremaining: 8.78s\n",
      "79:\tlearn: 0.6150969\ttotal: 760ms\tremaining: 8.74s\n",
      "80:\tlearn: 0.6147729\ttotal: 768ms\tremaining: 8.72s\n",
      "81:\tlearn: 0.6145243\ttotal: 776ms\tremaining: 8.69s\n",
      "82:\tlearn: 0.6142856\ttotal: 784ms\tremaining: 8.66s\n",
      "83:\tlearn: 0.6139988\ttotal: 794ms\tremaining: 8.65s\n",
      "84:\tlearn: 0.6137030\ttotal: 803ms\tremaining: 8.64s\n",
      "85:\tlearn: 0.6134590\ttotal: 810ms\tremaining: 8.61s\n",
      "86:\tlearn: 0.6132012\ttotal: 818ms\tremaining: 8.59s\n",
      "87:\tlearn: 0.6129701\ttotal: 826ms\tremaining: 8.56s\n",
      "88:\tlearn: 0.6127452\ttotal: 834ms\tremaining: 8.54s\n",
      "89:\tlearn: 0.6124674\ttotal: 843ms\tremaining: 8.52s\n",
      "90:\tlearn: 0.6122220\ttotal: 851ms\tremaining: 8.5s\n",
      "91:\tlearn: 0.6120198\ttotal: 859ms\tremaining: 8.48s\n",
      "92:\tlearn: 0.6118487\ttotal: 868ms\tremaining: 8.46s\n",
      "93:\tlearn: 0.6115978\ttotal: 876ms\tremaining: 8.44s\n",
      "94:\tlearn: 0.6113355\ttotal: 883ms\tremaining: 8.41s\n",
      "95:\tlearn: 0.6111395\ttotal: 891ms\tremaining: 8.39s\n",
      "96:\tlearn: 0.6109361\ttotal: 900ms\tremaining: 8.38s\n",
      "97:\tlearn: 0.6107741\ttotal: 908ms\tremaining: 8.36s\n",
      "98:\tlearn: 0.6105831\ttotal: 915ms\tremaining: 8.33s\n",
      "99:\tlearn: 0.6104310\ttotal: 923ms\tremaining: 8.3s\n",
      "100:\tlearn: 0.6103025\ttotal: 931ms\tremaining: 8.29s\n",
      "101:\tlearn: 0.6100596\ttotal: 939ms\tremaining: 8.26s\n",
      "102:\tlearn: 0.6098637\ttotal: 946ms\tremaining: 8.24s\n",
      "103:\tlearn: 0.6096973\ttotal: 956ms\tremaining: 8.24s\n",
      "104:\tlearn: 0.6094806\ttotal: 964ms\tremaining: 8.22s\n",
      "105:\tlearn: 0.6092525\ttotal: 972ms\tremaining: 8.2s\n",
      "106:\tlearn: 0.6090471\ttotal: 980ms\tremaining: 8.18s\n",
      "107:\tlearn: 0.6088342\ttotal: 989ms\tremaining: 8.16s\n",
      "108:\tlearn: 0.6086700\ttotal: 1s\tremaining: 8.18s\n",
      "109:\tlearn: 0.6085535\ttotal: 1.01s\tremaining: 8.17s\n",
      "110:\tlearn: 0.6083275\ttotal: 1.02s\tremaining: 8.14s\n",
      "111:\tlearn: 0.6082360\ttotal: 1.02s\tremaining: 8.12s\n",
      "112:\tlearn: 0.6081211\ttotal: 1.03s\tremaining: 8.11s\n",
      "113:\tlearn: 0.6079582\ttotal: 1.04s\tremaining: 8.09s\n",
      "114:\tlearn: 0.6077385\ttotal: 1.05s\tremaining: 8.06s\n",
      "115:\tlearn: 0.6075705\ttotal: 1.05s\tremaining: 8.04s\n",
      "116:\tlearn: 0.6074363\ttotal: 1.06s\tremaining: 8.02s\n",
      "117:\tlearn: 0.6072859\ttotal: 1.07s\tremaining: 8s\n",
      "118:\tlearn: 0.6071306\ttotal: 1.08s\tremaining: 7.98s\n",
      "119:\tlearn: 0.6070156\ttotal: 1.09s\tremaining: 7.96s\n",
      "120:\tlearn: 0.6068252\ttotal: 1.1s\tremaining: 7.99s\n",
      "121:\tlearn: 0.6067045\ttotal: 1.11s\tremaining: 8.02s\n",
      "122:\tlearn: 0.6065804\ttotal: 1.13s\tremaining: 8.06s\n",
      "123:\tlearn: 0.6065224\ttotal: 1.15s\tremaining: 8.11s\n",
      "124:\tlearn: 0.6063716\ttotal: 1.16s\tremaining: 8.15s\n",
      "125:\tlearn: 0.6062202\ttotal: 1.19s\tremaining: 8.26s\n",
      "126:\tlearn: 0.6060557\ttotal: 1.21s\tremaining: 8.29s\n",
      "127:\tlearn: 0.6059247\ttotal: 1.21s\tremaining: 8.27s\n",
      "128:\tlearn: 0.6058106\ttotal: 1.22s\tremaining: 8.27s\n",
      "129:\tlearn: 0.6057097\ttotal: 1.23s\tremaining: 8.26s\n",
      "130:\tlearn: 0.6055741\ttotal: 1.24s\tremaining: 8.25s\n",
      "131:\tlearn: 0.6054366\ttotal: 1.25s\tremaining: 8.24s\n",
      "132:\tlearn: 0.6052711\ttotal: 1.26s\tremaining: 8.22s\n",
      "133:\tlearn: 0.6051239\ttotal: 1.27s\tremaining: 8.21s\n",
      "134:\tlearn: 0.6049980\ttotal: 1.28s\tremaining: 8.23s\n",
      "135:\tlearn: 0.6048915\ttotal: 1.29s\tremaining: 8.23s\n",
      "136:\tlearn: 0.6047717\ttotal: 1.31s\tremaining: 8.23s\n",
      "137:\tlearn: 0.6046016\ttotal: 1.31s\tremaining: 8.22s\n",
      "138:\tlearn: 0.6044717\ttotal: 1.32s\tremaining: 8.2s\n",
      "139:\tlearn: 0.6043557\ttotal: 1.33s\tremaining: 8.19s\n",
      "140:\tlearn: 0.6042616\ttotal: 1.34s\tremaining: 8.17s\n",
      "141:\tlearn: 0.6042155\ttotal: 1.35s\tremaining: 8.16s\n",
      "142:\tlearn: 0.6040726\ttotal: 1.36s\tremaining: 8.14s\n",
      "143:\tlearn: 0.6039355\ttotal: 1.37s\tremaining: 8.13s\n",
      "144:\tlearn: 0.6038119\ttotal: 1.38s\tremaining: 8.12s\n",
      "145:\tlearn: 0.6036460\ttotal: 1.38s\tremaining: 8.1s\n",
      "146:\tlearn: 0.6035485\ttotal: 1.39s\tremaining: 8.09s\n",
      "147:\tlearn: 0.6034508\ttotal: 1.4s\tremaining: 8.08s\n",
      "148:\tlearn: 0.6032398\ttotal: 1.41s\tremaining: 8.06s\n",
      "149:\tlearn: 0.6031503\ttotal: 1.42s\tremaining: 8.05s\n",
      "150:\tlearn: 0.6030239\ttotal: 1.43s\tremaining: 8.04s\n",
      "151:\tlearn: 0.6029362\ttotal: 1.44s\tremaining: 8.02s\n",
      "152:\tlearn: 0.6028759\ttotal: 1.45s\tremaining: 8s\n",
      "153:\tlearn: 0.6027669\ttotal: 1.45s\tremaining: 7.98s\n",
      "154:\tlearn: 0.6026182\ttotal: 1.46s\tremaining: 7.96s\n",
      "155:\tlearn: 0.6024998\ttotal: 1.47s\tremaining: 7.95s\n",
      "156:\tlearn: 0.6023969\ttotal: 1.48s\tremaining: 7.93s\n",
      "157:\tlearn: 0.6022640\ttotal: 1.48s\tremaining: 7.91s\n",
      "158:\tlearn: 0.6021024\ttotal: 1.49s\tremaining: 7.9s\n",
      "159:\tlearn: 0.6020204\ttotal: 1.5s\tremaining: 7.88s\n",
      "160:\tlearn: 0.6019162\ttotal: 1.51s\tremaining: 7.87s\n",
      "161:\tlearn: 0.6018265\ttotal: 1.52s\tremaining: 7.85s\n",
      "162:\tlearn: 0.6017561\ttotal: 1.52s\tremaining: 7.83s\n",
      "163:\tlearn: 0.6016626\ttotal: 1.53s\tremaining: 7.82s\n",
      "164:\tlearn: 0.6015712\ttotal: 1.54s\tremaining: 7.81s\n",
      "165:\tlearn: 0.6014789\ttotal: 1.55s\tremaining: 7.79s\n",
      "166:\tlearn: 0.6013030\ttotal: 1.56s\tremaining: 7.78s\n",
      "167:\tlearn: 0.6011503\ttotal: 1.57s\tremaining: 7.76s\n",
      "168:\tlearn: 0.6010679\ttotal: 1.58s\tremaining: 7.75s\n",
      "169:\tlearn: 0.6009157\ttotal: 1.58s\tremaining: 7.74s\n"
     ]
    },
    {
     "name": "stdout",
     "output_type": "stream",
     "text": [
      "170:\tlearn: 0.6008544\ttotal: 1.59s\tremaining: 7.73s\n",
      "171:\tlearn: 0.6007681\ttotal: 1.6s\tremaining: 7.72s\n",
      "172:\tlearn: 0.6005498\ttotal: 1.61s\tremaining: 7.71s\n",
      "173:\tlearn: 0.6005081\ttotal: 1.62s\tremaining: 7.7s\n",
      "174:\tlearn: 0.6003787\ttotal: 1.63s\tremaining: 7.69s\n",
      "175:\tlearn: 0.6002430\ttotal: 1.64s\tremaining: 7.68s\n",
      "176:\tlearn: 0.6000991\ttotal: 1.65s\tremaining: 7.67s\n",
      "177:\tlearn: 0.5999947\ttotal: 1.66s\tremaining: 7.65s\n",
      "178:\tlearn: 0.5998673\ttotal: 1.67s\tremaining: 7.64s\n",
      "179:\tlearn: 0.5997630\ttotal: 1.68s\tremaining: 7.63s\n",
      "180:\tlearn: 0.5996748\ttotal: 1.68s\tremaining: 7.62s\n",
      "181:\tlearn: 0.5995961\ttotal: 1.69s\tremaining: 7.61s\n",
      "182:\tlearn: 0.5994488\ttotal: 1.7s\tremaining: 7.59s\n",
      "183:\tlearn: 0.5993549\ttotal: 1.71s\tremaining: 7.58s\n",
      "184:\tlearn: 0.5993092\ttotal: 1.72s\tremaining: 7.57s\n",
      "185:\tlearn: 0.5992571\ttotal: 1.73s\tremaining: 7.58s\n",
      "186:\tlearn: 0.5992025\ttotal: 1.75s\tremaining: 7.59s\n",
      "187:\tlearn: 0.5990741\ttotal: 1.76s\tremaining: 7.59s\n",
      "188:\tlearn: 0.5989591\ttotal: 1.77s\tremaining: 7.58s\n",
      "189:\tlearn: 0.5987783\ttotal: 1.78s\tremaining: 7.59s\n",
      "190:\tlearn: 0.5986853\ttotal: 1.81s\tremaining: 7.68s\n",
      "191:\tlearn: 0.5986233\ttotal: 1.83s\tremaining: 7.7s\n",
      "192:\tlearn: 0.5984817\ttotal: 1.84s\tremaining: 7.71s\n",
      "193:\tlearn: 0.5983512\ttotal: 1.86s\tremaining: 7.71s\n",
      "194:\tlearn: 0.5983157\ttotal: 1.87s\tremaining: 7.71s\n",
      "195:\tlearn: 0.5982591\ttotal: 1.88s\tremaining: 7.7s\n",
      "196:\tlearn: 0.5981098\ttotal: 1.89s\tremaining: 7.69s\n",
      "197:\tlearn: 0.5980605\ttotal: 1.9s\tremaining: 7.69s\n",
      "198:\tlearn: 0.5979999\ttotal: 1.91s\tremaining: 7.68s\n",
      "199:\tlearn: 0.5979340\ttotal: 1.92s\tremaining: 7.67s\n",
      "200:\tlearn: 0.5978230\ttotal: 1.93s\tremaining: 7.66s\n",
      "201:\tlearn: 0.5976153\ttotal: 1.94s\tremaining: 7.66s\n",
      "202:\tlearn: 0.5975136\ttotal: 1.95s\tremaining: 7.65s\n",
      "203:\tlearn: 0.5974302\ttotal: 1.96s\tremaining: 7.64s\n",
      "204:\tlearn: 0.5973341\ttotal: 1.97s\tremaining: 7.63s\n",
      "205:\tlearn: 0.5972390\ttotal: 1.98s\tremaining: 7.62s\n",
      "206:\tlearn: 0.5970787\ttotal: 1.99s\tremaining: 7.61s\n",
      "207:\tlearn: 0.5970137\ttotal: 2s\tremaining: 7.61s\n",
      "208:\tlearn: 0.5969368\ttotal: 2.01s\tremaining: 7.6s\n",
      "209:\tlearn: 0.5968729\ttotal: 2.02s\tremaining: 7.61s\n",
      "210:\tlearn: 0.5968498\ttotal: 2.03s\tremaining: 7.6s\n",
      "211:\tlearn: 0.5967454\ttotal: 2.04s\tremaining: 7.59s\n",
      "212:\tlearn: 0.5966947\ttotal: 2.05s\tremaining: 7.59s\n",
      "213:\tlearn: 0.5966506\ttotal: 2.06s\tremaining: 7.58s\n",
      "214:\tlearn: 0.5965860\ttotal: 2.07s\tremaining: 7.57s\n",
      "215:\tlearn: 0.5964733\ttotal: 2.08s\tremaining: 7.56s\n",
      "216:\tlearn: 0.5964418\ttotal: 2.09s\tremaining: 7.55s\n",
      "217:\tlearn: 0.5963420\ttotal: 2.1s\tremaining: 7.54s\n",
      "218:\tlearn: 0.5963067\ttotal: 2.11s\tremaining: 7.54s\n",
      "219:\tlearn: 0.5962736\ttotal: 2.12s\tremaining: 7.53s\n",
      "220:\tlearn: 0.5961716\ttotal: 2.13s\tremaining: 7.53s\n",
      "221:\tlearn: 0.5960749\ttotal: 2.15s\tremaining: 7.52s\n",
      "222:\tlearn: 0.5959754\ttotal: 2.15s\tremaining: 7.51s\n",
      "223:\tlearn: 0.5958920\ttotal: 2.17s\tremaining: 7.5s\n",
      "224:\tlearn: 0.5958436\ttotal: 2.17s\tremaining: 7.49s\n",
      "225:\tlearn: 0.5957112\ttotal: 2.19s\tremaining: 7.49s\n",
      "226:\tlearn: 0.5956024\ttotal: 2.2s\tremaining: 7.48s\n",
      "227:\tlearn: 0.5955590\ttotal: 2.21s\tremaining: 7.48s\n",
      "228:\tlearn: 0.5954527\ttotal: 2.22s\tremaining: 7.49s\n",
      "229:\tlearn: 0.5953948\ttotal: 2.23s\tremaining: 7.48s\n",
      "230:\tlearn: 0.5953310\ttotal: 2.24s\tremaining: 7.47s\n",
      "231:\tlearn: 0.5951714\ttotal: 2.25s\tremaining: 7.46s\n",
      "232:\tlearn: 0.5951183\ttotal: 2.27s\tremaining: 7.46s\n",
      "233:\tlearn: 0.5950446\ttotal: 2.28s\tremaining: 7.45s\n",
      "234:\tlearn: 0.5949712\ttotal: 2.29s\tremaining: 7.44s\n",
      "235:\tlearn: 0.5949023\ttotal: 2.29s\tremaining: 7.43s\n",
      "236:\tlearn: 0.5948457\ttotal: 2.3s\tremaining: 7.41s\n",
      "237:\tlearn: 0.5947668\ttotal: 2.31s\tremaining: 7.4s\n",
      "238:\tlearn: 0.5947171\ttotal: 2.32s\tremaining: 7.38s\n",
      "239:\tlearn: 0.5946609\ttotal: 2.33s\tremaining: 7.37s\n",
      "240:\tlearn: 0.5946017\ttotal: 2.34s\tremaining: 7.36s\n",
      "241:\tlearn: 0.5945397\ttotal: 2.35s\tremaining: 7.35s\n",
      "242:\tlearn: 0.5944621\ttotal: 2.36s\tremaining: 7.34s\n",
      "243:\tlearn: 0.5943630\ttotal: 2.37s\tremaining: 7.33s\n",
      "244:\tlearn: 0.5942522\ttotal: 2.37s\tremaining: 7.31s\n",
      "245:\tlearn: 0.5942120\ttotal: 2.38s\tremaining: 7.3s\n",
      "246:\tlearn: 0.5941419\ttotal: 2.39s\tremaining: 7.29s\n",
      "247:\tlearn: 0.5940752\ttotal: 2.4s\tremaining: 7.28s\n",
      "248:\tlearn: 0.5940407\ttotal: 2.41s\tremaining: 7.27s\n",
      "249:\tlearn: 0.5939381\ttotal: 2.42s\tremaining: 7.26s\n",
      "250:\tlearn: 0.5938587\ttotal: 2.43s\tremaining: 7.25s\n",
      "251:\tlearn: 0.5937330\ttotal: 2.44s\tremaining: 7.24s\n",
      "252:\tlearn: 0.5936978\ttotal: 2.45s\tremaining: 7.22s\n",
      "253:\tlearn: 0.5936068\ttotal: 2.45s\tremaining: 7.21s\n",
      "254:\tlearn: 0.5935283\ttotal: 2.46s\tremaining: 7.2s\n",
      "255:\tlearn: 0.5934663\ttotal: 2.47s\tremaining: 7.18s\n",
      "256:\tlearn: 0.5934089\ttotal: 2.48s\tremaining: 7.17s\n",
      "257:\tlearn: 0.5933614\ttotal: 2.49s\tremaining: 7.16s\n",
      "258:\tlearn: 0.5932105\ttotal: 2.5s\tremaining: 7.14s\n",
      "259:\tlearn: 0.5931259\ttotal: 2.51s\tremaining: 7.13s\n",
      "260:\tlearn: 0.5930455\ttotal: 2.52s\tremaining: 7.12s\n",
      "261:\tlearn: 0.5930064\ttotal: 2.52s\tremaining: 7.11s\n",
      "262:\tlearn: 0.5929186\ttotal: 2.54s\tremaining: 7.12s\n",
      "263:\tlearn: 0.5928380\ttotal: 2.55s\tremaining: 7.11s\n",
      "264:\tlearn: 0.5927433\ttotal: 2.56s\tremaining: 7.11s\n",
      "265:\tlearn: 0.5926280\ttotal: 2.58s\tremaining: 7.12s\n",
      "266:\tlearn: 0.5925491\ttotal: 2.59s\tremaining: 7.11s\n",
      "267:\tlearn: 0.5924491\ttotal: 2.6s\tremaining: 7.11s\n",
      "268:\tlearn: 0.5923277\ttotal: 2.62s\tremaining: 7.12s\n",
      "269:\tlearn: 0.5922756\ttotal: 2.63s\tremaining: 7.11s\n",
      "270:\tlearn: 0.5922111\ttotal: 2.64s\tremaining: 7.1s\n",
      "271:\tlearn: 0.5920679\ttotal: 2.65s\tremaining: 7.09s\n",
      "272:\tlearn: 0.5919601\ttotal: 2.66s\tremaining: 7.08s\n",
      "273:\tlearn: 0.5918871\ttotal: 2.67s\tremaining: 7.06s\n",
      "274:\tlearn: 0.5918426\ttotal: 2.67s\tremaining: 7.05s\n",
      "275:\tlearn: 0.5917564\ttotal: 2.68s\tremaining: 7.04s\n",
      "276:\tlearn: 0.5916788\ttotal: 2.69s\tremaining: 7.03s\n",
      "277:\tlearn: 0.5915865\ttotal: 2.7s\tremaining: 7.02s\n",
      "278:\tlearn: 0.5915335\ttotal: 2.71s\tremaining: 7s\n",
      "279:\tlearn: 0.5914578\ttotal: 2.72s\tremaining: 6.99s\n",
      "280:\tlearn: 0.5913635\ttotal: 2.73s\tremaining: 6.98s\n",
      "281:\tlearn: 0.5913303\ttotal: 2.73s\tremaining: 6.96s\n",
      "282:\tlearn: 0.5912447\ttotal: 2.74s\tremaining: 6.95s\n",
      "283:\tlearn: 0.5911763\ttotal: 2.75s\tremaining: 6.94s\n",
      "284:\tlearn: 0.5911756\ttotal: 2.76s\tremaining: 6.92s\n",
      "285:\tlearn: 0.5910998\ttotal: 2.77s\tremaining: 6.92s\n",
      "286:\tlearn: 0.5910308\ttotal: 2.78s\tremaining: 6.91s\n",
      "287:\tlearn: 0.5909875\ttotal: 2.79s\tremaining: 6.89s\n",
      "288:\tlearn: 0.5908837\ttotal: 2.8s\tremaining: 6.88s\n",
      "289:\tlearn: 0.5908263\ttotal: 2.81s\tremaining: 6.87s\n",
      "290:\tlearn: 0.5907582\ttotal: 2.82s\tremaining: 6.86s\n",
      "291:\tlearn: 0.5906534\ttotal: 2.83s\tremaining: 6.85s\n",
      "292:\tlearn: 0.5905047\ttotal: 2.84s\tremaining: 6.84s\n",
      "293:\tlearn: 0.5904444\ttotal: 2.85s\tremaining: 6.83s\n",
      "294:\tlearn: 0.5903462\ttotal: 2.85s\tremaining: 6.82s\n",
      "295:\tlearn: 0.5903148\ttotal: 2.86s\tremaining: 6.8s\n",
      "296:\tlearn: 0.5902092\ttotal: 2.87s\tremaining: 6.79s\n",
      "297:\tlearn: 0.5901171\ttotal: 2.88s\tremaining: 6.78s\n",
      "298:\tlearn: 0.5900196\ttotal: 2.89s\tremaining: 6.77s\n",
      "299:\tlearn: 0.5899585\ttotal: 2.9s\tremaining: 6.76s\n",
      "300:\tlearn: 0.5898962\ttotal: 2.9s\tremaining: 6.74s\n",
      "301:\tlearn: 0.5898167\ttotal: 2.91s\tremaining: 6.74s\n",
      "302:\tlearn: 0.5896796\ttotal: 2.92s\tremaining: 6.73s\n",
      "303:\tlearn: 0.5895976\ttotal: 2.93s\tremaining: 6.72s\n",
      "304:\tlearn: 0.5895291\ttotal: 2.94s\tremaining: 6.71s\n",
      "305:\tlearn: 0.5894529\ttotal: 2.95s\tremaining: 6.7s\n",
      "306:\tlearn: 0.5893594\ttotal: 2.96s\tremaining: 6.69s\n",
      "307:\tlearn: 0.5892985\ttotal: 2.97s\tremaining: 6.68s\n",
      "308:\tlearn: 0.5891999\ttotal: 2.98s\tremaining: 6.67s\n",
      "309:\tlearn: 0.5891411\ttotal: 2.99s\tremaining: 6.66s\n",
      "310:\tlearn: 0.5890136\ttotal: 3s\tremaining: 6.65s\n",
      "311:\tlearn: 0.5888989\ttotal: 3.01s\tremaining: 6.64s\n",
      "312:\tlearn: 0.5887710\ttotal: 3.02s\tremaining: 6.64s\n",
      "313:\tlearn: 0.5886881\ttotal: 3.04s\tremaining: 6.63s\n",
      "314:\tlearn: 0.5886329\ttotal: 3.04s\tremaining: 6.62s\n",
      "315:\tlearn: 0.5885498\ttotal: 3.06s\tremaining: 6.62s\n",
      "316:\tlearn: 0.5884424\ttotal: 3.07s\tremaining: 6.62s\n",
      "317:\tlearn: 0.5883572\ttotal: 3.08s\tremaining: 6.61s\n",
      "318:\tlearn: 0.5882914\ttotal: 3.09s\tremaining: 6.6s\n",
      "319:\tlearn: 0.5882107\ttotal: 3.1s\tremaining: 6.59s\n",
      "320:\tlearn: 0.5881366\ttotal: 3.12s\tremaining: 6.59s\n",
      "321:\tlearn: 0.5880563\ttotal: 3.13s\tremaining: 6.58s\n",
      "322:\tlearn: 0.5879439\ttotal: 3.14s\tremaining: 6.58s\n",
      "323:\tlearn: 0.5878913\ttotal: 3.15s\tremaining: 6.57s\n",
      "324:\tlearn: 0.5878596\ttotal: 3.16s\tremaining: 6.57s\n",
      "325:\tlearn: 0.5877829\ttotal: 3.18s\tremaining: 6.57s\n",
      "326:\tlearn: 0.5876127\ttotal: 3.19s\tremaining: 6.56s\n",
      "327:\tlearn: 0.5875250\ttotal: 3.2s\tremaining: 6.56s\n",
      "328:\tlearn: 0.5874510\ttotal: 3.22s\tremaining: 6.57s\n",
      "329:\tlearn: 0.5872875\ttotal: 3.23s\tremaining: 6.57s\n",
      "330:\tlearn: 0.5871889\ttotal: 3.25s\tremaining: 6.56s\n",
      "331:\tlearn: 0.5870825\ttotal: 3.26s\tremaining: 6.55s\n",
      "332:\tlearn: 0.5870039\ttotal: 3.27s\tremaining: 6.55s\n",
      "333:\tlearn: 0.5869240\ttotal: 3.28s\tremaining: 6.54s\n",
      "334:\tlearn: 0.5868086\ttotal: 3.29s\tremaining: 6.53s\n",
      "335:\tlearn: 0.5867688\ttotal: 3.3s\tremaining: 6.53s\n",
      "336:\tlearn: 0.5866906\ttotal: 3.31s\tremaining: 6.52s\n",
      "337:\tlearn: 0.5865941\ttotal: 3.32s\tremaining: 6.51s\n",
      "338:\tlearn: 0.5865577\ttotal: 3.33s\tremaining: 6.5s\n",
      "339:\tlearn: 0.5864339\ttotal: 3.34s\tremaining: 6.49s\n",
      "340:\tlearn: 0.5863553\ttotal: 3.35s\tremaining: 6.48s\n",
      "341:\tlearn: 0.5862979\ttotal: 3.36s\tremaining: 6.47s\n",
      "342:\tlearn: 0.5862807\ttotal: 3.37s\tremaining: 6.45s\n",
      "343:\tlearn: 0.5862293\ttotal: 3.38s\tremaining: 6.44s\n",
      "344:\tlearn: 0.5861454\ttotal: 3.38s\tremaining: 6.43s\n",
      "345:\tlearn: 0.5860927\ttotal: 3.39s\tremaining: 6.42s\n",
      "346:\tlearn: 0.5860282\ttotal: 3.4s\tremaining: 6.4s\n",
      "347:\tlearn: 0.5859319\ttotal: 3.41s\tremaining: 6.39s\n"
     ]
    },
    {
     "name": "stdout",
     "output_type": "stream",
     "text": [
      "348:\tlearn: 0.5858487\ttotal: 3.42s\tremaining: 6.38s\n",
      "349:\tlearn: 0.5857881\ttotal: 3.43s\tremaining: 6.37s\n",
      "350:\tlearn: 0.5857251\ttotal: 3.44s\tremaining: 6.36s\n",
      "351:\tlearn: 0.5856668\ttotal: 3.45s\tremaining: 6.35s\n",
      "352:\tlearn: 0.5855847\ttotal: 3.46s\tremaining: 6.34s\n",
      "353:\tlearn: 0.5854975\ttotal: 3.47s\tremaining: 6.33s\n",
      "354:\tlearn: 0.5853800\ttotal: 3.48s\tremaining: 6.32s\n",
      "355:\tlearn: 0.5853187\ttotal: 3.49s\tremaining: 6.31s\n",
      "356:\tlearn: 0.5852494\ttotal: 3.5s\tremaining: 6.3s\n",
      "357:\tlearn: 0.5851440\ttotal: 3.51s\tremaining: 6.29s\n",
      "358:\tlearn: 0.5850487\ttotal: 3.52s\tremaining: 6.28s\n",
      "359:\tlearn: 0.5849624\ttotal: 3.53s\tremaining: 6.27s\n",
      "360:\tlearn: 0.5848935\ttotal: 3.54s\tremaining: 6.26s\n",
      "361:\tlearn: 0.5848206\ttotal: 3.55s\tremaining: 6.25s\n",
      "362:\tlearn: 0.5847603\ttotal: 3.56s\tremaining: 6.25s\n",
      "363:\tlearn: 0.5847045\ttotal: 3.57s\tremaining: 6.24s\n",
      "364:\tlearn: 0.5846178\ttotal: 3.58s\tremaining: 6.23s\n",
      "365:\tlearn: 0.5845309\ttotal: 3.59s\tremaining: 6.22s\n",
      "366:\tlearn: 0.5844582\ttotal: 3.6s\tremaining: 6.21s\n",
      "367:\tlearn: 0.5843370\ttotal: 3.61s\tremaining: 6.2s\n",
      "368:\tlearn: 0.5841828\ttotal: 3.62s\tremaining: 6.19s\n",
      "369:\tlearn: 0.5841158\ttotal: 3.63s\tremaining: 6.19s\n",
      "370:\tlearn: 0.5840376\ttotal: 3.65s\tremaining: 6.18s\n",
      "371:\tlearn: 0.5838353\ttotal: 3.66s\tremaining: 6.18s\n",
      "372:\tlearn: 0.5837352\ttotal: 3.67s\tremaining: 6.17s\n",
      "373:\tlearn: 0.5836746\ttotal: 3.69s\tremaining: 6.17s\n",
      "374:\tlearn: 0.5835742\ttotal: 3.7s\tremaining: 6.17s\n",
      "375:\tlearn: 0.5834852\ttotal: 3.71s\tremaining: 6.16s\n",
      "376:\tlearn: 0.5834101\ttotal: 3.72s\tremaining: 6.16s\n",
      "377:\tlearn: 0.5833251\ttotal: 3.74s\tremaining: 6.15s\n",
      "378:\tlearn: 0.5832397\ttotal: 3.75s\tremaining: 6.14s\n",
      "379:\tlearn: 0.5831458\ttotal: 3.76s\tremaining: 6.14s\n",
      "380:\tlearn: 0.5830740\ttotal: 3.77s\tremaining: 6.13s\n",
      "381:\tlearn: 0.5829813\ttotal: 3.79s\tremaining: 6.13s\n",
      "382:\tlearn: 0.5828648\ttotal: 3.8s\tremaining: 6.12s\n",
      "383:\tlearn: 0.5828022\ttotal: 3.81s\tremaining: 6.12s\n",
      "384:\tlearn: 0.5826993\ttotal: 3.83s\tremaining: 6.12s\n",
      "385:\tlearn: 0.5826026\ttotal: 3.85s\tremaining: 6.12s\n",
      "386:\tlearn: 0.5825441\ttotal: 3.85s\tremaining: 6.11s\n",
      "387:\tlearn: 0.5824862\ttotal: 3.87s\tremaining: 6.1s\n",
      "388:\tlearn: 0.5824271\ttotal: 3.87s\tremaining: 6.08s\n",
      "389:\tlearn: 0.5823624\ttotal: 3.88s\tremaining: 6.07s\n",
      "390:\tlearn: 0.5823068\ttotal: 3.89s\tremaining: 6.06s\n",
      "391:\tlearn: 0.5821542\ttotal: 3.9s\tremaining: 6.05s\n",
      "392:\tlearn: 0.5820840\ttotal: 3.91s\tremaining: 6.04s\n",
      "393:\tlearn: 0.5820172\ttotal: 3.92s\tremaining: 6.02s\n",
      "394:\tlearn: 0.5819390\ttotal: 3.92s\tremaining: 6.01s\n",
      "395:\tlearn: 0.5818461\ttotal: 3.93s\tremaining: 6s\n",
      "396:\tlearn: 0.5817551\ttotal: 3.94s\tremaining: 5.99s\n",
      "397:\tlearn: 0.5816497\ttotal: 3.95s\tremaining: 5.97s\n",
      "398:\tlearn: 0.5815715\ttotal: 3.96s\tremaining: 5.96s\n",
      "399:\tlearn: 0.5814886\ttotal: 3.96s\tremaining: 5.95s\n",
      "400:\tlearn: 0.5814251\ttotal: 3.97s\tremaining: 5.94s\n",
      "401:\tlearn: 0.5813107\ttotal: 3.98s\tremaining: 5.93s\n",
      "402:\tlearn: 0.5812210\ttotal: 3.99s\tremaining: 5.92s\n",
      "403:\tlearn: 0.5811799\ttotal: 4s\tremaining: 5.9s\n",
      "404:\tlearn: 0.5810822\ttotal: 4.01s\tremaining: 5.89s\n",
      "405:\tlearn: 0.5810127\ttotal: 4.02s\tremaining: 5.88s\n",
      "406:\tlearn: 0.5809244\ttotal: 4.03s\tremaining: 5.88s\n",
      "407:\tlearn: 0.5807900\ttotal: 4.04s\tremaining: 5.87s\n",
      "408:\tlearn: 0.5807617\ttotal: 4.05s\tremaining: 5.86s\n",
      "409:\tlearn: 0.5807148\ttotal: 4.07s\tremaining: 5.85s\n",
      "410:\tlearn: 0.5806320\ttotal: 4.08s\tremaining: 5.84s\n",
      "411:\tlearn: 0.5805946\ttotal: 4.08s\tremaining: 5.83s\n",
      "412:\tlearn: 0.5804527\ttotal: 4.09s\tremaining: 5.82s\n",
      "413:\tlearn: 0.5803475\ttotal: 4.11s\tremaining: 5.81s\n",
      "414:\tlearn: 0.5802409\ttotal: 4.11s\tremaining: 5.8s\n",
      "415:\tlearn: 0.5801080\ttotal: 4.12s\tremaining: 5.79s\n",
      "416:\tlearn: 0.5800057\ttotal: 4.13s\tremaining: 5.77s\n",
      "417:\tlearn: 0.5799142\ttotal: 4.14s\tremaining: 5.76s\n",
      "418:\tlearn: 0.5798204\ttotal: 4.15s\tremaining: 5.75s\n",
      "419:\tlearn: 0.5797518\ttotal: 4.15s\tremaining: 5.74s\n",
      "420:\tlearn: 0.5796703\ttotal: 4.16s\tremaining: 5.73s\n",
      "421:\tlearn: 0.5796347\ttotal: 4.17s\tremaining: 5.71s\n",
      "422:\tlearn: 0.5795341\ttotal: 4.18s\tremaining: 5.7s\n",
      "423:\tlearn: 0.5794455\ttotal: 4.19s\tremaining: 5.69s\n",
      "424:\tlearn: 0.5793929\ttotal: 4.2s\tremaining: 5.68s\n",
      "425:\tlearn: 0.5793265\ttotal: 4.21s\tremaining: 5.67s\n",
      "426:\tlearn: 0.5791940\ttotal: 4.22s\tremaining: 5.66s\n",
      "427:\tlearn: 0.5791238\ttotal: 4.23s\tremaining: 5.66s\n",
      "428:\tlearn: 0.5790390\ttotal: 4.24s\tremaining: 5.65s\n",
      "429:\tlearn: 0.5790044\ttotal: 4.25s\tremaining: 5.64s\n",
      "430:\tlearn: 0.5789188\ttotal: 4.26s\tremaining: 5.63s\n",
      "431:\tlearn: 0.5788294\ttotal: 4.27s\tremaining: 5.62s\n",
      "432:\tlearn: 0.5787816\ttotal: 4.28s\tremaining: 5.61s\n",
      "433:\tlearn: 0.5786524\ttotal: 4.29s\tremaining: 5.6s\n",
      "434:\tlearn: 0.5785770\ttotal: 4.3s\tremaining: 5.59s\n",
      "435:\tlearn: 0.5784907\ttotal: 4.31s\tremaining: 5.58s\n",
      "436:\tlearn: 0.5783779\ttotal: 4.32s\tremaining: 5.57s\n",
      "437:\tlearn: 0.5782887\ttotal: 4.33s\tremaining: 5.56s\n",
      "438:\tlearn: 0.5781696\ttotal: 4.34s\tremaining: 5.55s\n",
      "439:\tlearn: 0.5780974\ttotal: 4.35s\tremaining: 5.54s\n",
      "440:\tlearn: 0.5780574\ttotal: 4.36s\tremaining: 5.53s\n",
      "441:\tlearn: 0.5779868\ttotal: 4.37s\tremaining: 5.52s\n",
      "442:\tlearn: 0.5779123\ttotal: 4.38s\tremaining: 5.51s\n",
      "443:\tlearn: 0.5778849\ttotal: 4.39s\tremaining: 5.5s\n",
      "444:\tlearn: 0.5778251\ttotal: 4.4s\tremaining: 5.49s\n",
      "445:\tlearn: 0.5777530\ttotal: 4.41s\tremaining: 5.47s\n",
      "446:\tlearn: 0.5776468\ttotal: 4.42s\tremaining: 5.46s\n",
      "447:\tlearn: 0.5775633\ttotal: 4.42s\tremaining: 5.45s\n",
      "448:\tlearn: 0.5774971\ttotal: 4.43s\tremaining: 5.44s\n",
      "449:\tlearn: 0.5773979\ttotal: 4.44s\tremaining: 5.43s\n",
      "450:\tlearn: 0.5773156\ttotal: 4.45s\tremaining: 5.42s\n",
      "451:\tlearn: 0.5772567\ttotal: 4.46s\tremaining: 5.41s\n",
      "452:\tlearn: 0.5772041\ttotal: 4.47s\tremaining: 5.39s\n",
      "453:\tlearn: 0.5771364\ttotal: 4.48s\tremaining: 5.38s\n",
      "454:\tlearn: 0.5770931\ttotal: 4.49s\tremaining: 5.37s\n",
      "455:\tlearn: 0.5770389\ttotal: 4.5s\tremaining: 5.36s\n",
      "456:\tlearn: 0.5769099\ttotal: 4.5s\tremaining: 5.35s\n",
      "457:\tlearn: 0.5768573\ttotal: 4.51s\tremaining: 5.34s\n",
      "458:\tlearn: 0.5767171\ttotal: 4.52s\tremaining: 5.33s\n",
      "459:\tlearn: 0.5766277\ttotal: 4.53s\tremaining: 5.32s\n",
      "460:\tlearn: 0.5765784\ttotal: 4.54s\tremaining: 5.31s\n",
      "461:\tlearn: 0.5764687\ttotal: 4.55s\tremaining: 5.3s\n",
      "462:\tlearn: 0.5764061\ttotal: 4.56s\tremaining: 5.29s\n",
      "463:\tlearn: 0.5763469\ttotal: 4.57s\tremaining: 5.28s\n",
      "464:\tlearn: 0.5762532\ttotal: 4.58s\tremaining: 5.27s\n",
      "465:\tlearn: 0.5761752\ttotal: 4.59s\tremaining: 5.26s\n",
      "466:\tlearn: 0.5760938\ttotal: 4.6s\tremaining: 5.25s\n",
      "467:\tlearn: 0.5759943\ttotal: 4.62s\tremaining: 5.25s\n",
      "468:\tlearn: 0.5759027\ttotal: 4.63s\tremaining: 5.24s\n",
      "469:\tlearn: 0.5758384\ttotal: 4.64s\tremaining: 5.24s\n",
      "470:\tlearn: 0.5757318\ttotal: 4.65s\tremaining: 5.23s\n",
      "471:\tlearn: 0.5756693\ttotal: 4.66s\tremaining: 5.22s\n",
      "472:\tlearn: 0.5755493\ttotal: 4.67s\tremaining: 5.21s\n",
      "473:\tlearn: 0.5754753\ttotal: 4.68s\tremaining: 5.2s\n",
      "474:\tlearn: 0.5754103\ttotal: 4.7s\tremaining: 5.19s\n",
      "475:\tlearn: 0.5753376\ttotal: 4.7s\tremaining: 5.18s\n",
      "476:\tlearn: 0.5752801\ttotal: 4.71s\tremaining: 5.17s\n",
      "477:\tlearn: 0.5752060\ttotal: 4.72s\tremaining: 5.16s\n",
      "478:\tlearn: 0.5751396\ttotal: 4.73s\tremaining: 5.15s\n",
      "479:\tlearn: 0.5750669\ttotal: 4.74s\tremaining: 5.14s\n",
      "480:\tlearn: 0.5750032\ttotal: 4.75s\tremaining: 5.13s\n",
      "481:\tlearn: 0.5748664\ttotal: 4.76s\tremaining: 5.12s\n",
      "482:\tlearn: 0.5748100\ttotal: 4.77s\tremaining: 5.11s\n",
      "483:\tlearn: 0.5747772\ttotal: 4.78s\tremaining: 5.1s\n",
      "484:\tlearn: 0.5746878\ttotal: 4.79s\tremaining: 5.09s\n",
      "485:\tlearn: 0.5746381\ttotal: 4.8s\tremaining: 5.08s\n",
      "486:\tlearn: 0.5745739\ttotal: 4.81s\tremaining: 5.07s\n",
      "487:\tlearn: 0.5745313\ttotal: 4.82s\tremaining: 5.05s\n",
      "488:\tlearn: 0.5744535\ttotal: 4.83s\tremaining: 5.04s\n",
      "489:\tlearn: 0.5743235\ttotal: 4.84s\tremaining: 5.04s\n",
      "490:\tlearn: 0.5742287\ttotal: 4.85s\tremaining: 5.03s\n",
      "491:\tlearn: 0.5741101\ttotal: 4.86s\tremaining: 5.01s\n",
      "492:\tlearn: 0.5740107\ttotal: 4.87s\tremaining: 5s\n",
      "493:\tlearn: 0.5739572\ttotal: 4.88s\tremaining: 5s\n",
      "494:\tlearn: 0.5738580\ttotal: 4.89s\tremaining: 4.99s\n",
      "495:\tlearn: 0.5737408\ttotal: 4.9s\tremaining: 4.97s\n",
      "496:\tlearn: 0.5736935\ttotal: 4.91s\tremaining: 4.96s\n",
      "497:\tlearn: 0.5735819\ttotal: 4.92s\tremaining: 4.96s\n",
      "498:\tlearn: 0.5735096\ttotal: 4.93s\tremaining: 4.95s\n",
      "499:\tlearn: 0.5734427\ttotal: 4.94s\tremaining: 4.94s\n",
      "500:\tlearn: 0.5733293\ttotal: 4.95s\tremaining: 4.93s\n",
      "501:\tlearn: 0.5732589\ttotal: 4.96s\tremaining: 4.92s\n",
      "502:\tlearn: 0.5731993\ttotal: 4.96s\tremaining: 4.91s\n",
      "503:\tlearn: 0.5730776\ttotal: 4.97s\tremaining: 4.9s\n",
      "504:\tlearn: 0.5730048\ttotal: 4.99s\tremaining: 4.89s\n",
      "505:\tlearn: 0.5728895\ttotal: 5s\tremaining: 4.88s\n",
      "506:\tlearn: 0.5728094\ttotal: 5.01s\tremaining: 4.87s\n",
      "507:\tlearn: 0.5727604\ttotal: 5.02s\tremaining: 4.86s\n",
      "508:\tlearn: 0.5726494\ttotal: 5.03s\tremaining: 4.85s\n"
     ]
    },
    {
     "name": "stdout",
     "output_type": "stream",
     "text": [
      "509:\tlearn: 0.5726009\ttotal: 5.04s\tremaining: 4.84s\n",
      "510:\tlearn: 0.5725320\ttotal: 5.05s\tremaining: 4.83s\n",
      "511:\tlearn: 0.5725039\ttotal: 5.05s\tremaining: 4.82s\n",
      "512:\tlearn: 0.5724246\ttotal: 5.07s\tremaining: 4.81s\n",
      "513:\tlearn: 0.5722866\ttotal: 5.07s\tremaining: 4.8s\n",
      "514:\tlearn: 0.5722437\ttotal: 5.08s\tremaining: 4.79s\n",
      "515:\tlearn: 0.5721588\ttotal: 5.09s\tremaining: 4.78s\n",
      "516:\tlearn: 0.5721023\ttotal: 5.1s\tremaining: 4.76s\n",
      "517:\tlearn: 0.5720274\ttotal: 5.11s\tremaining: 4.75s\n",
      "518:\tlearn: 0.5719358\ttotal: 5.12s\tremaining: 4.74s\n",
      "519:\tlearn: 0.5718491\ttotal: 5.13s\tremaining: 4.73s\n",
      "520:\tlearn: 0.5717838\ttotal: 5.14s\tremaining: 4.72s\n",
      "521:\tlearn: 0.5717163\ttotal: 5.15s\tremaining: 4.71s\n",
      "522:\tlearn: 0.5716434\ttotal: 5.16s\tremaining: 4.7s\n",
      "523:\tlearn: 0.5715778\ttotal: 5.16s\tremaining: 4.69s\n",
      "524:\tlearn: 0.5715211\ttotal: 5.17s\tremaining: 4.68s\n",
      "525:\tlearn: 0.5714128\ttotal: 5.18s\tremaining: 4.67s\n",
      "526:\tlearn: 0.5713545\ttotal: 5.19s\tremaining: 4.66s\n",
      "527:\tlearn: 0.5712413\ttotal: 5.2s\tremaining: 4.65s\n",
      "528:\tlearn: 0.5711676\ttotal: 5.21s\tremaining: 4.64s\n",
      "529:\tlearn: 0.5710661\ttotal: 5.22s\tremaining: 4.63s\n",
      "530:\tlearn: 0.5709782\ttotal: 5.22s\tremaining: 4.62s\n",
      "531:\tlearn: 0.5708728\ttotal: 5.24s\tremaining: 4.61s\n",
      "532:\tlearn: 0.5707941\ttotal: 5.25s\tremaining: 4.59s\n",
      "533:\tlearn: 0.5707302\ttotal: 5.25s\tremaining: 4.58s\n",
      "534:\tlearn: 0.5706423\ttotal: 5.26s\tremaining: 4.57s\n",
      "535:\tlearn: 0.5705019\ttotal: 5.27s\tremaining: 4.56s\n",
      "536:\tlearn: 0.5704111\ttotal: 5.28s\tremaining: 4.55s\n",
      "537:\tlearn: 0.5703582\ttotal: 5.29s\tremaining: 4.54s\n",
      "538:\tlearn: 0.5703328\ttotal: 5.3s\tremaining: 4.53s\n",
      "539:\tlearn: 0.5702391\ttotal: 5.31s\tremaining: 4.52s\n",
      "540:\tlearn: 0.5701786\ttotal: 5.32s\tremaining: 4.51s\n",
      "541:\tlearn: 0.5700993\ttotal: 5.32s\tremaining: 4.5s\n",
      "542:\tlearn: 0.5700179\ttotal: 5.33s\tremaining: 4.49s\n",
      "543:\tlearn: 0.5699817\ttotal: 5.34s\tremaining: 4.48s\n",
      "544:\tlearn: 0.5698956\ttotal: 5.35s\tremaining: 4.47s\n",
      "545:\tlearn: 0.5698613\ttotal: 5.37s\tremaining: 4.46s\n",
      "546:\tlearn: 0.5697819\ttotal: 5.38s\tremaining: 4.45s\n",
      "547:\tlearn: 0.5696855\ttotal: 5.39s\tremaining: 4.45s\n",
      "548:\tlearn: 0.5696017\ttotal: 5.4s\tremaining: 4.44s\n",
      "549:\tlearn: 0.5695297\ttotal: 5.42s\tremaining: 4.43s\n",
      "550:\tlearn: 0.5694383\ttotal: 5.43s\tremaining: 4.42s\n",
      "551:\tlearn: 0.5693776\ttotal: 5.44s\tremaining: 4.41s\n",
      "552:\tlearn: 0.5693025\ttotal: 5.45s\tremaining: 4.4s\n",
      "553:\tlearn: 0.5692448\ttotal: 5.46s\tremaining: 4.39s\n",
      "554:\tlearn: 0.5691430\ttotal: 5.46s\tremaining: 4.38s\n",
      "555:\tlearn: 0.5690643\ttotal: 5.47s\tremaining: 4.37s\n",
      "556:\tlearn: 0.5689991\ttotal: 5.48s\tremaining: 4.36s\n",
      "557:\tlearn: 0.5689498\ttotal: 5.49s\tremaining: 4.35s\n",
      "558:\tlearn: 0.5688914\ttotal: 5.5s\tremaining: 4.34s\n",
      "559:\tlearn: 0.5687996\ttotal: 5.51s\tremaining: 4.33s\n",
      "560:\tlearn: 0.5687002\ttotal: 5.52s\tremaining: 4.32s\n",
      "561:\tlearn: 0.5685672\ttotal: 5.53s\tremaining: 4.31s\n",
      "562:\tlearn: 0.5685401\ttotal: 5.54s\tremaining: 4.3s\n",
      "563:\tlearn: 0.5684992\ttotal: 5.55s\tremaining: 4.29s\n",
      "564:\tlearn: 0.5684229\ttotal: 5.55s\tremaining: 4.28s\n",
      "565:\tlearn: 0.5683904\ttotal: 5.56s\tremaining: 4.27s\n",
      "566:\tlearn: 0.5683375\ttotal: 5.57s\tremaining: 4.25s\n",
      "567:\tlearn: 0.5682724\ttotal: 5.58s\tremaining: 4.24s\n",
      "568:\tlearn: 0.5681774\ttotal: 5.59s\tremaining: 4.23s\n",
      "569:\tlearn: 0.5680791\ttotal: 5.6s\tremaining: 4.22s\n",
      "570:\tlearn: 0.5679761\ttotal: 5.61s\tremaining: 4.21s\n",
      "571:\tlearn: 0.5678866\ttotal: 5.62s\tremaining: 4.2s\n",
      "572:\tlearn: 0.5678170\ttotal: 5.63s\tremaining: 4.19s\n",
      "573:\tlearn: 0.5677904\ttotal: 5.63s\tremaining: 4.18s\n",
      "574:\tlearn: 0.5677001\ttotal: 5.64s\tremaining: 4.17s\n",
      "575:\tlearn: 0.5675998\ttotal: 5.65s\tremaining: 4.16s\n",
      "576:\tlearn: 0.5675687\ttotal: 5.66s\tremaining: 4.15s\n",
      "577:\tlearn: 0.5674938\ttotal: 5.67s\tremaining: 4.14s\n",
      "578:\tlearn: 0.5674307\ttotal: 5.68s\tremaining: 4.13s\n",
      "579:\tlearn: 0.5673907\ttotal: 5.69s\tremaining: 4.12s\n",
      "580:\tlearn: 0.5673276\ttotal: 5.7s\tremaining: 4.11s\n",
      "581:\tlearn: 0.5672870\ttotal: 5.71s\tremaining: 4.1s\n",
      "582:\tlearn: 0.5672315\ttotal: 5.72s\tremaining: 4.09s\n",
      "583:\tlearn: 0.5671868\ttotal: 5.74s\tremaining: 4.08s\n",
      "584:\tlearn: 0.5670776\ttotal: 5.75s\tremaining: 4.08s\n",
      "585:\tlearn: 0.5669561\ttotal: 5.76s\tremaining: 4.07s\n",
      "586:\tlearn: 0.5669224\ttotal: 5.77s\tremaining: 4.06s\n",
      "587:\tlearn: 0.5668489\ttotal: 5.78s\tremaining: 4.05s\n",
      "588:\tlearn: 0.5667869\ttotal: 5.79s\tremaining: 4.04s\n",
      "589:\tlearn: 0.5667414\ttotal: 5.8s\tremaining: 4.03s\n",
      "590:\tlearn: 0.5666644\ttotal: 5.82s\tremaining: 4.02s\n",
      "591:\tlearn: 0.5666041\ttotal: 5.83s\tremaining: 4.02s\n",
      "592:\tlearn: 0.5665718\ttotal: 5.84s\tremaining: 4.01s\n",
      "593:\tlearn: 0.5665014\ttotal: 5.85s\tremaining: 4s\n",
      "594:\tlearn: 0.5664345\ttotal: 5.87s\tremaining: 3.99s\n",
      "595:\tlearn: 0.5663413\ttotal: 5.88s\tremaining: 3.99s\n",
      "596:\tlearn: 0.5662934\ttotal: 5.89s\tremaining: 3.98s\n",
      "597:\tlearn: 0.5661965\ttotal: 5.91s\tremaining: 3.97s\n",
      "598:\tlearn: 0.5661488\ttotal: 5.92s\tremaining: 3.96s\n",
      "599:\tlearn: 0.5660908\ttotal: 5.93s\tremaining: 3.95s\n",
      "600:\tlearn: 0.5660287\ttotal: 5.94s\tremaining: 3.94s\n",
      "601:\tlearn: 0.5659578\ttotal: 5.95s\tremaining: 3.93s\n",
      "602:\tlearn: 0.5658665\ttotal: 5.96s\tremaining: 3.92s\n",
      "603:\tlearn: 0.5658230\ttotal: 5.97s\tremaining: 3.91s\n",
      "604:\tlearn: 0.5657109\ttotal: 5.98s\tremaining: 3.9s\n",
      "605:\tlearn: 0.5655511\ttotal: 5.99s\tremaining: 3.89s\n",
      "606:\tlearn: 0.5654379\ttotal: 6s\tremaining: 3.88s\n",
      "607:\tlearn: 0.5653600\ttotal: 6.01s\tremaining: 3.87s\n",
      "608:\tlearn: 0.5653001\ttotal: 6.01s\tremaining: 3.86s\n",
      "609:\tlearn: 0.5651945\ttotal: 6.02s\tremaining: 3.85s\n",
      "610:\tlearn: 0.5651292\ttotal: 6.03s\tremaining: 3.84s\n",
      "611:\tlearn: 0.5650297\ttotal: 6.04s\tremaining: 3.83s\n",
      "612:\tlearn: 0.5649684\ttotal: 6.05s\tremaining: 3.82s\n",
      "613:\tlearn: 0.5648339\ttotal: 6.06s\tremaining: 3.81s\n",
      "614:\tlearn: 0.5647448\ttotal: 6.07s\tremaining: 3.8s\n",
      "615:\tlearn: 0.5646382\ttotal: 6.07s\tremaining: 3.79s\n",
      "616:\tlearn: 0.5645845\ttotal: 6.08s\tremaining: 3.77s\n",
      "617:\tlearn: 0.5645186\ttotal: 6.09s\tremaining: 3.76s\n",
      "618:\tlearn: 0.5644573\ttotal: 6.1s\tremaining: 3.75s\n",
      "619:\tlearn: 0.5643859\ttotal: 6.11s\tremaining: 3.74s\n",
      "620:\tlearn: 0.5643169\ttotal: 6.11s\tremaining: 3.73s\n",
      "621:\tlearn: 0.5642657\ttotal: 6.12s\tremaining: 3.72s\n",
      "622:\tlearn: 0.5641806\ttotal: 6.13s\tremaining: 3.71s\n",
      "623:\tlearn: 0.5641103\ttotal: 6.14s\tremaining: 3.7s\n",
      "624:\tlearn: 0.5640331\ttotal: 6.14s\tremaining: 3.69s\n",
      "625:\tlearn: 0.5639404\ttotal: 6.15s\tremaining: 3.68s\n",
      "626:\tlearn: 0.5638811\ttotal: 6.16s\tremaining: 3.67s\n",
      "627:\tlearn: 0.5638323\ttotal: 6.17s\tremaining: 3.65s\n",
      "628:\tlearn: 0.5637987\ttotal: 6.18s\tremaining: 3.64s\n",
      "629:\tlearn: 0.5637176\ttotal: 6.18s\tremaining: 3.63s\n",
      "630:\tlearn: 0.5636070\ttotal: 6.19s\tremaining: 3.62s\n",
      "631:\tlearn: 0.5635422\ttotal: 6.2s\tremaining: 3.61s\n",
      "632:\tlearn: 0.5634661\ttotal: 6.21s\tremaining: 3.6s\n",
      "633:\tlearn: 0.5633806\ttotal: 6.22s\tremaining: 3.59s\n",
      "634:\tlearn: 0.5633361\ttotal: 6.22s\tremaining: 3.58s\n",
      "635:\tlearn: 0.5632307\ttotal: 6.23s\tremaining: 3.57s\n",
      "636:\tlearn: 0.5631834\ttotal: 6.24s\tremaining: 3.56s\n",
      "637:\tlearn: 0.5630849\ttotal: 6.25s\tremaining: 3.55s\n",
      "638:\tlearn: 0.5630229\ttotal: 6.26s\tremaining: 3.54s\n",
      "639:\tlearn: 0.5629818\ttotal: 6.27s\tremaining: 3.53s\n",
      "640:\tlearn: 0.5628476\ttotal: 6.28s\tremaining: 3.52s\n",
      "641:\tlearn: 0.5627768\ttotal: 6.29s\tremaining: 3.51s\n",
      "642:\tlearn: 0.5627179\ttotal: 6.3s\tremaining: 3.5s\n",
      "643:\tlearn: 0.5626012\ttotal: 6.3s\tremaining: 3.48s\n",
      "644:\tlearn: 0.5624923\ttotal: 6.32s\tremaining: 3.48s\n",
      "645:\tlearn: 0.5624084\ttotal: 6.33s\tremaining: 3.47s\n",
      "646:\tlearn: 0.5623066\ttotal: 6.33s\tremaining: 3.46s\n",
      "647:\tlearn: 0.5622605\ttotal: 6.34s\tremaining: 3.44s\n",
      "648:\tlearn: 0.5622061\ttotal: 6.35s\tremaining: 3.43s\n",
      "649:\tlearn: 0.5621174\ttotal: 6.36s\tremaining: 3.42s\n",
      "650:\tlearn: 0.5620735\ttotal: 6.36s\tremaining: 3.41s\n",
      "651:\tlearn: 0.5619836\ttotal: 6.37s\tremaining: 3.4s\n",
      "652:\tlearn: 0.5619209\ttotal: 6.38s\tremaining: 3.39s\n",
      "653:\tlearn: 0.5618320\ttotal: 6.39s\tremaining: 3.38s\n",
      "654:\tlearn: 0.5617612\ttotal: 6.39s\tremaining: 3.37s\n",
      "655:\tlearn: 0.5616883\ttotal: 6.4s\tremaining: 3.36s\n",
      "656:\tlearn: 0.5616085\ttotal: 6.41s\tremaining: 3.35s\n",
      "657:\tlearn: 0.5615012\ttotal: 6.42s\tremaining: 3.33s\n",
      "658:\tlearn: 0.5614589\ttotal: 6.42s\tremaining: 3.32s\n",
      "659:\tlearn: 0.5614244\ttotal: 6.43s\tremaining: 3.31s\n",
      "660:\tlearn: 0.5613378\ttotal: 6.44s\tremaining: 3.3s\n",
      "661:\tlearn: 0.5612721\ttotal: 6.45s\tremaining: 3.29s\n",
      "662:\tlearn: 0.5612216\ttotal: 6.46s\tremaining: 3.28s\n",
      "663:\tlearn: 0.5611105\ttotal: 6.47s\tremaining: 3.27s\n",
      "664:\tlearn: 0.5610223\ttotal: 6.47s\tremaining: 3.26s\n",
      "665:\tlearn: 0.5609901\ttotal: 6.48s\tremaining: 3.25s\n",
      "666:\tlearn: 0.5609161\ttotal: 6.49s\tremaining: 3.24s\n",
      "667:\tlearn: 0.5608323\ttotal: 6.5s\tremaining: 3.23s\n",
      "668:\tlearn: 0.5607328\ttotal: 6.51s\tremaining: 3.22s\n",
      "669:\tlearn: 0.5606267\ttotal: 6.51s\tremaining: 3.21s\n",
      "670:\tlearn: 0.5605680\ttotal: 6.52s\tremaining: 3.2s\n",
      "671:\tlearn: 0.5605248\ttotal: 6.54s\tremaining: 3.19s\n",
      "672:\tlearn: 0.5604684\ttotal: 6.57s\tremaining: 3.19s\n",
      "673:\tlearn: 0.5603486\ttotal: 6.59s\tremaining: 3.19s\n",
      "674:\tlearn: 0.5602943\ttotal: 6.6s\tremaining: 3.18s\n",
      "675:\tlearn: 0.5602419\ttotal: 6.61s\tremaining: 3.17s\n",
      "676:\tlearn: 0.5601558\ttotal: 6.62s\tremaining: 3.16s\n",
      "677:\tlearn: 0.5600918\ttotal: 6.62s\tremaining: 3.15s\n",
      "678:\tlearn: 0.5599904\ttotal: 6.63s\tremaining: 3.13s\n"
     ]
    },
    {
     "name": "stdout",
     "output_type": "stream",
     "text": [
      "679:\tlearn: 0.5599402\ttotal: 6.64s\tremaining: 3.13s\n",
      "680:\tlearn: 0.5598754\ttotal: 6.65s\tremaining: 3.12s\n",
      "681:\tlearn: 0.5598080\ttotal: 6.66s\tremaining: 3.1s\n",
      "682:\tlearn: 0.5597118\ttotal: 6.67s\tremaining: 3.1s\n",
      "683:\tlearn: 0.5596776\ttotal: 6.68s\tremaining: 3.08s\n",
      "684:\tlearn: 0.5596001\ttotal: 6.69s\tremaining: 3.07s\n",
      "685:\tlearn: 0.5595278\ttotal: 6.69s\tremaining: 3.06s\n",
      "686:\tlearn: 0.5594587\ttotal: 6.7s\tremaining: 3.05s\n",
      "687:\tlearn: 0.5594105\ttotal: 6.71s\tremaining: 3.04s\n",
      "688:\tlearn: 0.5593248\ttotal: 6.72s\tremaining: 3.03s\n",
      "689:\tlearn: 0.5592767\ttotal: 6.72s\tremaining: 3.02s\n",
      "690:\tlearn: 0.5591547\ttotal: 6.73s\tremaining: 3.01s\n",
      "691:\tlearn: 0.5590770\ttotal: 6.74s\tremaining: 3s\n",
      "692:\tlearn: 0.5590321\ttotal: 6.75s\tremaining: 2.99s\n",
      "693:\tlearn: 0.5589769\ttotal: 6.75s\tremaining: 2.98s\n",
      "694:\tlearn: 0.5589051\ttotal: 6.76s\tremaining: 2.97s\n",
      "695:\tlearn: 0.5588363\ttotal: 6.77s\tremaining: 2.96s\n",
      "696:\tlearn: 0.5587701\ttotal: 6.78s\tremaining: 2.95s\n",
      "697:\tlearn: 0.5587379\ttotal: 6.79s\tremaining: 2.94s\n",
      "698:\tlearn: 0.5586893\ttotal: 6.8s\tremaining: 2.93s\n",
      "699:\tlearn: 0.5586226\ttotal: 6.81s\tremaining: 2.92s\n",
      "700:\tlearn: 0.5585341\ttotal: 6.82s\tremaining: 2.91s\n",
      "701:\tlearn: 0.5584580\ttotal: 6.83s\tremaining: 2.9s\n",
      "702:\tlearn: 0.5583895\ttotal: 6.84s\tremaining: 2.89s\n",
      "703:\tlearn: 0.5583266\ttotal: 6.85s\tremaining: 2.88s\n",
      "704:\tlearn: 0.5582810\ttotal: 6.86s\tremaining: 2.87s\n",
      "705:\tlearn: 0.5582307\ttotal: 6.87s\tremaining: 2.86s\n",
      "706:\tlearn: 0.5581816\ttotal: 6.88s\tremaining: 2.85s\n",
      "707:\tlearn: 0.5581272\ttotal: 6.89s\tremaining: 2.84s\n",
      "708:\tlearn: 0.5580568\ttotal: 6.9s\tremaining: 2.83s\n",
      "709:\tlearn: 0.5579943\ttotal: 6.91s\tremaining: 2.82s\n",
      "710:\tlearn: 0.5579285\ttotal: 6.92s\tremaining: 2.81s\n",
      "711:\tlearn: 0.5578642\ttotal: 6.93s\tremaining: 2.8s\n",
      "712:\tlearn: 0.5578133\ttotal: 6.94s\tremaining: 2.79s\n",
      "713:\tlearn: 0.5577779\ttotal: 6.95s\tremaining: 2.78s\n",
      "714:\tlearn: 0.5577666\ttotal: 6.96s\tremaining: 2.77s\n",
      "715:\tlearn: 0.5576576\ttotal: 6.97s\tremaining: 2.77s\n",
      "716:\tlearn: 0.5576090\ttotal: 6.98s\tremaining: 2.75s\n",
      "717:\tlearn: 0.5575447\ttotal: 6.99s\tremaining: 2.75s\n",
      "718:\tlearn: 0.5574832\ttotal: 7s\tremaining: 2.74s\n",
      "719:\tlearn: 0.5574065\ttotal: 7.01s\tremaining: 2.73s\n",
      "720:\tlearn: 0.5573777\ttotal: 7.02s\tremaining: 2.72s\n",
      "721:\tlearn: 0.5573463\ttotal: 7.03s\tremaining: 2.71s\n",
      "722:\tlearn: 0.5572652\ttotal: 7.04s\tremaining: 2.7s\n",
      "723:\tlearn: 0.5572120\ttotal: 7.06s\tremaining: 2.69s\n",
      "724:\tlearn: 0.5571492\ttotal: 7.07s\tremaining: 2.68s\n",
      "725:\tlearn: 0.5571128\ttotal: 7.08s\tremaining: 2.67s\n",
      "726:\tlearn: 0.5570574\ttotal: 7.09s\tremaining: 2.66s\n",
      "727:\tlearn: 0.5570099\ttotal: 7.09s\tremaining: 2.65s\n",
      "728:\tlearn: 0.5569562\ttotal: 7.1s\tremaining: 2.64s\n",
      "729:\tlearn: 0.5569081\ttotal: 7.11s\tremaining: 2.63s\n",
      "730:\tlearn: 0.5568026\ttotal: 7.12s\tremaining: 2.62s\n",
      "731:\tlearn: 0.5567179\ttotal: 7.13s\tremaining: 2.61s\n",
      "732:\tlearn: 0.5566783\ttotal: 7.14s\tremaining: 2.6s\n",
      "733:\tlearn: 0.5565903\ttotal: 7.15s\tremaining: 2.59s\n",
      "734:\tlearn: 0.5564638\ttotal: 7.16s\tremaining: 2.58s\n",
      "735:\tlearn: 0.5564216\ttotal: 7.17s\tremaining: 2.57s\n",
      "736:\tlearn: 0.5563950\ttotal: 7.17s\tremaining: 2.56s\n",
      "737:\tlearn: 0.5563366\ttotal: 7.18s\tremaining: 2.55s\n",
      "738:\tlearn: 0.5562515\ttotal: 7.19s\tremaining: 2.54s\n",
      "739:\tlearn: 0.5561520\ttotal: 7.2s\tremaining: 2.53s\n",
      "740:\tlearn: 0.5560902\ttotal: 7.21s\tremaining: 2.52s\n",
      "741:\tlearn: 0.5560347\ttotal: 7.22s\tremaining: 2.51s\n",
      "742:\tlearn: 0.5559726\ttotal: 7.23s\tremaining: 2.5s\n",
      "743:\tlearn: 0.5559117\ttotal: 7.24s\tremaining: 2.49s\n",
      "744:\tlearn: 0.5558580\ttotal: 7.25s\tremaining: 2.48s\n",
      "745:\tlearn: 0.5558228\ttotal: 7.26s\tremaining: 2.47s\n",
      "746:\tlearn: 0.5557485\ttotal: 7.27s\tremaining: 2.46s\n",
      "747:\tlearn: 0.5556862\ttotal: 7.28s\tremaining: 2.45s\n",
      "748:\tlearn: 0.5556264\ttotal: 7.29s\tremaining: 2.44s\n",
      "749:\tlearn: 0.5555533\ttotal: 7.3s\tremaining: 2.43s\n",
      "750:\tlearn: 0.5554739\ttotal: 7.31s\tremaining: 2.42s\n",
      "751:\tlearn: 0.5553611\ttotal: 7.32s\tremaining: 2.41s\n",
      "752:\tlearn: 0.5553048\ttotal: 7.33s\tremaining: 2.4s\n",
      "753:\tlearn: 0.5552049\ttotal: 7.34s\tremaining: 2.39s\n",
      "754:\tlearn: 0.5550854\ttotal: 7.35s\tremaining: 2.38s\n",
      "755:\tlearn: 0.5550384\ttotal: 7.36s\tremaining: 2.38s\n",
      "756:\tlearn: 0.5550003\ttotal: 7.37s\tremaining: 2.37s\n",
      "757:\tlearn: 0.5549519\ttotal: 7.38s\tremaining: 2.36s\n",
      "758:\tlearn: 0.5548796\ttotal: 7.39s\tremaining: 2.35s\n",
      "759:\tlearn: 0.5548375\ttotal: 7.4s\tremaining: 2.33s\n",
      "760:\tlearn: 0.5548051\ttotal: 7.4s\tremaining: 2.33s\n",
      "761:\tlearn: 0.5547536\ttotal: 7.41s\tremaining: 2.31s\n",
      "762:\tlearn: 0.5546285\ttotal: 7.42s\tremaining: 2.3s\n",
      "763:\tlearn: 0.5545848\ttotal: 7.43s\tremaining: 2.29s\n",
      "764:\tlearn: 0.5545279\ttotal: 7.43s\tremaining: 2.28s\n",
      "765:\tlearn: 0.5544665\ttotal: 7.44s\tremaining: 2.27s\n",
      "766:\tlearn: 0.5544040\ttotal: 7.45s\tremaining: 2.26s\n",
      "767:\tlearn: 0.5543508\ttotal: 7.46s\tremaining: 2.25s\n",
      "768:\tlearn: 0.5543010\ttotal: 7.47s\tremaining: 2.24s\n",
      "769:\tlearn: 0.5542337\ttotal: 7.48s\tremaining: 2.23s\n",
      "770:\tlearn: 0.5541680\ttotal: 7.49s\tremaining: 2.22s\n",
      "771:\tlearn: 0.5541345\ttotal: 7.5s\tremaining: 2.21s\n",
      "772:\tlearn: 0.5540468\ttotal: 7.5s\tremaining: 2.2s\n",
      "773:\tlearn: 0.5539784\ttotal: 7.51s\tremaining: 2.19s\n",
      "774:\tlearn: 0.5539237\ttotal: 7.52s\tremaining: 2.18s\n",
      "775:\tlearn: 0.5538620\ttotal: 7.53s\tremaining: 2.17s\n",
      "776:\tlearn: 0.5537956\ttotal: 7.54s\tremaining: 2.16s\n",
      "777:\tlearn: 0.5537615\ttotal: 7.54s\tremaining: 2.15s\n",
      "778:\tlearn: 0.5537324\ttotal: 7.55s\tremaining: 2.14s\n",
      "779:\tlearn: 0.5536710\ttotal: 7.56s\tremaining: 2.13s\n",
      "780:\tlearn: 0.5536004\ttotal: 7.57s\tremaining: 2.12s\n",
      "781:\tlearn: 0.5535248\ttotal: 7.57s\tremaining: 2.11s\n",
      "782:\tlearn: 0.5534692\ttotal: 7.58s\tremaining: 2.1s\n",
      "783:\tlearn: 0.5533939\ttotal: 7.59s\tremaining: 2.09s\n",
      "784:\tlearn: 0.5532969\ttotal: 7.6s\tremaining: 2.08s\n",
      "785:\tlearn: 0.5532148\ttotal: 7.61s\tremaining: 2.07s\n",
      "786:\tlearn: 0.5531509\ttotal: 7.61s\tremaining: 2.06s\n",
      "787:\tlearn: 0.5530933\ttotal: 7.62s\tremaining: 2.05s\n",
      "788:\tlearn: 0.5530156\ttotal: 7.63s\tremaining: 2.04s\n",
      "789:\tlearn: 0.5529251\ttotal: 7.65s\tremaining: 2.03s\n",
      "790:\tlearn: 0.5528644\ttotal: 7.67s\tremaining: 2.02s\n",
      "791:\tlearn: 0.5527704\ttotal: 7.68s\tremaining: 2.02s\n",
      "792:\tlearn: 0.5527359\ttotal: 7.68s\tremaining: 2.01s\n",
      "793:\tlearn: 0.5527005\ttotal: 7.7s\tremaining: 2s\n",
      "794:\tlearn: 0.5526267\ttotal: 7.7s\tremaining: 1.99s\n",
      "795:\tlearn: 0.5525387\ttotal: 7.71s\tremaining: 1.98s\n",
      "796:\tlearn: 0.5524959\ttotal: 7.72s\tremaining: 1.97s\n",
      "797:\tlearn: 0.5524037\ttotal: 7.73s\tremaining: 1.96s\n",
      "798:\tlearn: 0.5523628\ttotal: 7.74s\tremaining: 1.95s\n",
      "799:\tlearn: 0.5522912\ttotal: 7.75s\tremaining: 1.94s\n",
      "800:\tlearn: 0.5522283\ttotal: 7.76s\tremaining: 1.93s\n",
      "801:\tlearn: 0.5521624\ttotal: 7.76s\tremaining: 1.92s\n",
      "802:\tlearn: 0.5520883\ttotal: 7.77s\tremaining: 1.91s\n",
      "803:\tlearn: 0.5519949\ttotal: 7.78s\tremaining: 1.9s\n",
      "804:\tlearn: 0.5519273\ttotal: 7.79s\tremaining: 1.89s\n",
      "805:\tlearn: 0.5518510\ttotal: 7.8s\tremaining: 1.88s\n",
      "806:\tlearn: 0.5517828\ttotal: 7.81s\tremaining: 1.87s\n",
      "807:\tlearn: 0.5517477\ttotal: 7.82s\tremaining: 1.86s\n",
      "808:\tlearn: 0.5516882\ttotal: 7.82s\tremaining: 1.85s\n",
      "809:\tlearn: 0.5516421\ttotal: 7.83s\tremaining: 1.84s\n",
      "810:\tlearn: 0.5515856\ttotal: 7.84s\tremaining: 1.83s\n",
      "811:\tlearn: 0.5515195\ttotal: 7.85s\tremaining: 1.82s\n",
      "812:\tlearn: 0.5514859\ttotal: 7.86s\tremaining: 1.81s\n",
      "813:\tlearn: 0.5514386\ttotal: 7.87s\tremaining: 1.8s\n",
      "814:\tlearn: 0.5513946\ttotal: 7.88s\tremaining: 1.79s\n",
      "815:\tlearn: 0.5513419\ttotal: 7.89s\tremaining: 1.78s\n",
      "816:\tlearn: 0.5513239\ttotal: 7.9s\tremaining: 1.77s\n",
      "817:\tlearn: 0.5512703\ttotal: 7.91s\tremaining: 1.76s\n",
      "818:\tlearn: 0.5512183\ttotal: 7.92s\tremaining: 1.75s\n",
      "819:\tlearn: 0.5511240\ttotal: 7.93s\tremaining: 1.74s\n",
      "820:\tlearn: 0.5510553\ttotal: 7.94s\tremaining: 1.73s\n",
      "821:\tlearn: 0.5509716\ttotal: 7.95s\tremaining: 1.72s\n",
      "822:\tlearn: 0.5509034\ttotal: 7.96s\tremaining: 1.71s\n",
      "823:\tlearn: 0.5508479\ttotal: 7.97s\tremaining: 1.7s\n",
      "824:\tlearn: 0.5507934\ttotal: 7.98s\tremaining: 1.69s\n",
      "825:\tlearn: 0.5507163\ttotal: 7.99s\tremaining: 1.68s\n",
      "826:\tlearn: 0.5506410\ttotal: 8s\tremaining: 1.67s\n",
      "827:\tlearn: 0.5505578\ttotal: 8s\tremaining: 1.66s\n",
      "828:\tlearn: 0.5504892\ttotal: 8.01s\tremaining: 1.65s\n",
      "829:\tlearn: 0.5504078\ttotal: 8.02s\tremaining: 1.64s\n",
      "830:\tlearn: 0.5503551\ttotal: 8.03s\tremaining: 1.63s\n",
      "831:\tlearn: 0.5503096\ttotal: 8.04s\tremaining: 1.62s\n",
      "832:\tlearn: 0.5502188\ttotal: 8.05s\tremaining: 1.61s\n",
      "833:\tlearn: 0.5501385\ttotal: 8.06s\tremaining: 1.6s\n",
      "834:\tlearn: 0.5500739\ttotal: 8.07s\tremaining: 1.59s\n",
      "835:\tlearn: 0.5500308\ttotal: 8.07s\tremaining: 1.58s\n",
      "836:\tlearn: 0.5499816\ttotal: 8.08s\tremaining: 1.57s\n",
      "837:\tlearn: 0.5499306\ttotal: 8.09s\tremaining: 1.56s\n",
      "838:\tlearn: 0.5498696\ttotal: 8.1s\tremaining: 1.55s\n",
      "839:\tlearn: 0.5498240\ttotal: 8.11s\tremaining: 1.54s\n",
      "840:\tlearn: 0.5497798\ttotal: 8.12s\tremaining: 1.53s\n",
      "841:\tlearn: 0.5497350\ttotal: 8.12s\tremaining: 1.52s\n",
      "842:\tlearn: 0.5497005\ttotal: 8.13s\tremaining: 1.51s\n",
      "843:\tlearn: 0.5496369\ttotal: 8.14s\tremaining: 1.5s\n",
      "844:\tlearn: 0.5495723\ttotal: 8.15s\tremaining: 1.49s\n",
      "845:\tlearn: 0.5495269\ttotal: 8.16s\tremaining: 1.48s\n",
      "846:\tlearn: 0.5494651\ttotal: 8.16s\tremaining: 1.47s\n",
      "847:\tlearn: 0.5494128\ttotal: 8.17s\tremaining: 1.46s\n",
      "848:\tlearn: 0.5493397\ttotal: 8.18s\tremaining: 1.46s\n",
      "849:\tlearn: 0.5492972\ttotal: 8.19s\tremaining: 1.45s\n",
      "850:\tlearn: 0.5492423\ttotal: 8.2s\tremaining: 1.44s\n",
      "851:\tlearn: 0.5491161\ttotal: 8.21s\tremaining: 1.43s\n",
      "852:\tlearn: 0.5490666\ttotal: 8.22s\tremaining: 1.42s\n",
      "853:\tlearn: 0.5490016\ttotal: 8.23s\tremaining: 1.41s\n",
      "854:\tlearn: 0.5489084\ttotal: 8.24s\tremaining: 1.4s\n"
     ]
    },
    {
     "name": "stdout",
     "output_type": "stream",
     "text": [
      "855:\tlearn: 0.5488269\ttotal: 8.25s\tremaining: 1.39s\n",
      "856:\tlearn: 0.5487857\ttotal: 8.26s\tremaining: 1.38s\n",
      "857:\tlearn: 0.5487263\ttotal: 8.27s\tremaining: 1.37s\n",
      "858:\tlearn: 0.5486285\ttotal: 8.28s\tremaining: 1.36s\n",
      "859:\tlearn: 0.5485558\ttotal: 8.29s\tremaining: 1.35s\n",
      "860:\tlearn: 0.5484853\ttotal: 8.3s\tremaining: 1.34s\n",
      "861:\tlearn: 0.5483895\ttotal: 8.31s\tremaining: 1.33s\n",
      "862:\tlearn: 0.5483433\ttotal: 8.32s\tremaining: 1.32s\n",
      "863:\tlearn: 0.5482879\ttotal: 8.32s\tremaining: 1.31s\n",
      "864:\tlearn: 0.5482196\ttotal: 8.33s\tremaining: 1.3s\n",
      "865:\tlearn: 0.5481378\ttotal: 8.34s\tremaining: 1.29s\n",
      "866:\tlearn: 0.5480648\ttotal: 8.35s\tremaining: 1.28s\n",
      "867:\tlearn: 0.5480352\ttotal: 8.36s\tremaining: 1.27s\n",
      "868:\tlearn: 0.5479554\ttotal: 8.36s\tremaining: 1.26s\n",
      "869:\tlearn: 0.5478653\ttotal: 8.37s\tremaining: 1.25s\n",
      "870:\tlearn: 0.5478126\ttotal: 8.38s\tremaining: 1.24s\n",
      "871:\tlearn: 0.5477490\ttotal: 8.39s\tremaining: 1.23s\n",
      "872:\tlearn: 0.5477093\ttotal: 8.39s\tremaining: 1.22s\n",
      "873:\tlearn: 0.5476106\ttotal: 8.4s\tremaining: 1.21s\n",
      "874:\tlearn: 0.5475981\ttotal: 8.41s\tremaining: 1.2s\n",
      "875:\tlearn: 0.5475138\ttotal: 8.42s\tremaining: 1.19s\n",
      "876:\tlearn: 0.5474556\ttotal: 8.43s\tremaining: 1.18s\n",
      "877:\tlearn: 0.5474176\ttotal: 8.43s\tremaining: 1.17s\n",
      "878:\tlearn: 0.5473306\ttotal: 8.44s\tremaining: 1.16s\n",
      "879:\tlearn: 0.5472499\ttotal: 8.45s\tremaining: 1.15s\n",
      "880:\tlearn: 0.5471947\ttotal: 8.46s\tremaining: 1.14s\n",
      "881:\tlearn: 0.5471178\ttotal: 8.47s\tremaining: 1.13s\n",
      "882:\tlearn: 0.5470846\ttotal: 8.48s\tremaining: 1.12s\n",
      "883:\tlearn: 0.5470070\ttotal: 8.48s\tremaining: 1.11s\n",
      "884:\tlearn: 0.5469444\ttotal: 8.49s\tremaining: 1.1s\n",
      "885:\tlearn: 0.5468939\ttotal: 8.5s\tremaining: 1.09s\n",
      "886:\tlearn: 0.5467799\ttotal: 8.51s\tremaining: 1.08s\n",
      "887:\tlearn: 0.5467246\ttotal: 8.52s\tremaining: 1.07s\n",
      "888:\tlearn: 0.5466516\ttotal: 8.53s\tremaining: 1.06s\n",
      "889:\tlearn: 0.5466166\ttotal: 8.54s\tremaining: 1.05s\n",
      "890:\tlearn: 0.5465485\ttotal: 8.55s\tremaining: 1.05s\n",
      "891:\tlearn: 0.5464964\ttotal: 8.56s\tremaining: 1.04s\n",
      "892:\tlearn: 0.5464335\ttotal: 8.57s\tremaining: 1.03s\n",
      "893:\tlearn: 0.5463888\ttotal: 8.58s\tremaining: 1.02s\n",
      "894:\tlearn: 0.5463818\ttotal: 8.59s\tremaining: 1.01s\n",
      "895:\tlearn: 0.5463564\ttotal: 8.6s\tremaining: 998ms\n",
      "896:\tlearn: 0.5463037\ttotal: 8.61s\tremaining: 989ms\n",
      "897:\tlearn: 0.5462760\ttotal: 8.62s\tremaining: 979ms\n",
      "898:\tlearn: 0.5462437\ttotal: 8.63s\tremaining: 970ms\n",
      "899:\tlearn: 0.5461734\ttotal: 8.64s\tremaining: 960ms\n",
      "900:\tlearn: 0.5461320\ttotal: 8.66s\tremaining: 951ms\n",
      "901:\tlearn: 0.5460866\ttotal: 8.67s\tremaining: 942ms\n",
      "902:\tlearn: 0.5460245\ttotal: 8.68s\tremaining: 932ms\n",
      "903:\tlearn: 0.5459427\ttotal: 8.69s\tremaining: 923ms\n",
      "904:\tlearn: 0.5458485\ttotal: 8.7s\tremaining: 913ms\n",
      "905:\tlearn: 0.5458148\ttotal: 8.71s\tremaining: 904ms\n",
      "906:\tlearn: 0.5457601\ttotal: 8.72s\tremaining: 894ms\n",
      "907:\tlearn: 0.5457377\ttotal: 8.73s\tremaining: 884ms\n",
      "908:\tlearn: 0.5456676\ttotal: 8.73s\tremaining: 875ms\n",
      "909:\tlearn: 0.5456153\ttotal: 8.74s\tremaining: 865ms\n",
      "910:\tlearn: 0.5455384\ttotal: 8.75s\tremaining: 855ms\n",
      "911:\tlearn: 0.5455090\ttotal: 8.76s\tremaining: 845ms\n",
      "912:\tlearn: 0.5454463\ttotal: 8.77s\tremaining: 836ms\n",
      "913:\tlearn: 0.5454051\ttotal: 8.78s\tremaining: 826ms\n",
      "914:\tlearn: 0.5453690\ttotal: 8.78s\tremaining: 816ms\n",
      "915:\tlearn: 0.5453164\ttotal: 8.79s\tremaining: 806ms\n",
      "916:\tlearn: 0.5452520\ttotal: 8.8s\tremaining: 797ms\n",
      "917:\tlearn: 0.5452177\ttotal: 8.81s\tremaining: 787ms\n",
      "918:\tlearn: 0.5451207\ttotal: 8.81s\tremaining: 777ms\n",
      "919:\tlearn: 0.5450695\ttotal: 8.82s\tremaining: 767ms\n",
      "920:\tlearn: 0.5450409\ttotal: 8.83s\tremaining: 757ms\n",
      "921:\tlearn: 0.5449916\ttotal: 8.84s\tremaining: 748ms\n",
      "922:\tlearn: 0.5449417\ttotal: 8.85s\tremaining: 738ms\n",
      "923:\tlearn: 0.5447927\ttotal: 8.85s\tremaining: 728ms\n",
      "924:\tlearn: 0.5447179\ttotal: 8.86s\tremaining: 719ms\n",
      "925:\tlearn: 0.5446326\ttotal: 8.87s\tremaining: 709ms\n",
      "926:\tlearn: 0.5444988\ttotal: 8.88s\tremaining: 699ms\n",
      "927:\tlearn: 0.5444554\ttotal: 8.89s\tremaining: 690ms\n",
      "928:\tlearn: 0.5443456\ttotal: 8.9s\tremaining: 680ms\n",
      "929:\tlearn: 0.5442742\ttotal: 8.9s\tremaining: 670ms\n",
      "930:\tlearn: 0.5442332\ttotal: 8.91s\tremaining: 661ms\n",
      "931:\tlearn: 0.5441639\ttotal: 8.92s\tremaining: 651ms\n",
      "932:\tlearn: 0.5441417\ttotal: 8.93s\tremaining: 641ms\n",
      "933:\tlearn: 0.5441011\ttotal: 8.94s\tremaining: 632ms\n",
      "934:\tlearn: 0.5440289\ttotal: 8.95s\tremaining: 622ms\n",
      "935:\tlearn: 0.5439552\ttotal: 8.95s\tremaining: 612ms\n",
      "936:\tlearn: 0.5439272\ttotal: 8.96s\tremaining: 602ms\n",
      "937:\tlearn: 0.5438591\ttotal: 8.97s\tremaining: 593ms\n",
      "938:\tlearn: 0.5438146\ttotal: 8.98s\tremaining: 583ms\n",
      "939:\tlearn: 0.5437590\ttotal: 8.98s\tremaining: 573ms\n",
      "940:\tlearn: 0.5437276\ttotal: 8.99s\tremaining: 564ms\n",
      "941:\tlearn: 0.5436442\ttotal: 9s\tremaining: 554ms\n",
      "942:\tlearn: 0.5436062\ttotal: 9.01s\tremaining: 545ms\n",
      "943:\tlearn: 0.5435467\ttotal: 9.03s\tremaining: 536ms\n",
      "944:\tlearn: 0.5435075\ttotal: 9.04s\tremaining: 526ms\n",
      "945:\tlearn: 0.5434329\ttotal: 9.05s\tremaining: 517ms\n",
      "946:\tlearn: 0.5433981\ttotal: 9.06s\tremaining: 507ms\n",
      "947:\tlearn: 0.5433740\ttotal: 9.07s\tremaining: 498ms\n",
      "948:\tlearn: 0.5433392\ttotal: 9.08s\tremaining: 488ms\n",
      "949:\tlearn: 0.5432849\ttotal: 9.09s\tremaining: 478ms\n",
      "950:\tlearn: 0.5432217\ttotal: 9.1s\tremaining: 469ms\n",
      "951:\tlearn: 0.5431783\ttotal: 9.11s\tremaining: 459ms\n",
      "952:\tlearn: 0.5431514\ttotal: 9.11s\tremaining: 449ms\n",
      "953:\tlearn: 0.5430684\ttotal: 9.12s\tremaining: 440ms\n",
      "954:\tlearn: 0.5429861\ttotal: 9.13s\tremaining: 430ms\n",
      "955:\tlearn: 0.5429519\ttotal: 9.14s\tremaining: 421ms\n",
      "956:\tlearn: 0.5428630\ttotal: 9.14s\tremaining: 411ms\n",
      "957:\tlearn: 0.5428154\ttotal: 9.15s\tremaining: 401ms\n",
      "958:\tlearn: 0.5427562\ttotal: 9.16s\tremaining: 392ms\n",
      "959:\tlearn: 0.5427329\ttotal: 9.17s\tremaining: 382ms\n",
      "960:\tlearn: 0.5427030\ttotal: 9.18s\tremaining: 372ms\n",
      "961:\tlearn: 0.5426568\ttotal: 9.19s\tremaining: 363ms\n",
      "962:\tlearn: 0.5426013\ttotal: 9.19s\tremaining: 353ms\n",
      "963:\tlearn: 0.5424996\ttotal: 9.2s\tremaining: 344ms\n",
      "964:\tlearn: 0.5424242\ttotal: 9.21s\tremaining: 334ms\n",
      "965:\tlearn: 0.5423568\ttotal: 9.22s\tremaining: 324ms\n",
      "966:\tlearn: 0.5422809\ttotal: 9.22s\tremaining: 315ms\n",
      "967:\tlearn: 0.5422573\ttotal: 9.23s\tremaining: 305ms\n",
      "968:\tlearn: 0.5422068\ttotal: 9.24s\tremaining: 296ms\n",
      "969:\tlearn: 0.5421805\ttotal: 9.25s\tremaining: 286ms\n",
      "970:\tlearn: 0.5421300\ttotal: 9.26s\tremaining: 277ms\n",
      "971:\tlearn: 0.5420869\ttotal: 9.27s\tremaining: 267ms\n",
      "972:\tlearn: 0.5419878\ttotal: 9.27s\tremaining: 257ms\n",
      "973:\tlearn: 0.5419467\ttotal: 9.28s\tremaining: 248ms\n",
      "974:\tlearn: 0.5418895\ttotal: 9.29s\tremaining: 238ms\n",
      "975:\tlearn: 0.5418484\ttotal: 9.3s\tremaining: 229ms\n",
      "976:\tlearn: 0.5418131\ttotal: 9.3s\tremaining: 219ms\n",
      "977:\tlearn: 0.5417152\ttotal: 9.31s\tremaining: 210ms\n",
      "978:\tlearn: 0.5416911\ttotal: 9.32s\tremaining: 200ms\n",
      "979:\tlearn: 0.5416398\ttotal: 9.33s\tremaining: 190ms\n",
      "980:\tlearn: 0.5416143\ttotal: 9.34s\tremaining: 181ms\n",
      "981:\tlearn: 0.5415585\ttotal: 9.35s\tremaining: 171ms\n",
      "982:\tlearn: 0.5414903\ttotal: 9.35s\tremaining: 162ms\n",
      "983:\tlearn: 0.5414156\ttotal: 9.36s\tremaining: 152ms\n",
      "984:\tlearn: 0.5413507\ttotal: 9.37s\tremaining: 143ms\n",
      "985:\tlearn: 0.5412961\ttotal: 9.38s\tremaining: 133ms\n",
      "986:\tlearn: 0.5412142\ttotal: 9.39s\tremaining: 124ms\n",
      "987:\tlearn: 0.5411691\ttotal: 9.4s\tremaining: 114ms\n",
      "988:\tlearn: 0.5411366\ttotal: 9.4s\tremaining: 105ms\n",
      "989:\tlearn: 0.5410612\ttotal: 9.41s\tremaining: 95.1ms\n",
      "990:\tlearn: 0.5410476\ttotal: 9.42s\tremaining: 85.6ms\n",
      "991:\tlearn: 0.5410078\ttotal: 9.43s\tremaining: 76.1ms\n",
      "992:\tlearn: 0.5409202\ttotal: 9.44s\tremaining: 66.6ms\n",
      "993:\tlearn: 0.5408648\ttotal: 9.46s\tremaining: 57.1ms\n",
      "994:\tlearn: 0.5408149\ttotal: 9.47s\tremaining: 47.6ms\n",
      "995:\tlearn: 0.5407313\ttotal: 9.48s\tremaining: 38.1ms\n",
      "996:\tlearn: 0.5406848\ttotal: 9.49s\tremaining: 28.5ms\n",
      "997:\tlearn: 0.5406426\ttotal: 9.5s\tremaining: 19ms\n",
      "998:\tlearn: 0.5405862\ttotal: 9.51s\tremaining: 9.52ms\n",
      "999:\tlearn: 0.5405536\ttotal: 9.52s\tremaining: 0us\n"
     ]
    }
   ],
   "source": [
    "model8=CatBoostClassifier()\n",
    "model8.fit(x_train_scaled, y_train.map(int))\n",
    "y_pred8 = model8.predict(x_test_scaled)"
   ]
  },
  {
   "cell_type": "code",
   "execution_count": 89,
   "metadata": {},
   "outputs": [
    {
     "name": "stdout",
     "output_type": "stream",
     "text": [
      "0.6666666666666666\n",
      "0.6675684815691579\n",
      "0.6590984974958264\n"
     ]
    }
   ],
   "source": [
    "print(accuracy_score(y_test, y_pred8))\n",
    "print(precision_score(y_test, y_pred8))\n",
    "print(recall_score(y_test, y_pred8))\n",
    "prob_8 = model8.predict_proba(x_test_scaled)"
   ]
  },
  {
   "cell_type": "code",
   "execution_count": 90,
   "metadata": {},
   "outputs": [
    {
     "name": "stdout",
     "output_type": "stream",
     "text": [
      "              precision    recall  f1-score   support\n",
      "\n",
      "           0       0.67      0.67      0.67      3017\n",
      "           1       0.67      0.66      0.66      2995\n",
      "\n",
      "    accuracy                           0.67      6012\n",
      "   macro avg       0.67      0.67      0.67      6012\n",
      "weighted avg       0.67      0.67      0.67      6012\n",
      "\n"
     ]
    }
   ],
   "source": [
    "print(classification_report(y_test, y_pred8))"
   ]
  },
  {
   "cell_type": "markdown",
   "metadata": {},
   "source": [
    "# Feature Importance"
   ]
  },
  {
   "cell_type": "code",
   "execution_count": 91,
   "metadata": {},
   "outputs": [
    {
     "data": {
      "text/plain": [
       "<matplotlib.axes._subplots.AxesSubplot at 0x7fc996bb1d90>"
      ]
     },
     "execution_count": 91,
     "metadata": {},
     "output_type": "execute_result"
    },
    {
     "data": {
      "image/png": "[encoded data removed]",
      "text/plain": [
       "<Figure size 1200x800 with 1 Axes>"
      ]
     },
     "metadata": {
      "needs_background": "light"
     },
     "output_type": "display_data"
    }
   ],
   "source": [
    "pd.Series(model8.feature_importances_, index=x_train.columns).sort_values().plot.barh()"
   ]
  },
  {
   "cell_type": "markdown",
   "metadata": {},
   "source": [
    "### Model 9 XGBoost "
   ]
  },
  {
   "cell_type": "code",
   "execution_count": 92,
   "metadata": {},
   "outputs": [
    {
     "name": "stderr",
     "output_type": "stream",
     "text": [
      "/Library/Frameworks/Python.framework/Versions/3.7/lib/python3.7/site-packages/xgboost/sklearn.py:888: UserWarning: The use of label encoder in XGBClassifier is deprecated and will be removed in a future release. To remove this warning, do the following: 1) Pass option use_label_encoder=False when constructing XGBClassifier object; and 2) Encode your labels (y) as integers starting with 0, i.e. 0, 1, 2, ..., [num_class - 1].\n",
      "  warnings.warn(label_encoder_deprecation_msg, UserWarning)\n"
     ]
    },
    {
     "name": "stdout",
     "output_type": "stream",
     "text": [
      "[17:45:28] WARNING: /Users/travis/build/dmlc/xgboost/src/learner.cc:1061: Starting in XGBoost 1.3.0, the default evaluation metric used with the objective 'binary:logistic' was changed from 'error' to 'logloss'. Explicitly set eval_metric if you'd like to restore the old behavior.\n"
     ]
    }
   ],
   "source": [
    "model9=XGBClassifier()\n",
    "model9.fit(x_train_scaled, y_train)\n",
    "y_pred9 = model9.predict(x_test_scaled)"
   ]
  },
  {
   "cell_type": "code",
   "execution_count": 93,
   "metadata": {},
   "outputs": [
    {
     "name": "stdout",
     "output_type": "stream",
     "text": [
      "0.656187624750499\n",
      "0.6546666666666666\n",
      "0.6557595993322204\n"
     ]
    }
   ],
   "source": [
    "print(accuracy_score(y_test, y_pred9))\n",
    "print(precision_score(y_test, y_pred9))\n",
    "print(recall_score(y_test, y_pred9))\n",
    "prob_9 = model9.predict_proba(x_test_scaled)"
   ]
  },
  {
   "cell_type": "code",
   "execution_count": 94,
   "metadata": {},
   "outputs": [
    {
     "name": "stdout",
     "output_type": "stream",
     "text": [
      "              precision    recall  f1-score   support\n",
      "\n",
      "           0       0.66      0.66      0.66      3017\n",
      "           1       0.65      0.66      0.66      2995\n",
      "\n",
      "    accuracy                           0.66      6012\n",
      "   macro avg       0.66      0.66      0.66      6012\n",
      "weighted avg       0.66      0.66      0.66      6012\n",
      "\n"
     ]
    }
   ],
   "source": [
    "print(classification_report(y_test, y_pred9))"
   ]
  },
  {
   "cell_type": "markdown",
   "metadata": {},
   "source": [
    "# Feature Importance"
   ]
  },
  {
   "cell_type": "code",
   "execution_count": 95,
   "metadata": {},
   "outputs": [
    {
     "data": {
      "text/plain": [
       "<matplotlib.axes._subplots.AxesSubplot at 0x7fc9af5bf610>"
      ]
     },
     "execution_count": 95,
     "metadata": {},
     "output_type": "execute_result"
    },
    {
     "data": {
      "image/png": "[encoded data removed]",
      "text/plain": [
       "<Figure size 1200x800 with 1 Axes>"
      ]
     },
     "metadata": {
      "needs_background": "light"
     },
     "output_type": "display_data"
    }
   ],
   "source": [
    "pd.Series(model9.feature_importances_, index=x_train.columns).sort_values().plot.barh()"
   ]
  },
  {
   "cell_type": "markdown",
   "metadata": {},
   "source": [
    "### Model 10 LGBM"
   ]
  },
  {
   "cell_type": "code",
   "execution_count": 96,
   "metadata": {},
   "outputs": [],
   "source": [
    "model10=LGBMClassifier()\n",
    "model10.fit(x_train_scaled, y_train)\n",
    "y_pred10 = model10.predict(x_test_scaled)"
   ]
  },
  {
   "cell_type": "code",
   "execution_count": 97,
   "metadata": {},
   "outputs": [
    {
     "name": "stdout",
     "output_type": "stream",
     "text": [
      "0.664836992681304\n",
      "0.6620370370370371\n",
      "0.6684474123539232\n"
     ]
    }
   ],
   "source": [
    "print(accuracy_score(y_test, y_pred10))\n",
    "print(precision_score(y_test, y_pred10))\n",
    "print(recall_score(y_test, y_pred10))\n",
    "prob_10 = model10.predict_proba(x_test_scaled)"
   ]
  },
  {
   "cell_type": "code",
   "execution_count": 98,
   "metadata": {},
   "outputs": [
    {
     "name": "stdout",
     "output_type": "stream",
     "text": [
      "              precision    recall  f1-score   support\n",
      "\n",
      "           0       0.67      0.66      0.66      3017\n",
      "           1       0.66      0.67      0.67      2995\n",
      "\n",
      "    accuracy                           0.66      6012\n",
      "   macro avg       0.66      0.66      0.66      6012\n",
      "weighted avg       0.66      0.66      0.66      6012\n",
      "\n"
     ]
    }
   ],
   "source": [
    "print(classification_report(y_test, y_pred10))"
   ]
  },
  {
   "cell_type": "markdown",
   "metadata": {},
   "source": [
    "# Feature Importance"
   ]
  },
  {
   "cell_type": "code",
   "execution_count": 99,
   "metadata": {},
   "outputs": [
    {
     "data": {
      "text/plain": [
       "<matplotlib.axes._subplots.AxesSubplot at 0x7fc9971dcb90>"
      ]
     },
     "execution_count": 99,
     "metadata": {},
     "output_type": "execute_result"
    },
    {
     "data": {
      "image/png": "[encoded data removed]",
      "text/plain": [
       "<Figure size 1200x800 with 1 Axes>"
      ]
     },
     "metadata": {
      "needs_background": "light"
     },
     "output_type": "display_data"
    }
   ],
   "source": [
    "pd.Series(model10.feature_importances_, index=x_train.columns).sort_values().plot.barh()"
   ]
  },
  {
   "cell_type": "markdown",
   "metadata": {},
   "source": [
    "# Model Comparison"
   ]
  },
  {
   "cell_type": "code",
   "execution_count": 100,
   "metadata": {},
   "outputs": [],
   "source": [
    "a, p, r, f = [], [], [], []\n",
    "for model in [model1,model2, model3, model4, model5, model6, model7, model8, model9, model10]:\n",
    "    a.append(accuracy_score(y_test, model.predict(x_test_scaled)))\n",
    "    p.append(precision_score(y_test, model.predict(x_test_scaled)))\n",
    "    r.append(recall_score(y_test, model.predict(x_test_scaled)))\n",
    "    f.append(f1_score(y_test, model.predict(x_test_scaled)))"
   ]
  },
  {
   "cell_type": "code",
   "execution_count": 101,
   "metadata": {},
   "outputs": [],
   "source": [
    "model_score = pd.DataFrame([a,p,r,f],\n",
    "             columns = ['LR',\n",
    "                        'KNN',\n",
    "                        'Gausssian',\n",
    "                        'SVS',\n",
    "                        'DT',\n",
    "                        'RF',\n",
    "                        'AdaB',\n",
    "                        'CatB',\n",
    "                        'XGB',\n",
    "                        'LGBM']).T.sort_values(by=3, ascending=False).rename(columns={0:'Accuracy', 1: 'Precision', 2: 'Recall', 3: 'F1',}).round(4) "
   ]
  },
  {
   "cell_type": "code",
   "execution_count": 102,
   "metadata": {},
   "outputs": [
    {
     "data": {
      "image/png": "[encoded data removed]",
      "text/plain": [
       "<Figure size 1000x1000 with 2 Axes>"
      ]
     },
     "metadata": {
      "needs_background": "light"
     },
     "output_type": "display_data"
    }
   ],
   "source": [
    "# Create a heatmap of the summary\n",
    "plt.figure(figsize= (10,10))\n",
    "sns.heatmap(model_score, annot=True, cmap = 'coolwarm')\n",
    "plt.show()"
   ]
  },
  {
   "cell_type": "code",
   "execution_count": 103,
   "metadata": {},
   "outputs": [],
   "source": [
    "#x_test_scaled # I dont know who is going to churn, but I want to know\n",
    "\n",
    "#x_test['prediction']=model10.predict(x_test_scaled)"
   ]
  },
  {
   "cell_type": "code",
   "execution_count": 104,
   "metadata": {},
   "outputs": [],
   "source": [
    "#x_test.sample(10)"
   ]
  },
  {
   "cell_type": "code",
   "execution_count": 105,
   "metadata": {},
   "outputs": [],
   "source": [
    "#model10.predict_proba(x_test_scaled)[:,1] "
   ]
  },
  {
   "cell_type": "markdown",
   "metadata": {},
   "source": [
    "## AUC-ROC curve "
   ]
  },
  {
   "cell_type": "code",
   "execution_count": 106,
   "metadata": {},
   "outputs": [],
   "source": [
    "from sklearn.metrics import roc_curve"
   ]
  },
  {
   "cell_type": "code",
   "execution_count": 107,
   "metadata": {},
   "outputs": [],
   "source": [
    "# roc curve for models\n",
    "fpr1, tpr1, thresh1 = roc_curve(y_test, prob_1[:,1], pos_label=1)\n",
    "fpr2, tpr2, thresh2 = roc_curve(y_test, prob_2[:,1], pos_label=1)\n",
    "fpr3, tpr3, thresh3 = roc_curve(y_test, prob_3[:,1], pos_label=1)\n",
    "fpr4, tpr4, thresh4 = roc_curve(y_test, prob_4[:,1], pos_label=1)\n",
    "fpr5, tpr5, thresh5 = roc_curve(y_test, prob_5[:,1], pos_label=1)\n",
    "fpr6, tpr6, thresh6 = roc_curve(y_test, prob_6[:,1], pos_label=1)\n",
    "fpr7, tpr7, thresh7 = roc_curve(y_test, prob_7[:,1], pos_label=1)\n",
    "fpr8, tpr8, thresh8 = roc_curve(y_test, prob_8[:,1], pos_label=1)\n",
    "fpr9, tpr9, thresh9 = roc_curve(y_test, prob_9[:,1], pos_label=1)\n",
    "fpr10, tpr10, thresh10 = roc_curve(y_test, prob_10[:,1], pos_label=1)\n",
    "\n",
    "# roc curve for tpr = fpr \n",
    "random_probs = [0 for i in range(len(y_test))]\n",
    "p_fpr, p_tpr, _ = roc_curve(y_test, random_probs, pos_label=1)"
   ]
  },
  {
   "cell_type": "code",
   "execution_count": 108,
   "metadata": {},
   "outputs": [
    {
     "name": "stdout",
     "output_type": "stream",
     "text": [
      "0.7245614306907491 0.7245614306907491 0.6720511979141017 0.7220967107370975 0.6144523271854594 0.7255057180152757 0.7166697561896057 0.7308646661682852 0.7220688773632775 0.7296366776358564\n"
     ]
    }
   ],
   "source": [
    "from sklearn.metrics import roc_auc_score\n",
    "\n",
    "# auc scores\n",
    "auc_score1 = roc_auc_score(y_test, prob_1[:,1])\n",
    "auc_score2 = roc_auc_score(y_test, prob_2[:,1])\n",
    "auc_score3 = roc_auc_score(y_test, prob_3[:,1])\n",
    "auc_score4 = roc_auc_score(y_test, prob_4[:,1])\n",
    "auc_score5 = roc_auc_score(y_test, prob_5[:,1])\n",
    "auc_score6 = roc_auc_score(y_test, prob_6[:,1])\n",
    "auc_score7 = roc_auc_score(y_test, prob_7[:,1])\n",
    "auc_score8 = roc_auc_score(y_test, prob_8[:,1])\n",
    "auc_score9 = roc_auc_score(y_test, prob_9[:,1])\n",
    "auc_score10 = roc_auc_score(y_test, prob_10[:,1])\n",
    "\n",
    "print(auc_score1, auc_score2,auc_score3, auc_score4, auc_score5, auc_score6, auc_score7, auc_score8, auc_score9, auc_score10)"
   ]
  },
  {
   "cell_type": "code",
   "execution_count": 109,
   "metadata": {},
   "outputs": [
    {
     "data": {
      "image/png": "[encoded data removed]",
      "text/plain": [
       "<Figure size 800x550 with 1 Axes>"
      ]
     },
     "metadata": {},
     "output_type": "display_data"
    }
   ],
   "source": [
    "# matplotlib\n",
    "import matplotlib.pyplot as plt\n",
    "plt.style.use('seaborn')\n",
    "\n",
    "# plot roc curves\n",
    "plt.plot(fpr1, tpr1, linestyle='--',color='orange', label='Logistic Regression')\n",
    "plt.plot(fpr2, tpr2, linestyle='--',color='green', label='KNN')\n",
    "plt.plot(fpr3, tpr3, linestyle='--',color='pink', label='Gausssian')\n",
    "plt.plot(fpr4, tpr4, linestyle='--',color='black', label='SVC')\n",
    "plt.plot(fpr5, tpr5, linestyle='--',color='red', label='DT')\n",
    "plt.plot(fpr6, tpr6, linestyle='--',color='yellow', label='RF')\n",
    "plt.plot(fpr7, tpr7, linestyle='--',color='deeppink', label='AdaB')\n",
    "plt.plot(fpr8, tpr8, linestyle='--',color='magenta', label='CatB')\n",
    "plt.plot(fpr9, tpr9, linestyle='--',color='violet', label='XGB')\n",
    "plt.plot(fpr10, tpr10, linestyle='--',color='firebrick', label='LGBM')\n",
    "plt.plot(p_fpr, p_tpr, linestyle='--', color='blue')\n",
    "# title\n",
    "plt.title('ROC curve')\n",
    "# x label\n",
    "plt.xlabel('False Positive Rate')\n",
    "# y label\n",
    "plt.ylabel('True Positive rate')\n",
    "\n",
    "plt.legend(loc='best')\n",
    "plt.savefig('ROC',dpi=300)\n",
    "plt.show();"
   ]
  },
  {
   "cell_type": "code",
   "execution_count": 110,
   "metadata": {},
   "outputs": [
    {
     "name": "stdout",
     "output_type": "stream",
     "text": [
      "0.7308646661682852\n"
     ]
    }
   ],
   "source": [
    "print(max(auc_score1, auc_score2,auc_score3, auc_score4, auc_score5, auc_score6, auc_score7, auc_score8, auc_score9, auc_score10))"
   ]
  },
  {
   "cell_type": "markdown",
   "metadata": {},
   "source": [
    "CatBoost model AUC score is the maximum score so, I will consider catBoost as a best predictor between all the other 9 models "
   ]
  },
  {
   "cell_type": "code",
   "execution_count": null,
   "metadata": {},
   "outputs": [],
   "source": []
  },
  {
   "cell_type": "code",
   "execution_count": null,
   "metadata": {},
   "outputs": [],
   "source": []
  }
 ],
 "metadata": {
  "kernelspec": {
   "display_name": "Python 3",
   "language": "python",
   "name": "python3"
  },
  "language_info": {
   "codemirror_mode": {
    "name": "ipython",
    "version": 3
   },
   "file_extension": ".py",
   "mimetype": "text/x-python",
   "name": "python",
   "nbconvert_exporter": "python",
   "pygments_lexer": "ipython3",
   "version": "3.7.6"
  }
 },
 "nbformat": 4,
 "nbformat_minor": 4
}
